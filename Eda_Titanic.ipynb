{
 "cells": [
  {
   "cell_type": "markdown",
   "metadata": {},
   "source": [
    "# **EDA On Titanic Dataset**"
   ]
  },
  {
   "cell_type": "markdown",
   "metadata": {},
   "source": [
    "## Import Libraries "
   ]
  },
  {
   "cell_type": "code",
   "execution_count": 90,
   "metadata": {},
   "outputs": [],
   "source": [
    "# Immport Library\n",
    "import pandas as pd\n",
    "import numpy as np\n",
    "import seaborn as sns \n",
    "import matplotlib.pyplot as plt\n",
    "import plotly.express as px"
   ]
  },
  {
   "cell_type": "markdown",
   "metadata": {},
   "source": [
    "## Load Dataset"
   ]
  },
  {
   "cell_type": "code",
   "execution_count": 91,
   "metadata": {},
   "outputs": [],
   "source": [
    "# Load Data\n",
    "df = sns.load_dataset(\"titanic\")"
   ]
  },
  {
   "cell_type": "markdown",
   "metadata": {},
   "source": [
    "## Head Of Data"
   ]
  },
  {
   "cell_type": "code",
   "execution_count": 92,
   "metadata": {},
   "outputs": [
    {
     "data": {
      "text/html": [
       "<div>\n",
       "<style scoped>\n",
       "    .dataframe tbody tr th:only-of-type {\n",
       "        vertical-align: middle;\n",
       "    }\n",
       "\n",
       "    .dataframe tbody tr th {\n",
       "        vertical-align: top;\n",
       "    }\n",
       "\n",
       "    .dataframe thead th {\n",
       "        text-align: right;\n",
       "    }\n",
       "</style>\n",
       "<table border=\"1\" class=\"dataframe\">\n",
       "  <thead>\n",
       "    <tr style=\"text-align: right;\">\n",
       "      <th></th>\n",
       "      <th>survived</th>\n",
       "      <th>pclass</th>\n",
       "      <th>sex</th>\n",
       "      <th>age</th>\n",
       "      <th>sibsp</th>\n",
       "      <th>parch</th>\n",
       "      <th>fare</th>\n",
       "      <th>embarked</th>\n",
       "      <th>class</th>\n",
       "      <th>who</th>\n",
       "      <th>adult_male</th>\n",
       "      <th>deck</th>\n",
       "      <th>embark_town</th>\n",
       "      <th>alive</th>\n",
       "      <th>alone</th>\n",
       "    </tr>\n",
       "  </thead>\n",
       "  <tbody>\n",
       "    <tr>\n",
       "      <th>0</th>\n",
       "      <td>0</td>\n",
       "      <td>3</td>\n",
       "      <td>male</td>\n",
       "      <td>22.0</td>\n",
       "      <td>1</td>\n",
       "      <td>0</td>\n",
       "      <td>7.2500</td>\n",
       "      <td>S</td>\n",
       "      <td>Third</td>\n",
       "      <td>man</td>\n",
       "      <td>True</td>\n",
       "      <td>NaN</td>\n",
       "      <td>Southampton</td>\n",
       "      <td>no</td>\n",
       "      <td>False</td>\n",
       "    </tr>\n",
       "    <tr>\n",
       "      <th>1</th>\n",
       "      <td>1</td>\n",
       "      <td>1</td>\n",
       "      <td>female</td>\n",
       "      <td>38.0</td>\n",
       "      <td>1</td>\n",
       "      <td>0</td>\n",
       "      <td>71.2833</td>\n",
       "      <td>C</td>\n",
       "      <td>First</td>\n",
       "      <td>woman</td>\n",
       "      <td>False</td>\n",
       "      <td>C</td>\n",
       "      <td>Cherbourg</td>\n",
       "      <td>yes</td>\n",
       "      <td>False</td>\n",
       "    </tr>\n",
       "    <tr>\n",
       "      <th>2</th>\n",
       "      <td>1</td>\n",
       "      <td>3</td>\n",
       "      <td>female</td>\n",
       "      <td>26.0</td>\n",
       "      <td>0</td>\n",
       "      <td>0</td>\n",
       "      <td>7.9250</td>\n",
       "      <td>S</td>\n",
       "      <td>Third</td>\n",
       "      <td>woman</td>\n",
       "      <td>False</td>\n",
       "      <td>NaN</td>\n",
       "      <td>Southampton</td>\n",
       "      <td>yes</td>\n",
       "      <td>True</td>\n",
       "    </tr>\n",
       "    <tr>\n",
       "      <th>3</th>\n",
       "      <td>1</td>\n",
       "      <td>1</td>\n",
       "      <td>female</td>\n",
       "      <td>35.0</td>\n",
       "      <td>1</td>\n",
       "      <td>0</td>\n",
       "      <td>53.1000</td>\n",
       "      <td>S</td>\n",
       "      <td>First</td>\n",
       "      <td>woman</td>\n",
       "      <td>False</td>\n",
       "      <td>C</td>\n",
       "      <td>Southampton</td>\n",
       "      <td>yes</td>\n",
       "      <td>False</td>\n",
       "    </tr>\n",
       "    <tr>\n",
       "      <th>4</th>\n",
       "      <td>0</td>\n",
       "      <td>3</td>\n",
       "      <td>male</td>\n",
       "      <td>35.0</td>\n",
       "      <td>0</td>\n",
       "      <td>0</td>\n",
       "      <td>8.0500</td>\n",
       "      <td>S</td>\n",
       "      <td>Third</td>\n",
       "      <td>man</td>\n",
       "      <td>True</td>\n",
       "      <td>NaN</td>\n",
       "      <td>Southampton</td>\n",
       "      <td>no</td>\n",
       "      <td>True</td>\n",
       "    </tr>\n",
       "  </tbody>\n",
       "</table>\n",
       "</div>"
      ],
      "text/plain": [
       "   survived  pclass     sex   age  sibsp  parch     fare embarked  class  \\\n",
       "0         0       3    male  22.0      1      0   7.2500        S  Third   \n",
       "1         1       1  female  38.0      1      0  71.2833        C  First   \n",
       "2         1       3  female  26.0      0      0   7.9250        S  Third   \n",
       "3         1       1  female  35.0      1      0  53.1000        S  First   \n",
       "4         0       3    male  35.0      0      0   8.0500        S  Third   \n",
       "\n",
       "     who  adult_male deck  embark_town alive  alone  \n",
       "0    man        True  NaN  Southampton    no  False  \n",
       "1  woman       False    C    Cherbourg   yes  False  \n",
       "2  woman       False  NaN  Southampton   yes   True  \n",
       "3  woman       False    C  Southampton   yes  False  \n",
       "4    man        True  NaN  Southampton    no   True  "
      ]
     },
     "execution_count": 92,
     "metadata": {},
     "output_type": "execute_result"
    }
   ],
   "source": [
    "df.head()"
   ]
  },
  {
   "cell_type": "markdown",
   "metadata": {},
   "source": [
    "## Info Of Data"
   ]
  },
  {
   "cell_type": "code",
   "execution_count": 93,
   "metadata": {},
   "outputs": [
    {
     "name": "stdout",
     "output_type": "stream",
     "text": [
      "<class 'pandas.core.frame.DataFrame'>\n",
      "RangeIndex: 891 entries, 0 to 890\n",
      "Data columns (total 15 columns):\n",
      " #   Column       Non-Null Count  Dtype   \n",
      "---  ------       --------------  -----   \n",
      " 0   survived     891 non-null    int64   \n",
      " 1   pclass       891 non-null    int64   \n",
      " 2   sex          891 non-null    object  \n",
      " 3   age          714 non-null    float64 \n",
      " 4   sibsp        891 non-null    int64   \n",
      " 5   parch        891 non-null    int64   \n",
      " 6   fare         891 non-null    float64 \n",
      " 7   embarked     889 non-null    object  \n",
      " 8   class        891 non-null    category\n",
      " 9   who          891 non-null    object  \n",
      " 10  adult_male   891 non-null    bool    \n",
      " 11  deck         203 non-null    category\n",
      " 12  embark_town  889 non-null    object  \n",
      " 13  alive        891 non-null    object  \n",
      " 14  alone        891 non-null    bool    \n",
      "dtypes: bool(2), category(2), float64(2), int64(4), object(5)\n",
      "memory usage: 80.7+ KB\n"
     ]
    }
   ],
   "source": [
    "# Data Info '\n",
    "df.info()"
   ]
  },
  {
   "cell_type": "markdown",
   "metadata": {},
   "source": [
    "## Statistics "
   ]
  },
  {
   "cell_type": "code",
   "execution_count": 94,
   "metadata": {},
   "outputs": [
    {
     "data": {
      "text/html": [
       "<div>\n",
       "<style scoped>\n",
       "    .dataframe tbody tr th:only-of-type {\n",
       "        vertical-align: middle;\n",
       "    }\n",
       "\n",
       "    .dataframe tbody tr th {\n",
       "        vertical-align: top;\n",
       "    }\n",
       "\n",
       "    .dataframe thead th {\n",
       "        text-align: right;\n",
       "    }\n",
       "</style>\n",
       "<table border=\"1\" class=\"dataframe\">\n",
       "  <thead>\n",
       "    <tr style=\"text-align: right;\">\n",
       "      <th></th>\n",
       "      <th>survived</th>\n",
       "      <th>pclass</th>\n",
       "      <th>age</th>\n",
       "      <th>sibsp</th>\n",
       "      <th>parch</th>\n",
       "      <th>fare</th>\n",
       "    </tr>\n",
       "  </thead>\n",
       "  <tbody>\n",
       "    <tr>\n",
       "      <th>count</th>\n",
       "      <td>891.000000</td>\n",
       "      <td>891.000000</td>\n",
       "      <td>714.000000</td>\n",
       "      <td>891.000000</td>\n",
       "      <td>891.000000</td>\n",
       "      <td>891.000000</td>\n",
       "    </tr>\n",
       "    <tr>\n",
       "      <th>mean</th>\n",
       "      <td>0.383838</td>\n",
       "      <td>2.308642</td>\n",
       "      <td>29.699118</td>\n",
       "      <td>0.523008</td>\n",
       "      <td>0.381594</td>\n",
       "      <td>32.204208</td>\n",
       "    </tr>\n",
       "    <tr>\n",
       "      <th>std</th>\n",
       "      <td>0.486592</td>\n",
       "      <td>0.836071</td>\n",
       "      <td>14.526497</td>\n",
       "      <td>1.102743</td>\n",
       "      <td>0.806057</td>\n",
       "      <td>49.693429</td>\n",
       "    </tr>\n",
       "    <tr>\n",
       "      <th>min</th>\n",
       "      <td>0.000000</td>\n",
       "      <td>1.000000</td>\n",
       "      <td>0.420000</td>\n",
       "      <td>0.000000</td>\n",
       "      <td>0.000000</td>\n",
       "      <td>0.000000</td>\n",
       "    </tr>\n",
       "    <tr>\n",
       "      <th>25%</th>\n",
       "      <td>0.000000</td>\n",
       "      <td>2.000000</td>\n",
       "      <td>20.125000</td>\n",
       "      <td>0.000000</td>\n",
       "      <td>0.000000</td>\n",
       "      <td>7.910400</td>\n",
       "    </tr>\n",
       "    <tr>\n",
       "      <th>50%</th>\n",
       "      <td>0.000000</td>\n",
       "      <td>3.000000</td>\n",
       "      <td>28.000000</td>\n",
       "      <td>0.000000</td>\n",
       "      <td>0.000000</td>\n",
       "      <td>14.454200</td>\n",
       "    </tr>\n",
       "    <tr>\n",
       "      <th>75%</th>\n",
       "      <td>1.000000</td>\n",
       "      <td>3.000000</td>\n",
       "      <td>38.000000</td>\n",
       "      <td>1.000000</td>\n",
       "      <td>0.000000</td>\n",
       "      <td>31.000000</td>\n",
       "    </tr>\n",
       "    <tr>\n",
       "      <th>max</th>\n",
       "      <td>1.000000</td>\n",
       "      <td>3.000000</td>\n",
       "      <td>80.000000</td>\n",
       "      <td>8.000000</td>\n",
       "      <td>6.000000</td>\n",
       "      <td>512.329200</td>\n",
       "    </tr>\n",
       "  </tbody>\n",
       "</table>\n",
       "</div>"
      ],
      "text/plain": [
       "         survived      pclass         age       sibsp       parch        fare\n",
       "count  891.000000  891.000000  714.000000  891.000000  891.000000  891.000000\n",
       "mean     0.383838    2.308642   29.699118    0.523008    0.381594   32.204208\n",
       "std      0.486592    0.836071   14.526497    1.102743    0.806057   49.693429\n",
       "min      0.000000    1.000000    0.420000    0.000000    0.000000    0.000000\n",
       "25%      0.000000    2.000000   20.125000    0.000000    0.000000    7.910400\n",
       "50%      0.000000    3.000000   28.000000    0.000000    0.000000   14.454200\n",
       "75%      1.000000    3.000000   38.000000    1.000000    0.000000   31.000000\n",
       "max      1.000000    3.000000   80.000000    8.000000    6.000000  512.329200"
      ]
     },
     "execution_count": 94,
     "metadata": {},
     "output_type": "execute_result"
    }
   ],
   "source": [
    "df.describe()"
   ]
  },
  {
   "cell_type": "markdown",
   "metadata": {},
   "source": [
    "## Shape of Data"
   ]
  },
  {
   "cell_type": "code",
   "execution_count": 95,
   "metadata": {},
   "outputs": [
    {
     "data": {
      "text/plain": [
       "(891, 15)"
      ]
     },
     "execution_count": 95,
     "metadata": {},
     "output_type": "execute_result"
    }
   ],
   "source": [
    "df.shape"
   ]
  },
  {
   "cell_type": "markdown",
   "metadata": {},
   "source": [
    "- Our Data Have 891 Rows and 15 Colums "
   ]
  },
  {
   "cell_type": "markdown",
   "metadata": {},
   "source": [
    "# 1. Null Values "
   ]
  },
  {
   "cell_type": "markdown",
   "metadata": {},
   "source": [
    "### Lets Deal With null Values in Dataset"
   ]
  },
  {
   "cell_type": "code",
   "execution_count": 96,
   "metadata": {},
   "outputs": [
    {
     "data": {
      "text/plain": [
       "deck           688\n",
       "age            177\n",
       "embarked         2\n",
       "embark_town      2\n",
       "survived         0\n",
       "pclass           0\n",
       "sex              0\n",
       "sibsp            0\n",
       "parch            0\n",
       "fare             0\n",
       "class            0\n",
       "who              0\n",
       "adult_male       0\n",
       "alive            0\n",
       "alone            0\n",
       "dtype: int64"
      ]
     },
     "execution_count": 96,
     "metadata": {},
     "output_type": "execute_result"
    }
   ],
   "source": [
    "df.isnull().sum().sort_values(ascending=False)"
   ]
  },
  {
   "cell_type": "markdown",
   "metadata": {},
   "source": [
    "- Deck Column Have Many Null Values So Its Better To drop this colums "
   ]
  },
  {
   "cell_type": "code",
   "execution_count": 97,
   "metadata": {},
   "outputs": [],
   "source": [
    "df.drop(columns=\"deck\", inplace=True)"
   ]
  },
  {
   "cell_type": "code",
   "execution_count": 98,
   "metadata": {},
   "outputs": [
    {
     "data": {
      "text/html": [
       "<div>\n",
       "<style scoped>\n",
       "    .dataframe tbody tr th:only-of-type {\n",
       "        vertical-align: middle;\n",
       "    }\n",
       "\n",
       "    .dataframe tbody tr th {\n",
       "        vertical-align: top;\n",
       "    }\n",
       "\n",
       "    .dataframe thead th {\n",
       "        text-align: right;\n",
       "    }\n",
       "</style>\n",
       "<table border=\"1\" class=\"dataframe\">\n",
       "  <thead>\n",
       "    <tr style=\"text-align: right;\">\n",
       "      <th></th>\n",
       "      <th>survived</th>\n",
       "      <th>pclass</th>\n",
       "      <th>sex</th>\n",
       "      <th>age</th>\n",
       "      <th>sibsp</th>\n",
       "      <th>parch</th>\n",
       "      <th>fare</th>\n",
       "      <th>embarked</th>\n",
       "      <th>class</th>\n",
       "      <th>who</th>\n",
       "      <th>adult_male</th>\n",
       "      <th>embark_town</th>\n",
       "      <th>alive</th>\n",
       "      <th>alone</th>\n",
       "    </tr>\n",
       "  </thead>\n",
       "  <tbody>\n",
       "    <tr>\n",
       "      <th>0</th>\n",
       "      <td>0</td>\n",
       "      <td>3</td>\n",
       "      <td>male</td>\n",
       "      <td>22.0</td>\n",
       "      <td>1</td>\n",
       "      <td>0</td>\n",
       "      <td>7.2500</td>\n",
       "      <td>S</td>\n",
       "      <td>Third</td>\n",
       "      <td>man</td>\n",
       "      <td>True</td>\n",
       "      <td>Southampton</td>\n",
       "      <td>no</td>\n",
       "      <td>False</td>\n",
       "    </tr>\n",
       "    <tr>\n",
       "      <th>1</th>\n",
       "      <td>1</td>\n",
       "      <td>1</td>\n",
       "      <td>female</td>\n",
       "      <td>38.0</td>\n",
       "      <td>1</td>\n",
       "      <td>0</td>\n",
       "      <td>71.2833</td>\n",
       "      <td>C</td>\n",
       "      <td>First</td>\n",
       "      <td>woman</td>\n",
       "      <td>False</td>\n",
       "      <td>Cherbourg</td>\n",
       "      <td>yes</td>\n",
       "      <td>False</td>\n",
       "    </tr>\n",
       "    <tr>\n",
       "      <th>2</th>\n",
       "      <td>1</td>\n",
       "      <td>3</td>\n",
       "      <td>female</td>\n",
       "      <td>26.0</td>\n",
       "      <td>0</td>\n",
       "      <td>0</td>\n",
       "      <td>7.9250</td>\n",
       "      <td>S</td>\n",
       "      <td>Third</td>\n",
       "      <td>woman</td>\n",
       "      <td>False</td>\n",
       "      <td>Southampton</td>\n",
       "      <td>yes</td>\n",
       "      <td>True</td>\n",
       "    </tr>\n",
       "    <tr>\n",
       "      <th>3</th>\n",
       "      <td>1</td>\n",
       "      <td>1</td>\n",
       "      <td>female</td>\n",
       "      <td>35.0</td>\n",
       "      <td>1</td>\n",
       "      <td>0</td>\n",
       "      <td>53.1000</td>\n",
       "      <td>S</td>\n",
       "      <td>First</td>\n",
       "      <td>woman</td>\n",
       "      <td>False</td>\n",
       "      <td>Southampton</td>\n",
       "      <td>yes</td>\n",
       "      <td>False</td>\n",
       "    </tr>\n",
       "    <tr>\n",
       "      <th>4</th>\n",
       "      <td>0</td>\n",
       "      <td>3</td>\n",
       "      <td>male</td>\n",
       "      <td>35.0</td>\n",
       "      <td>0</td>\n",
       "      <td>0</td>\n",
       "      <td>8.0500</td>\n",
       "      <td>S</td>\n",
       "      <td>Third</td>\n",
       "      <td>man</td>\n",
       "      <td>True</td>\n",
       "      <td>Southampton</td>\n",
       "      <td>no</td>\n",
       "      <td>True</td>\n",
       "    </tr>\n",
       "  </tbody>\n",
       "</table>\n",
       "</div>"
      ],
      "text/plain": [
       "   survived  pclass     sex   age  sibsp  parch     fare embarked  class  \\\n",
       "0         0       3    male  22.0      1      0   7.2500        S  Third   \n",
       "1         1       1  female  38.0      1      0  71.2833        C  First   \n",
       "2         1       3  female  26.0      0      0   7.9250        S  Third   \n",
       "3         1       1  female  35.0      1      0  53.1000        S  First   \n",
       "4         0       3    male  35.0      0      0   8.0500        S  Third   \n",
       "\n",
       "     who  adult_male  embark_town alive  alone  \n",
       "0    man        True  Southampton    no  False  \n",
       "1  woman       False    Cherbourg   yes  False  \n",
       "2  woman       False  Southampton   yes   True  \n",
       "3  woman       False  Southampton   yes  False  \n",
       "4    man        True  Southampton    no   True  "
      ]
     },
     "execution_count": 98,
     "metadata": {},
     "output_type": "execute_result"
    }
   ],
   "source": [
    "df.head()"
   ]
  },
  {
   "cell_type": "markdown",
   "metadata": {},
   "source": [
    "- Here we drop deck From Our Dataset"
   ]
  },
  {
   "cell_type": "markdown",
   "metadata": {},
   "source": [
    "### Impute Null Values in Age by Class Mean "
   ]
  },
  {
   "cell_type": "code",
   "execution_count": 99,
   "metadata": {},
   "outputs": [
    {
     "data": {
      "text/plain": [
       "177"
      ]
     },
     "execution_count": 99,
     "metadata": {},
     "output_type": "execute_result"
    }
   ],
   "source": [
    "df.age.isnull().sum()"
   ]
  },
  {
   "cell_type": "markdown",
   "metadata": {},
   "source": [
    "- Age Colums is Import to us so we cannot drop Thiss Colums Lets impute null values by mean ."
   ]
  },
  {
   "cell_type": "code",
   "execution_count": 100,
   "metadata": {},
   "outputs": [],
   "source": [
    "mean =df.groupby(\"pclass\")[\"age\"].mean()"
   ]
  },
  {
   "cell_type": "code",
   "execution_count": 101,
   "metadata": {},
   "outputs": [],
   "source": [
    "# Impute Null Values By Class Mean\n",
    "df[\"age\"] = df[\"age\"].fillna(df.groupby(\"pclass\")[\"age\"].transform(\"mean\"))"
   ]
  },
  {
   "cell_type": "code",
   "execution_count": 102,
   "metadata": {},
   "outputs": [
    {
     "data": {
      "text/plain": [
       "0"
      ]
     },
     "execution_count": 102,
     "metadata": {},
     "output_type": "execute_result"
    }
   ],
   "source": [
    "df.age.isnull().sum()"
   ]
  },
  {
   "cell_type": "markdown",
   "metadata": {},
   "source": [
    "- Here We Impute Null Values in Age Colums"
   ]
  },
  {
   "cell_type": "markdown",
   "metadata": {},
   "source": [
    "### Impute null Values in Embark Town using mode "
   ]
  },
  {
   "cell_type": "code",
   "execution_count": 103,
   "metadata": {},
   "outputs": [
    {
     "data": {
      "text/plain": [
       "2"
      ]
     },
     "execution_count": 103,
     "metadata": {},
     "output_type": "execute_result"
    }
   ],
   "source": [
    "df.embark_town.isnull().sum()"
   ]
  },
  {
   "cell_type": "code",
   "execution_count": 104,
   "metadata": {},
   "outputs": [],
   "source": [
    "df[\"embark_town\"] = df[\"embark_town\"].fillna(df[\"embark_town\"].mode()[0])"
   ]
  },
  {
   "cell_type": "code",
   "execution_count": 105,
   "metadata": {},
   "outputs": [
    {
     "data": {
      "text/plain": [
       "embarked       2\n",
       "survived       0\n",
       "pclass         0\n",
       "sex            0\n",
       "age            0\n",
       "sibsp          0\n",
       "parch          0\n",
       "fare           0\n",
       "class          0\n",
       "who            0\n",
       "adult_male     0\n",
       "embark_town    0\n",
       "alive          0\n",
       "alone          0\n",
       "dtype: int64"
      ]
     },
     "execution_count": 105,
     "metadata": {},
     "output_type": "execute_result"
    }
   ],
   "source": [
    "df.isnull().sum().sort_values(ascending=False)"
   ]
  },
  {
   "cell_type": "markdown",
   "metadata": {},
   "source": [
    "- Here We Drop Embarked Colums Bcz We have 2 Same Columns So Its Better to drop one of them"
   ]
  },
  {
   "cell_type": "code",
   "execution_count": 106,
   "metadata": {},
   "outputs": [],
   "source": [
    "df.drop(columns=\"embarked\", inplace=True)"
   ]
  },
  {
   "cell_type": "code",
   "execution_count": 107,
   "metadata": {},
   "outputs": [
    {
     "data": {
      "text/html": [
       "<div>\n",
       "<style scoped>\n",
       "    .dataframe tbody tr th:only-of-type {\n",
       "        vertical-align: middle;\n",
       "    }\n",
       "\n",
       "    .dataframe tbody tr th {\n",
       "        vertical-align: top;\n",
       "    }\n",
       "\n",
       "    .dataframe thead th {\n",
       "        text-align: right;\n",
       "    }\n",
       "</style>\n",
       "<table border=\"1\" class=\"dataframe\">\n",
       "  <thead>\n",
       "    <tr style=\"text-align: right;\">\n",
       "      <th></th>\n",
       "      <th>survived</th>\n",
       "      <th>pclass</th>\n",
       "      <th>sex</th>\n",
       "      <th>age</th>\n",
       "      <th>sibsp</th>\n",
       "      <th>parch</th>\n",
       "      <th>fare</th>\n",
       "      <th>class</th>\n",
       "      <th>who</th>\n",
       "      <th>adult_male</th>\n",
       "      <th>embark_town</th>\n",
       "      <th>alive</th>\n",
       "      <th>alone</th>\n",
       "    </tr>\n",
       "  </thead>\n",
       "  <tbody>\n",
       "    <tr>\n",
       "      <th>0</th>\n",
       "      <td>0</td>\n",
       "      <td>3</td>\n",
       "      <td>male</td>\n",
       "      <td>22.0</td>\n",
       "      <td>1</td>\n",
       "      <td>0</td>\n",
       "      <td>7.2500</td>\n",
       "      <td>Third</td>\n",
       "      <td>man</td>\n",
       "      <td>True</td>\n",
       "      <td>Southampton</td>\n",
       "      <td>no</td>\n",
       "      <td>False</td>\n",
       "    </tr>\n",
       "    <tr>\n",
       "      <th>1</th>\n",
       "      <td>1</td>\n",
       "      <td>1</td>\n",
       "      <td>female</td>\n",
       "      <td>38.0</td>\n",
       "      <td>1</td>\n",
       "      <td>0</td>\n",
       "      <td>71.2833</td>\n",
       "      <td>First</td>\n",
       "      <td>woman</td>\n",
       "      <td>False</td>\n",
       "      <td>Cherbourg</td>\n",
       "      <td>yes</td>\n",
       "      <td>False</td>\n",
       "    </tr>\n",
       "    <tr>\n",
       "      <th>2</th>\n",
       "      <td>1</td>\n",
       "      <td>3</td>\n",
       "      <td>female</td>\n",
       "      <td>26.0</td>\n",
       "      <td>0</td>\n",
       "      <td>0</td>\n",
       "      <td>7.9250</td>\n",
       "      <td>Third</td>\n",
       "      <td>woman</td>\n",
       "      <td>False</td>\n",
       "      <td>Southampton</td>\n",
       "      <td>yes</td>\n",
       "      <td>True</td>\n",
       "    </tr>\n",
       "    <tr>\n",
       "      <th>3</th>\n",
       "      <td>1</td>\n",
       "      <td>1</td>\n",
       "      <td>female</td>\n",
       "      <td>35.0</td>\n",
       "      <td>1</td>\n",
       "      <td>0</td>\n",
       "      <td>53.1000</td>\n",
       "      <td>First</td>\n",
       "      <td>woman</td>\n",
       "      <td>False</td>\n",
       "      <td>Southampton</td>\n",
       "      <td>yes</td>\n",
       "      <td>False</td>\n",
       "    </tr>\n",
       "    <tr>\n",
       "      <th>4</th>\n",
       "      <td>0</td>\n",
       "      <td>3</td>\n",
       "      <td>male</td>\n",
       "      <td>35.0</td>\n",
       "      <td>0</td>\n",
       "      <td>0</td>\n",
       "      <td>8.0500</td>\n",
       "      <td>Third</td>\n",
       "      <td>man</td>\n",
       "      <td>True</td>\n",
       "      <td>Southampton</td>\n",
       "      <td>no</td>\n",
       "      <td>True</td>\n",
       "    </tr>\n",
       "  </tbody>\n",
       "</table>\n",
       "</div>"
      ],
      "text/plain": [
       "   survived  pclass     sex   age  sibsp  parch     fare  class    who  \\\n",
       "0         0       3    male  22.0      1      0   7.2500  Third    man   \n",
       "1         1       1  female  38.0      1      0  71.2833  First  woman   \n",
       "2         1       3  female  26.0      0      0   7.9250  Third  woman   \n",
       "3         1       1  female  35.0      1      0  53.1000  First  woman   \n",
       "4         0       3    male  35.0      0      0   8.0500  Third    man   \n",
       "\n",
       "   adult_male  embark_town alive  alone  \n",
       "0        True  Southampton    no  False  \n",
       "1       False    Cherbourg   yes  False  \n",
       "2       False  Southampton   yes   True  \n",
       "3       False  Southampton   yes  False  \n",
       "4        True  Southampton    no   True  "
      ]
     },
     "execution_count": 107,
     "metadata": {},
     "output_type": "execute_result"
    }
   ],
   "source": [
    "df.head()"
   ]
  },
  {
   "cell_type": "code",
   "execution_count": 108,
   "metadata": {},
   "outputs": [
    {
     "data": {
      "text/plain": [
       "survived       0\n",
       "pclass         0\n",
       "sex            0\n",
       "age            0\n",
       "sibsp          0\n",
       "parch          0\n",
       "fare           0\n",
       "class          0\n",
       "who            0\n",
       "adult_male     0\n",
       "embark_town    0\n",
       "alive          0\n",
       "alone          0\n",
       "dtype: int64"
      ]
     },
     "execution_count": 108,
     "metadata": {},
     "output_type": "execute_result"
    }
   ],
   "source": [
    "df.isnull().sum().sort_values(ascending=False)"
   ]
  },
  {
   "cell_type": "markdown",
   "metadata": {},
   "source": [
    "## MileStone 1 .. We Imputed all The Null Values "
   ]
  },
  {
   "cell_type": "markdown",
   "metadata": {},
   "source": [
    "# 2. Duplicated "
   ]
  },
  {
   "cell_type": "markdown",
   "metadata": {},
   "source": [
    "- Lets Check Duplicates values in dataset"
   ]
  },
  {
   "cell_type": "code",
   "execution_count": 109,
   "metadata": {},
   "outputs": [
    {
     "data": {
      "text/plain": [
       "True"
      ]
     },
     "execution_count": 109,
     "metadata": {},
     "output_type": "execute_result"
    }
   ],
   "source": [
    "df.duplicated().any()"
   ]
  },
  {
   "cell_type": "code",
   "execution_count": 110,
   "metadata": {},
   "outputs": [
    {
     "data": {
      "text/plain": [
       "111"
      ]
     },
     "execution_count": 110,
     "metadata": {},
     "output_type": "execute_result"
    }
   ],
   "source": [
    "df.duplicated().sum()"
   ]
  },
  {
   "cell_type": "markdown",
   "metadata": {},
   "source": [
    "- Here We Have 111 Duplicatedd Values "
   ]
  },
  {
   "cell_type": "code",
   "execution_count": 111,
   "metadata": {},
   "outputs": [
    {
     "data": {
      "text/html": [
       "<div>\n",
       "<style scoped>\n",
       "    .dataframe tbody tr th:only-of-type {\n",
       "        vertical-align: middle;\n",
       "    }\n",
       "\n",
       "    .dataframe tbody tr th {\n",
       "        vertical-align: top;\n",
       "    }\n",
       "\n",
       "    .dataframe thead th {\n",
       "        text-align: right;\n",
       "    }\n",
       "</style>\n",
       "<table border=\"1\" class=\"dataframe\">\n",
       "  <thead>\n",
       "    <tr style=\"text-align: right;\">\n",
       "      <th></th>\n",
       "      <th>survived</th>\n",
       "      <th>pclass</th>\n",
       "      <th>sex</th>\n",
       "      <th>age</th>\n",
       "      <th>sibsp</th>\n",
       "      <th>parch</th>\n",
       "      <th>fare</th>\n",
       "      <th>class</th>\n",
       "      <th>who</th>\n",
       "      <th>adult_male</th>\n",
       "      <th>embark_town</th>\n",
       "      <th>alive</th>\n",
       "      <th>alone</th>\n",
       "    </tr>\n",
       "  </thead>\n",
       "  <tbody>\n",
       "    <tr>\n",
       "      <th>47</th>\n",
       "      <td>1</td>\n",
       "      <td>3</td>\n",
       "      <td>female</td>\n",
       "      <td>25.14062</td>\n",
       "      <td>0</td>\n",
       "      <td>0</td>\n",
       "      <td>7.7500</td>\n",
       "      <td>Third</td>\n",
       "      <td>woman</td>\n",
       "      <td>False</td>\n",
       "      <td>Queenstown</td>\n",
       "      <td>yes</td>\n",
       "      <td>True</td>\n",
       "    </tr>\n",
       "    <tr>\n",
       "      <th>76</th>\n",
       "      <td>0</td>\n",
       "      <td>3</td>\n",
       "      <td>male</td>\n",
       "      <td>25.14062</td>\n",
       "      <td>0</td>\n",
       "      <td>0</td>\n",
       "      <td>7.8958</td>\n",
       "      <td>Third</td>\n",
       "      <td>man</td>\n",
       "      <td>True</td>\n",
       "      <td>Southampton</td>\n",
       "      <td>no</td>\n",
       "      <td>True</td>\n",
       "    </tr>\n",
       "    <tr>\n",
       "      <th>77</th>\n",
       "      <td>0</td>\n",
       "      <td>3</td>\n",
       "      <td>male</td>\n",
       "      <td>25.14062</td>\n",
       "      <td>0</td>\n",
       "      <td>0</td>\n",
       "      <td>8.0500</td>\n",
       "      <td>Third</td>\n",
       "      <td>man</td>\n",
       "      <td>True</td>\n",
       "      <td>Southampton</td>\n",
       "      <td>no</td>\n",
       "      <td>True</td>\n",
       "    </tr>\n",
       "    <tr>\n",
       "      <th>87</th>\n",
       "      <td>0</td>\n",
       "      <td>3</td>\n",
       "      <td>male</td>\n",
       "      <td>25.14062</td>\n",
       "      <td>0</td>\n",
       "      <td>0</td>\n",
       "      <td>8.0500</td>\n",
       "      <td>Third</td>\n",
       "      <td>man</td>\n",
       "      <td>True</td>\n",
       "      <td>Southampton</td>\n",
       "      <td>no</td>\n",
       "      <td>True</td>\n",
       "    </tr>\n",
       "    <tr>\n",
       "      <th>95</th>\n",
       "      <td>0</td>\n",
       "      <td>3</td>\n",
       "      <td>male</td>\n",
       "      <td>25.14062</td>\n",
       "      <td>0</td>\n",
       "      <td>0</td>\n",
       "      <td>8.0500</td>\n",
       "      <td>Third</td>\n",
       "      <td>man</td>\n",
       "      <td>True</td>\n",
       "      <td>Southampton</td>\n",
       "      <td>no</td>\n",
       "      <td>True</td>\n",
       "    </tr>\n",
       "  </tbody>\n",
       "</table>\n",
       "</div>"
      ],
      "text/plain": [
       "    survived  pclass     sex       age  sibsp  parch    fare  class    who  \\\n",
       "47         1       3  female  25.14062      0      0  7.7500  Third  woman   \n",
       "76         0       3    male  25.14062      0      0  7.8958  Third    man   \n",
       "77         0       3    male  25.14062      0      0  8.0500  Third    man   \n",
       "87         0       3    male  25.14062      0      0  8.0500  Third    man   \n",
       "95         0       3    male  25.14062      0      0  8.0500  Third    man   \n",
       "\n",
       "    adult_male  embark_town alive  alone  \n",
       "47       False   Queenstown   yes   True  \n",
       "76        True  Southampton    no   True  \n",
       "77        True  Southampton    no   True  \n",
       "87        True  Southampton    no   True  \n",
       "95        True  Southampton    no   True  "
      ]
     },
     "execution_count": 111,
     "metadata": {},
     "output_type": "execute_result"
    }
   ],
   "source": [
    "# Lets Check Duplicates Values\n",
    "df[ df.duplicated() ].head()"
   ]
  },
  {
   "cell_type": "code",
   "execution_count": 112,
   "metadata": {},
   "outputs": [
    {
     "data": {
      "text/plain": [
       "(891, 13)"
      ]
     },
     "execution_count": 112,
     "metadata": {},
     "output_type": "execute_result"
    }
   ],
   "source": [
    "df.shape"
   ]
  },
  {
   "cell_type": "markdown",
   "metadata": {},
   "source": [
    "- Removing All the Duplicates Values "
   ]
  },
  {
   "cell_type": "code",
   "execution_count": 113,
   "metadata": {},
   "outputs": [
    {
     "name": "stdout",
     "output_type": "stream",
     "text": [
      "The Shape Of Data Befor Removing Duplicates (891, 13)\n"
     ]
    }
   ],
   "source": [
    "print(f\"The Shape Of Data Befor Removing Duplicates {df.shape}\")"
   ]
  },
  {
   "cell_type": "code",
   "execution_count": 114,
   "metadata": {},
   "outputs": [],
   "source": [
    "df.drop_duplicates(inplace=True)"
   ]
  },
  {
   "cell_type": "code",
   "execution_count": 115,
   "metadata": {},
   "outputs": [
    {
     "name": "stdout",
     "output_type": "stream",
     "text": [
      "The Shape Of Data After Removing Duplicates (780, 13)\n"
     ]
    }
   ],
   "source": [
    "print(f\"The Shape Of Data After Removing Duplicates {df.shape}\")"
   ]
  },
  {
   "cell_type": "code",
   "execution_count": 116,
   "metadata": {},
   "outputs": [
    {
     "data": {
      "text/plain": [
       "0"
      ]
     },
     "execution_count": 116,
     "metadata": {},
     "output_type": "execute_result"
    }
   ],
   "source": [
    "df.duplicated().sum()"
   ]
  },
  {
   "cell_type": "markdown",
   "metadata": {},
   "source": [
    "## MileStone 2. Here We Removed All The Duplicates "
   ]
  },
  {
   "cell_type": "code",
   "execution_count": 117,
   "metadata": {},
   "outputs": [
    {
     "data": {
      "text/html": [
       "<div>\n",
       "<style scoped>\n",
       "    .dataframe tbody tr th:only-of-type {\n",
       "        vertical-align: middle;\n",
       "    }\n",
       "\n",
       "    .dataframe tbody tr th {\n",
       "        vertical-align: top;\n",
       "    }\n",
       "\n",
       "    .dataframe thead th {\n",
       "        text-align: right;\n",
       "    }\n",
       "</style>\n",
       "<table border=\"1\" class=\"dataframe\">\n",
       "  <thead>\n",
       "    <tr style=\"text-align: right;\">\n",
       "      <th></th>\n",
       "      <th>survived</th>\n",
       "      <th>pclass</th>\n",
       "      <th>sex</th>\n",
       "      <th>age</th>\n",
       "      <th>sibsp</th>\n",
       "      <th>parch</th>\n",
       "      <th>fare</th>\n",
       "      <th>class</th>\n",
       "      <th>who</th>\n",
       "      <th>adult_male</th>\n",
       "      <th>embark_town</th>\n",
       "      <th>alive</th>\n",
       "      <th>alone</th>\n",
       "    </tr>\n",
       "  </thead>\n",
       "  <tbody>\n",
       "    <tr>\n",
       "      <th>0</th>\n",
       "      <td>0</td>\n",
       "      <td>3</td>\n",
       "      <td>male</td>\n",
       "      <td>22.0</td>\n",
       "      <td>1</td>\n",
       "      <td>0</td>\n",
       "      <td>7.2500</td>\n",
       "      <td>Third</td>\n",
       "      <td>man</td>\n",
       "      <td>True</td>\n",
       "      <td>Southampton</td>\n",
       "      <td>no</td>\n",
       "      <td>False</td>\n",
       "    </tr>\n",
       "    <tr>\n",
       "      <th>1</th>\n",
       "      <td>1</td>\n",
       "      <td>1</td>\n",
       "      <td>female</td>\n",
       "      <td>38.0</td>\n",
       "      <td>1</td>\n",
       "      <td>0</td>\n",
       "      <td>71.2833</td>\n",
       "      <td>First</td>\n",
       "      <td>woman</td>\n",
       "      <td>False</td>\n",
       "      <td>Cherbourg</td>\n",
       "      <td>yes</td>\n",
       "      <td>False</td>\n",
       "    </tr>\n",
       "    <tr>\n",
       "      <th>2</th>\n",
       "      <td>1</td>\n",
       "      <td>3</td>\n",
       "      <td>female</td>\n",
       "      <td>26.0</td>\n",
       "      <td>0</td>\n",
       "      <td>0</td>\n",
       "      <td>7.9250</td>\n",
       "      <td>Third</td>\n",
       "      <td>woman</td>\n",
       "      <td>False</td>\n",
       "      <td>Southampton</td>\n",
       "      <td>yes</td>\n",
       "      <td>True</td>\n",
       "    </tr>\n",
       "    <tr>\n",
       "      <th>3</th>\n",
       "      <td>1</td>\n",
       "      <td>1</td>\n",
       "      <td>female</td>\n",
       "      <td>35.0</td>\n",
       "      <td>1</td>\n",
       "      <td>0</td>\n",
       "      <td>53.1000</td>\n",
       "      <td>First</td>\n",
       "      <td>woman</td>\n",
       "      <td>False</td>\n",
       "      <td>Southampton</td>\n",
       "      <td>yes</td>\n",
       "      <td>False</td>\n",
       "    </tr>\n",
       "    <tr>\n",
       "      <th>4</th>\n",
       "      <td>0</td>\n",
       "      <td>3</td>\n",
       "      <td>male</td>\n",
       "      <td>35.0</td>\n",
       "      <td>0</td>\n",
       "      <td>0</td>\n",
       "      <td>8.0500</td>\n",
       "      <td>Third</td>\n",
       "      <td>man</td>\n",
       "      <td>True</td>\n",
       "      <td>Southampton</td>\n",
       "      <td>no</td>\n",
       "      <td>True</td>\n",
       "    </tr>\n",
       "  </tbody>\n",
       "</table>\n",
       "</div>"
      ],
      "text/plain": [
       "   survived  pclass     sex   age  sibsp  parch     fare  class    who  \\\n",
       "0         0       3    male  22.0      1      0   7.2500  Third    man   \n",
       "1         1       1  female  38.0      1      0  71.2833  First  woman   \n",
       "2         1       3  female  26.0      0      0   7.9250  Third  woman   \n",
       "3         1       1  female  35.0      1      0  53.1000  First  woman   \n",
       "4         0       3    male  35.0      0      0   8.0500  Third    man   \n",
       "\n",
       "   adult_male  embark_town alive  alone  \n",
       "0        True  Southampton    no  False  \n",
       "1       False    Cherbourg   yes  False  \n",
       "2       False  Southampton   yes   True  \n",
       "3       False  Southampton   yes  False  \n",
       "4        True  Southampton    no   True  "
      ]
     },
     "execution_count": 117,
     "metadata": {},
     "output_type": "execute_result"
    }
   ],
   "source": [
    "df.head()"
   ]
  },
  {
   "cell_type": "markdown",
   "metadata": {},
   "source": [
    "### Removing Un-usefull Colummns From Dataset"
   ]
  },
  {
   "cell_type": "code",
   "execution_count": 118,
   "metadata": {},
   "outputs": [],
   "source": [
    "# Removing Pclass and adult_male Colums\n",
    "df.drop(columns=\"pclass\" , inplace=True)\n",
    "df.drop(columns=\"adult_male\", inplace=True)\n",
    "df.drop(columns=\"alive\", inplace=True)\n",
    "df.drop(columns=\"alone\", inplace=True)\n",
    "df.drop(columns=\"who\", inplace=True)"
   ]
  },
  {
   "cell_type": "code",
   "execution_count": 119,
   "metadata": {},
   "outputs": [
    {
     "data": {
      "text/html": [
       "<div>\n",
       "<style scoped>\n",
       "    .dataframe tbody tr th:only-of-type {\n",
       "        vertical-align: middle;\n",
       "    }\n",
       "\n",
       "    .dataframe tbody tr th {\n",
       "        vertical-align: top;\n",
       "    }\n",
       "\n",
       "    .dataframe thead th {\n",
       "        text-align: right;\n",
       "    }\n",
       "</style>\n",
       "<table border=\"1\" class=\"dataframe\">\n",
       "  <thead>\n",
       "    <tr style=\"text-align: right;\">\n",
       "      <th></th>\n",
       "      <th>survived</th>\n",
       "      <th>sex</th>\n",
       "      <th>age</th>\n",
       "      <th>sibsp</th>\n",
       "      <th>parch</th>\n",
       "      <th>fare</th>\n",
       "      <th>class</th>\n",
       "      <th>embark_town</th>\n",
       "    </tr>\n",
       "  </thead>\n",
       "  <tbody>\n",
       "    <tr>\n",
       "      <th>0</th>\n",
       "      <td>0</td>\n",
       "      <td>male</td>\n",
       "      <td>22.0</td>\n",
       "      <td>1</td>\n",
       "      <td>0</td>\n",
       "      <td>7.2500</td>\n",
       "      <td>Third</td>\n",
       "      <td>Southampton</td>\n",
       "    </tr>\n",
       "    <tr>\n",
       "      <th>1</th>\n",
       "      <td>1</td>\n",
       "      <td>female</td>\n",
       "      <td>38.0</td>\n",
       "      <td>1</td>\n",
       "      <td>0</td>\n",
       "      <td>71.2833</td>\n",
       "      <td>First</td>\n",
       "      <td>Cherbourg</td>\n",
       "    </tr>\n",
       "    <tr>\n",
       "      <th>2</th>\n",
       "      <td>1</td>\n",
       "      <td>female</td>\n",
       "      <td>26.0</td>\n",
       "      <td>0</td>\n",
       "      <td>0</td>\n",
       "      <td>7.9250</td>\n",
       "      <td>Third</td>\n",
       "      <td>Southampton</td>\n",
       "    </tr>\n",
       "    <tr>\n",
       "      <th>3</th>\n",
       "      <td>1</td>\n",
       "      <td>female</td>\n",
       "      <td>35.0</td>\n",
       "      <td>1</td>\n",
       "      <td>0</td>\n",
       "      <td>53.1000</td>\n",
       "      <td>First</td>\n",
       "      <td>Southampton</td>\n",
       "    </tr>\n",
       "    <tr>\n",
       "      <th>4</th>\n",
       "      <td>0</td>\n",
       "      <td>male</td>\n",
       "      <td>35.0</td>\n",
       "      <td>0</td>\n",
       "      <td>0</td>\n",
       "      <td>8.0500</td>\n",
       "      <td>Third</td>\n",
       "      <td>Southampton</td>\n",
       "    </tr>\n",
       "  </tbody>\n",
       "</table>\n",
       "</div>"
      ],
      "text/plain": [
       "   survived     sex   age  sibsp  parch     fare  class  embark_town\n",
       "0         0    male  22.0      1      0   7.2500  Third  Southampton\n",
       "1         1  female  38.0      1      0  71.2833  First    Cherbourg\n",
       "2         1  female  26.0      0      0   7.9250  Third  Southampton\n",
       "3         1  female  35.0      1      0  53.1000  First  Southampton\n",
       "4         0    male  35.0      0      0   8.0500  Third  Southampton"
      ]
     },
     "execution_count": 119,
     "metadata": {},
     "output_type": "execute_result"
    }
   ],
   "source": [
    "df.head()"
   ]
  },
  {
   "cell_type": "markdown",
   "metadata": {},
   "source": [
    "Lets Make A New Colums `Category`"
   ]
  },
  {
   "cell_type": "code",
   "execution_count": 120,
   "metadata": {},
   "outputs": [],
   "source": [
    "bins = [0, 10, 20, 30, 40, 50, 60, 70, 80]\n",
    "labels = ['Baby', 'child', 'Teen', 'Adult', 'Middle-Aged', 'Old-Aged', 'Senior', 'Elderly']\n",
    "df[\"category_age\"]= pd.cut(df[\"age\"], bins=bins , labels=labels)"
   ]
  },
  {
   "cell_type": "code",
   "execution_count": 121,
   "metadata": {},
   "outputs": [
    {
     "data": {
      "text/html": [
       "<div>\n",
       "<style scoped>\n",
       "    .dataframe tbody tr th:only-of-type {\n",
       "        vertical-align: middle;\n",
       "    }\n",
       "\n",
       "    .dataframe tbody tr th {\n",
       "        vertical-align: top;\n",
       "    }\n",
       "\n",
       "    .dataframe thead th {\n",
       "        text-align: right;\n",
       "    }\n",
       "</style>\n",
       "<table border=\"1\" class=\"dataframe\">\n",
       "  <thead>\n",
       "    <tr style=\"text-align: right;\">\n",
       "      <th></th>\n",
       "      <th>survived</th>\n",
       "      <th>sex</th>\n",
       "      <th>age</th>\n",
       "      <th>sibsp</th>\n",
       "      <th>parch</th>\n",
       "      <th>fare</th>\n",
       "      <th>class</th>\n",
       "      <th>embark_town</th>\n",
       "      <th>category_age</th>\n",
       "    </tr>\n",
       "  </thead>\n",
       "  <tbody>\n",
       "    <tr>\n",
       "      <th>0</th>\n",
       "      <td>0</td>\n",
       "      <td>male</td>\n",
       "      <td>22.0</td>\n",
       "      <td>1</td>\n",
       "      <td>0</td>\n",
       "      <td>7.2500</td>\n",
       "      <td>Third</td>\n",
       "      <td>Southampton</td>\n",
       "      <td>Teen</td>\n",
       "    </tr>\n",
       "    <tr>\n",
       "      <th>1</th>\n",
       "      <td>1</td>\n",
       "      <td>female</td>\n",
       "      <td>38.0</td>\n",
       "      <td>1</td>\n",
       "      <td>0</td>\n",
       "      <td>71.2833</td>\n",
       "      <td>First</td>\n",
       "      <td>Cherbourg</td>\n",
       "      <td>Adult</td>\n",
       "    </tr>\n",
       "    <tr>\n",
       "      <th>2</th>\n",
       "      <td>1</td>\n",
       "      <td>female</td>\n",
       "      <td>26.0</td>\n",
       "      <td>0</td>\n",
       "      <td>0</td>\n",
       "      <td>7.9250</td>\n",
       "      <td>Third</td>\n",
       "      <td>Southampton</td>\n",
       "      <td>Teen</td>\n",
       "    </tr>\n",
       "    <tr>\n",
       "      <th>3</th>\n",
       "      <td>1</td>\n",
       "      <td>female</td>\n",
       "      <td>35.0</td>\n",
       "      <td>1</td>\n",
       "      <td>0</td>\n",
       "      <td>53.1000</td>\n",
       "      <td>First</td>\n",
       "      <td>Southampton</td>\n",
       "      <td>Adult</td>\n",
       "    </tr>\n",
       "    <tr>\n",
       "      <th>4</th>\n",
       "      <td>0</td>\n",
       "      <td>male</td>\n",
       "      <td>35.0</td>\n",
       "      <td>0</td>\n",
       "      <td>0</td>\n",
       "      <td>8.0500</td>\n",
       "      <td>Third</td>\n",
       "      <td>Southampton</td>\n",
       "      <td>Adult</td>\n",
       "    </tr>\n",
       "  </tbody>\n",
       "</table>\n",
       "</div>"
      ],
      "text/plain": [
       "   survived     sex   age  sibsp  parch     fare  class  embark_town  \\\n",
       "0         0    male  22.0      1      0   7.2500  Third  Southampton   \n",
       "1         1  female  38.0      1      0  71.2833  First    Cherbourg   \n",
       "2         1  female  26.0      0      0   7.9250  Third  Southampton   \n",
       "3         1  female  35.0      1      0  53.1000  First  Southampton   \n",
       "4         0    male  35.0      0      0   8.0500  Third  Southampton   \n",
       "\n",
       "  category_age  \n",
       "0         Teen  \n",
       "1        Adult  \n",
       "2         Teen  \n",
       "3        Adult  \n",
       "4        Adult  "
      ]
     },
     "execution_count": 121,
     "metadata": {},
     "output_type": "execute_result"
    }
   ],
   "source": [
    "df.head()"
   ]
  },
  {
   "cell_type": "markdown",
   "metadata": {},
   "source": [
    "- Catergory Wise Age Count "
   ]
  },
  {
   "cell_type": "code",
   "execution_count": 122,
   "metadata": {},
   "outputs": [
    {
     "name": "stderr",
     "output_type": "stream",
     "text": [
      "C:\\Users\\T L S\\AppData\\Local\\Temp\\ipykernel_16180\\112658699.py:1: FutureWarning:\n",
      "\n",
      "The default of observed=False is deprecated and will be changed to True in a future version of pandas. Pass observed=False to retain current behavior or observed=True to adopt the future default and silence this warning.\n",
      "\n"
     ]
    },
    {
     "data": {
      "text/plain": [
       "<Axes: xlabel='category_age'>"
      ]
     },
     "execution_count": 122,
     "metadata": {},
     "output_type": "execute_result"
    },
    {
     "data": {
      "image/png": "[encoded data removed]",
      "text/plain": [
       "<Figure size 640x480 with 1 Axes>"
      ]
     },
     "metadata": {},
     "output_type": "display_data"
    }
   ],
   "source": [
    "df.groupby(\"category_age\")[\"age\"].count().plot(kind=\"bar\")"
   ]
  },
  {
   "cell_type": "markdown",
   "metadata": {},
   "source": [
    "## Outliers "
   ]
  },
  {
   "cell_type": "markdown",
   "metadata": {},
   "source": [
    "## Lets Deal With Outlier in Dataset , Find Outlier And Remove Outlier"
   ]
  },
  {
   "cell_type": "code",
   "execution_count": 123,
   "metadata": {},
   "outputs": [
    {
     "data": {
      "image/png": "[encoded data removed]",
      "text/plain": [
       "<Figure size 640x480 with 1 Axes>"
      ]
     },
     "metadata": {},
     "output_type": "display_data"
    }
   ],
   "source": [
    "sns.boxplot(data=df , x=\"sex\",y=\"age\")\n",
    "plt.title(\"Age Distribution by Gender.[Fig1]\")\n",
    "plt.show()"
   ]
  },
  {
   "cell_type": "markdown",
   "metadata": {},
   "source": [
    "- in Fig1 we can Clearly see Outlier in the Dataset "
   ]
  },
  {
   "cell_type": "markdown",
   "metadata": {},
   "source": [
    "### Removing Outliers Using IQR Method "
   ]
  },
  {
   "cell_type": "markdown",
   "metadata": {},
   "source": [
    "-Age"
   ]
  },
  {
   "cell_type": "code",
   "execution_count": 124,
   "metadata": {},
   "outputs": [
    {
     "name": "stdout",
     "output_type": "stream",
     "text": [
      "Outliers:\n",
      "[     survived     sex   age  sibsp  parch      fare   class  embark_town  \\\n",
      "33          0    male  66.0      0      0   10.5000  Second  Southampton   \n",
      "54          0    male  65.0      0      1   61.9792   First    Cherbourg   \n",
      "96          0    male  71.0      0      0   34.6542   First    Cherbourg   \n",
      "116         0    male  70.5      0      0    7.7500   Third   Queenstown   \n",
      "275         1  female  63.0      1      0   77.9583   First  Southampton   \n",
      "280         0    male  65.0      0      0    7.7500   Third   Queenstown   \n",
      "438         0    male  64.0      1      4  263.0000   First  Southampton   \n",
      "456         0    male  65.0      0      0   26.5500   First  Southampton   \n",
      "483         1  female  63.0      0      0    9.5875   Third  Southampton   \n",
      "493         0    male  71.0      0      0   49.5042   First    Cherbourg   \n",
      "545         0    male  64.0      0      0   26.0000   First  Southampton   \n",
      "630         1    male  80.0      0      0   30.0000   First  Southampton   \n",
      "672         0    male  70.0      0      0   10.5000  Second  Southampton   \n",
      "745         0    male  70.0      1      1   71.0000   First  Southampton   \n",
      "851         0    male  74.0      0      0    7.7750   Third  Southampton   \n",
      "\n",
      "    category_age  \n",
      "33        Senior  \n",
      "54        Senior  \n",
      "96       Elderly  \n",
      "116      Elderly  \n",
      "275       Senior  \n",
      "280       Senior  \n",
      "438       Senior  \n",
      "456       Senior  \n",
      "483       Senior  \n",
      "493      Elderly  \n",
      "545       Senior  \n",
      "630      Elderly  \n",
      "672       Senior  \n",
      "745       Senior  \n",
      "851      Elderly  ]\n",
      "   survived     sex   age  sibsp  parch     fare  class  embark_town  \\\n",
      "0         0    male  22.0      1      0   7.2500  Third  Southampton   \n",
      "1         1  female  38.0      1      0  71.2833  First    Cherbourg   \n",
      "2         1  female  26.0      0      0   7.9250  Third  Southampton   \n",
      "3         1  female  35.0      1      0  53.1000  First  Southampton   \n",
      "4         0    male  35.0      0      0   8.0500  Third  Southampton   \n",
      "\n",
      "  category_age  \n",
      "0         Teen  \n",
      "1        Adult  \n",
      "2         Teen  \n",
      "3        Adult  \n",
      "4        Adult  \n"
     ]
    }
   ],
   "source": [
    "Q1 = df[\"age\"].quantile(0.25)\n",
    "Q3 = df[\"age\"].quantile(0.75)\n",
    "IQR = Q3-Q1\n",
    "# print(IQR)\n",
    "# Define the lower and upper bounds for outliers\n",
    "lower_bound = Q1 - 1.5 * IQR\n",
    "upper_bound = Q3 + 1.5 * IQR\n",
    "\n",
    "# Identify and print outliers\n",
    "outliers = [df[(df['age'] < lower_bound) | (df['age'] > upper_bound)]]\n",
    "print(\"Outliers:\")\n",
    "print(outliers)\n",
    "\n",
    "# Remove outliers\n",
    "df = df[(df['age'] >= lower_bound) & (df['age'] <= upper_bound)]\n",
    "\n",
    "# Display the first few rows of the dataset without outliers\n",
    "print(df.head())"
   ]
  },
  {
   "cell_type": "code",
   "execution_count": 125,
   "metadata": {},
   "outputs": [
    {
     "data": {
      "image/png": "[encoded data removed]",
      "text/plain": [
       "<Figure size 640x480 with 1 Axes>"
      ]
     },
     "metadata": {},
     "output_type": "display_data"
    }
   ],
   "source": [
    "sns.boxplot(data=df , x=\"sex\",y=\"age\")\n",
    "plt.title(\"Age Distribution by Gender.[Fig2]\")\n",
    "plt.show()"
   ]
  },
  {
   "cell_type": "markdown",
   "metadata": {},
   "source": [
    "- In Fig3 Here We Removed Outlier in Age "
   ]
  },
  {
   "cell_type": "markdown",
   "metadata": {},
   "source": [
    "- Fare "
   ]
  },
  {
   "cell_type": "code",
   "execution_count": 126,
   "metadata": {},
   "outputs": [
    {
     "name": "stdout",
     "output_type": "stream",
     "text": [
      "Outliers:\n",
      "[     survived     sex        age  sibsp  parch      fare  class  embark_town  \\\n",
      "27          0    male  19.000000      3      2  263.0000  First  Southampton   \n",
      "31          1  female  38.233441      1      0  146.5208  First    Cherbourg   \n",
      "34          0    male  28.000000      1      0   82.1708  First    Cherbourg   \n",
      "52          1  female  49.000000      1      0   76.7292  First    Cherbourg   \n",
      "61          1  female  38.000000      0      0   80.0000  First  Southampton   \n",
      "..        ...     ...        ...    ...    ...       ...    ...          ...   \n",
      "829         1  female  62.000000      0      0   80.0000  First  Southampton   \n",
      "835         1  female  39.000000      1      1   83.1583  First    Cherbourg   \n",
      "849         1  female  38.233441      1      0   89.1042  First    Cherbourg   \n",
      "856         1  female  45.000000      1      1  164.8667  First  Southampton   \n",
      "879         1  female  56.000000      0      1   83.1583  First    Cherbourg   \n",
      "\n",
      "    category_age  \n",
      "27         child  \n",
      "31         Adult  \n",
      "34          Teen  \n",
      "52   Middle-Aged  \n",
      "61         Adult  \n",
      "..           ...  \n",
      "829       Senior  \n",
      "835        Adult  \n",
      "849        Adult  \n",
      "856  Middle-Aged  \n",
      "879     Old-Aged  \n",
      "\n",
      "[100 rows x 9 columns]]\n"
     ]
    },
    {
     "data": {
      "text/html": [
       "<div>\n",
       "<style scoped>\n",
       "    .dataframe tbody tr th:only-of-type {\n",
       "        vertical-align: middle;\n",
       "    }\n",
       "\n",
       "    .dataframe tbody tr th {\n",
       "        vertical-align: top;\n",
       "    }\n",
       "\n",
       "    .dataframe thead th {\n",
       "        text-align: right;\n",
       "    }\n",
       "</style>\n",
       "<table border=\"1\" class=\"dataframe\">\n",
       "  <thead>\n",
       "    <tr style=\"text-align: right;\">\n",
       "      <th></th>\n",
       "      <th>survived</th>\n",
       "      <th>sex</th>\n",
       "      <th>age</th>\n",
       "      <th>sibsp</th>\n",
       "      <th>parch</th>\n",
       "      <th>fare</th>\n",
       "      <th>class</th>\n",
       "      <th>embark_town</th>\n",
       "      <th>category_age</th>\n",
       "    </tr>\n",
       "  </thead>\n",
       "  <tbody>\n",
       "    <tr>\n",
       "      <th>0</th>\n",
       "      <td>0</td>\n",
       "      <td>male</td>\n",
       "      <td>22.0</td>\n",
       "      <td>1</td>\n",
       "      <td>0</td>\n",
       "      <td>7.2500</td>\n",
       "      <td>Third</td>\n",
       "      <td>Southampton</td>\n",
       "      <td>Teen</td>\n",
       "    </tr>\n",
       "    <tr>\n",
       "      <th>1</th>\n",
       "      <td>1</td>\n",
       "      <td>female</td>\n",
       "      <td>38.0</td>\n",
       "      <td>1</td>\n",
       "      <td>0</td>\n",
       "      <td>71.2833</td>\n",
       "      <td>First</td>\n",
       "      <td>Cherbourg</td>\n",
       "      <td>Adult</td>\n",
       "    </tr>\n",
       "    <tr>\n",
       "      <th>2</th>\n",
       "      <td>1</td>\n",
       "      <td>female</td>\n",
       "      <td>26.0</td>\n",
       "      <td>0</td>\n",
       "      <td>0</td>\n",
       "      <td>7.9250</td>\n",
       "      <td>Third</td>\n",
       "      <td>Southampton</td>\n",
       "      <td>Teen</td>\n",
       "    </tr>\n",
       "    <tr>\n",
       "      <th>3</th>\n",
       "      <td>1</td>\n",
       "      <td>female</td>\n",
       "      <td>35.0</td>\n",
       "      <td>1</td>\n",
       "      <td>0</td>\n",
       "      <td>53.1000</td>\n",
       "      <td>First</td>\n",
       "      <td>Southampton</td>\n",
       "      <td>Adult</td>\n",
       "    </tr>\n",
       "    <tr>\n",
       "      <th>4</th>\n",
       "      <td>0</td>\n",
       "      <td>male</td>\n",
       "      <td>35.0</td>\n",
       "      <td>0</td>\n",
       "      <td>0</td>\n",
       "      <td>8.0500</td>\n",
       "      <td>Third</td>\n",
       "      <td>Southampton</td>\n",
       "      <td>Adult</td>\n",
       "    </tr>\n",
       "  </tbody>\n",
       "</table>\n",
       "</div>"
      ],
      "text/plain": [
       "   survived     sex   age  sibsp  parch     fare  class  embark_town  \\\n",
       "0         0    male  22.0      1      0   7.2500  Third  Southampton   \n",
       "1         1  female  38.0      1      0  71.2833  First    Cherbourg   \n",
       "2         1  female  26.0      0      0   7.9250  Third  Southampton   \n",
       "3         1  female  35.0      1      0  53.1000  First  Southampton   \n",
       "4         0    male  35.0      0      0   8.0500  Third  Southampton   \n",
       "\n",
       "  category_age  \n",
       "0         Teen  \n",
       "1        Adult  \n",
       "2         Teen  \n",
       "3        Adult  \n",
       "4        Adult  "
      ]
     },
     "execution_count": 126,
     "metadata": {},
     "output_type": "execute_result"
    }
   ],
   "source": [
    "Q1 = df[\"fare\"].quantile(0.25)\n",
    "Q3 = df[\"fare\"].quantile(0.75)\n",
    "IQR = Q3-Q1\n",
    "# print(IQR)\n",
    "# Define the lower and upper bounds for outliers\n",
    "lower_bound = Q1 - 1.5 * IQR\n",
    "upper_bound = Q3 + 1.5 * IQR\n",
    "\n",
    "# Identify and print outliers\n",
    "outliers = [df[(df['fare'] < lower_bound) | (df['fare'] > upper_bound)]]\n",
    "print(\"Outliers:\")\n",
    "print(outliers)\n",
    "\n",
    "# Remove outliers\n",
    "df = df[(df['fare'] >= lower_bound) & (df['fare'] <= upper_bound)]\n",
    "\n",
    "# Display the first few rows of the dataset without outliers\n",
    "df.head()"
   ]
  },
  {
   "cell_type": "code",
   "execution_count": 127,
   "metadata": {},
   "outputs": [
    {
     "data": {
      "image/png": "[encoded data removed]",
      "text/plain": [
       "<Figure size 640x480 with 1 Axes>"
      ]
     },
     "metadata": {},
     "output_type": "display_data"
    }
   ],
   "source": [
    "sns.boxplot(data=df , x=\"sex\",y=\"age\")\n",
    "plt.title(\"Age Distribution by Gender.[Fig3]\")\n",
    "plt.show()"
   ]
  },
  {
   "cell_type": "markdown",
   "metadata": {},
   "source": [
    "## Milestone 3 All The Outliers Are Removed from Dataset"
   ]
  },
  {
   "cell_type": "markdown",
   "metadata": {},
   "source": [
    "## 1.  Catergory Wise Fare Check"
   ]
  },
  {
   "cell_type": "code",
   "execution_count": 128,
   "metadata": {},
   "outputs": [
    {
     "name": "stderr",
     "output_type": "stream",
     "text": [
      "C:\\Users\\T L S\\AppData\\Local\\Temp\\ipykernel_16180\\710973993.py:1: FutureWarning:\n",
      "\n",
      "The default of observed=False is deprecated and will be changed to True in a future version of pandas. Pass observed=False to retain current behavior or observed=True to adopt the future default and silence this warning.\n",
      "\n"
     ]
    },
    {
     "data": {
      "image/png": "[encoded data removed]",
      "text/plain": [
       "<Figure size 640x480 with 1 Axes>"
      ]
     },
     "metadata": {},
     "output_type": "display_data"
    }
   ],
   "source": [
    "df.groupby(\"category_age\")[\"fare\"].sum().plot(kind=\"barh\")\n",
    "plt.title(\"Age Distribution by Fare.[Fig5]\")\n",
    "plt.show()"
   ]
  },
  {
   "cell_type": "markdown",
   "metadata": {},
   "source": [
    "- Fig5 - We Can see that the teens pays Highest Fare "
   ]
  },
  {
   "cell_type": "markdown",
   "metadata": {},
   "source": [
    "## 2. Count Age "
   ]
  },
  {
   "cell_type": "code",
   "execution_count": 129,
   "metadata": {},
   "outputs": [
    {
     "data": {
      "image/png": "[encoded data removed]",
      "text/plain": [
       "<Figure size 1600x900 with 1 Axes>"
      ]
     },
     "metadata": {},
     "output_type": "display_data"
    }
   ],
   "source": [
    "plt.figure(figsize=(16,9))\n",
    "sns.countplot(data=df, x=\"category_age\")\n",
    "plt.title(\"Age Count [Fig6]\")\n",
    "plt.show()"
   ]
  },
  {
   "cell_type": "markdown",
   "metadata": {},
   "source": [
    "## Category  Count Using Plotly "
   ]
  },
  {
   "cell_type": "code",
   "execution_count": 130,
   "metadata": {},
   "outputs": [
    {
     "data": {
      "application/vnd.plotly.v1+json": {
       "config": {
        "plotlyServerURL": "https://plot.ly"
       },
       "data": [
        {
         "alignmentgroup": "True",
         "bingroup": "x",
         "hovertemplate": "sex=male<br>category_age=%{x}<br>count=%{y}<extra></extra>",
         "legendgroup": "male",
         "marker": {
          "color": "#636efa",
          "pattern": {
           "shape": ""
          }
         },
         "name": "male",
         "offsetgroup": "male",
         "orientation": "v",
         "showlegend": true,
         "type": "histogram",
         "x": [
          "Teen",
          "Adult",
          "Teen",
          "Old-Aged",
          "Baby",
          "child",
          "Adult",
          "Baby",
          "Teen",
          "Adult",
          "Adult",
          "Teen",
          "Teen",
          "Teen",
          "Adult",
          "Middle-Aged",
          "Teen",
          "Teen",
          "Teen",
          "Teen",
          "Teen",
          "Teen",
          "Baby",
          "Teen",
          "Adult",
          "Teen",
          "child",
          "Teen",
          "Baby",
          "Adult",
          "Teen",
          "child",
          "Teen",
          "Adult",
          "Teen",
          "Adult",
          "Teen",
          "Baby",
          "Teen",
          "Teen",
          "Teen",
          "child",
          "Teen",
          "Teen",
          "child",
          "Middle-Aged",
          "Teen",
          "Old-Aged",
          "Teen",
          "Adult",
          "Adult",
          "Adult",
          "Teen",
          "Teen",
          "Adult",
          "Middle-Aged",
          "Teen",
          "Teen",
          "Teen",
          "Adult",
          "child",
          "Teen",
          "Teen",
          "Middle-Aged",
          "Adult",
          "child",
          "Teen",
          "Teen",
          "Adult",
          "child",
          "child",
          "child",
          "child",
          "Teen",
          "Adult",
          "Middle-Aged",
          "Old-Aged",
          "Old-Aged",
          "Middle-Aged",
          "Teen",
          "Old-Aged",
          "Teen",
          "Teen",
          "Teen",
          "Middle-Aged",
          "Teen",
          "child",
          "Baby",
          "Baby",
          "Adult",
          "Teen",
          "Senior",
          "Baby",
          "Old-Aged",
          "child",
          "Teen",
          "Teen",
          "Adult",
          "Teen",
          "Baby",
          "Baby",
          "Adult",
          "Middle-Aged",
          "Adult",
          "Adult",
          "child",
          "Baby",
          "Middle-Aged",
          "Teen",
          "Adult",
          "Middle-Aged",
          "child",
          "Adult",
          "Teen",
          "Adult",
          "Teen",
          "Teen",
          "Teen",
          "Middle-Aged",
          "Teen",
          "child",
          "Teen",
          "Old-Aged",
          "Teen",
          "child",
          "Teen",
          "child",
          "Teen",
          "Old-Aged",
          "Teen",
          "Middle-Aged",
          "child",
          "Adult",
          "Teen",
          "Teen",
          "Teen",
          "Adult",
          "Old-Aged",
          "Teen",
          "Senior",
          "Teen",
          "Baby",
          "Adult",
          "Adult",
          "child",
          "Teen",
          "Adult",
          "Teen",
          "Adult",
          "Teen",
          "Baby",
          "Teen",
          "child",
          "child",
          "Adult",
          "Adult",
          "Teen",
          "Teen",
          "Middle-Aged",
          "Adult",
          "Teen",
          "Teen",
          "Adult",
          "Teen",
          "child",
          "Teen",
          "Middle-Aged",
          "Old-Aged",
          "Teen",
          "Senior",
          "Middle-Aged",
          "child",
          "Teen",
          "Middle-Aged",
          "Middle-Aged",
          "Baby",
          "Teen",
          "Adult",
          "Baby",
          "Middle-Aged",
          "Teen",
          "Adult",
          "child",
          "Teen",
          "Adult",
          "Teen",
          "Adult",
          "Teen",
          "Teen",
          "child",
          "child",
          "child",
          "child",
          "Adult",
          "Baby",
          "Teen",
          "Teen",
          "Teen",
          "Teen",
          "Middle-Aged",
          "Teen",
          "Adult",
          "Teen",
          "Teen",
          "Adult",
          "Old-Aged",
          "Baby",
          "Teen",
          "Teen",
          "Middle-Aged",
          "Teen",
          "Teen",
          "child",
          "Adult",
          "Teen",
          "child",
          "Middle-Aged",
          "Adult",
          "child",
          "Teen",
          "Teen",
          "Adult",
          "Old-Aged",
          "Adult",
          "Teen",
          "Teen",
          "Teen",
          "Middle-Aged",
          "Adult",
          "Middle-Aged",
          "Middle-Aged",
          "Adult",
          "Old-Aged",
          "Teen",
          "Adult",
          "Adult",
          "Teen",
          "Teen",
          "Baby",
          "Middle-Aged",
          "Old-Aged",
          "Baby",
          "Teen",
          "Old-Aged",
          "Teen",
          "Teen",
          "Teen",
          "Adult",
          "Teen",
          "Teen",
          "Teen",
          "Adult",
          "Teen",
          "Middle-Aged",
          "Teen",
          "Adult",
          "Teen",
          "Middle-Aged",
          "Adult",
          "Teen",
          "child",
          "Middle-Aged",
          "Teen",
          "Adult",
          "Teen",
          "Adult",
          "Baby",
          "Teen",
          "Teen",
          "Teen",
          "Adult",
          "Teen",
          "Teen",
          "child",
          "Adult",
          "Senior",
          "Adult",
          "child",
          "child",
          "Adult",
          "Old-Aged",
          "Adult",
          "Teen",
          "Middle-Aged",
          "Adult",
          "Middle-Aged",
          "Adult",
          "Adult",
          "Middle-Aged",
          "Middle-Aged",
          "Adult",
          "Middle-Aged",
          "Adult",
          "Adult",
          "Teen",
          "Teen",
          "Teen",
          "Adult",
          "Teen",
          "Teen",
          "Middle-Aged",
          "child",
          "Teen",
          "Teen",
          "Senior",
          "Old-Aged",
          "Teen",
          "Teen",
          "Old-Aged",
          "Adult",
          "Adult",
          "Adult",
          "Teen",
          "Teen",
          "Old-Aged",
          "Teen",
          "Teen",
          "Teen",
          "Adult",
          "Middle-Aged",
          "Adult",
          "child",
          "Teen",
          "Middle-Aged",
          "Adult",
          "Adult",
          "child",
          "Teen",
          "child",
          "child",
          "Old-Aged",
          "Teen",
          "child",
          "child",
          "child",
          "Adult",
          "Teen",
          "Old-Aged",
          "Old-Aged",
          "Middle-Aged",
          "Adult",
          "Teen",
          "Teen",
          "Adult",
          "Middle-Aged",
          "Adult",
          "Middle-Aged",
          "Teen",
          "Old-Aged",
          "child",
          "Teen",
          "Adult",
          "child",
          "Adult",
          "Middle-Aged",
          "Teen",
          "child",
          "Teen",
          "child",
          "Teen",
          "Adult",
          "Teen",
          "Adult",
          "child",
          "child",
          "Adult",
          "Baby",
          "Adult",
          "Teen",
          "Baby",
          "Teen",
          "Middle-Aged",
          "child",
          "child",
          "Adult",
          "Teen",
          "Adult",
          "Teen",
          "Middle-Aged",
          "child",
          "Teen",
          "Teen",
          "Teen",
          "Teen",
          "Teen",
          "Baby",
          "Baby",
          "child",
          "Adult",
          "Teen",
          "Adult",
          "Teen",
          "Baby",
          "Teen",
          "Adult",
          "Adult",
          "Teen",
          "Adult",
          "Adult",
          "Adult",
          "Adult",
          "Middle-Aged",
          "Baby",
          "Teen",
          "Adult",
          "Baby",
          "Teen",
          "Teen",
          "Baby",
          "Teen",
          "Baby",
          "Teen",
          "child",
          "Teen",
          "Adult",
          "child",
          "child",
          "Adult",
          "Middle-Aged",
          "Adult",
          "Teen",
          "Baby",
          "Old-Aged",
          "Middle-Aged",
          "Teen",
          "Teen",
          "Adult",
          "Teen",
          "Baby",
          "Adult",
          "Middle-Aged",
          "child",
          "Adult",
          "Teen",
          "Teen",
          "Adult"
         ],
         "xaxis": "x",
         "yaxis": "y"
        },
        {
         "alignmentgroup": "True",
         "bingroup": "x",
         "hovertemplate": "sex=female<br>category_age=%{x}<br>count=%{y}<extra></extra>",
         "legendgroup": "female",
         "marker": {
          "color": "#EF553B",
          "pattern": {
           "shape": ""
          }
         },
         "name": "female",
         "offsetgroup": "female",
         "orientation": "v",
         "showlegend": true,
         "type": "histogram",
         "x": [
          "Adult",
          "Teen",
          "Adult",
          "Teen",
          "child",
          "Baby",
          "Old-Aged",
          "child",
          "Old-Aged",
          "Adult",
          "Teen",
          "child",
          "Baby",
          "Adult",
          "Teen",
          "Teen",
          "child",
          "child",
          "Adult",
          "Teen",
          "Baby",
          "child",
          "child",
          "Teen",
          "Teen",
          "Baby",
          "Teen",
          "child",
          "child",
          "Teen",
          "Teen",
          "child",
          "Adult",
          "Adult",
          "Teen",
          "Teen",
          "Teen",
          "child",
          "child",
          "child",
          "Baby",
          "Adult",
          "Teen",
          "Middle-Aged",
          "child",
          "Teen",
          "Teen",
          "Teen",
          "Baby",
          "Teen",
          "child",
          "Adult",
          "Adult",
          "Middle-Aged",
          "Baby",
          "Middle-Aged",
          "Teen",
          "Baby",
          "Teen",
          "Adult",
          "child",
          "Middle-Aged",
          "Teen",
          "Baby",
          "child",
          "Adult",
          "Teen",
          "Teen",
          "Baby",
          "Teen",
          "Baby",
          "Teen",
          "Teen",
          "Teen",
          "Teen",
          "Middle-Aged",
          "Teen",
          "Middle-Aged",
          "Teen",
          "Middle-Aged",
          "Middle-Aged",
          "Adult",
          "Teen",
          "Teen",
          "Teen",
          "Teen",
          "Teen",
          "Teen",
          "Teen",
          "Teen",
          "Teen",
          "Adult",
          "Adult",
          "child",
          "Teen",
          "Teen",
          "Adult",
          "Teen",
          "Teen",
          "Adult",
          "Middle-Aged",
          "Teen",
          "Teen",
          "Baby",
          "Teen",
          "Baby",
          "Adult",
          "child",
          "Teen",
          "Adult",
          "Teen",
          "Teen",
          "child",
          "Teen",
          "Adult",
          "child",
          "Baby",
          "Teen",
          "Teen",
          "child",
          "Middle-Aged",
          "Teen",
          "Teen",
          "Middle-Aged",
          "Teen",
          "child",
          "Baby",
          "Adult",
          "Middle-Aged",
          "Baby",
          "Adult",
          "Teen",
          "Teen",
          "Baby",
          "Teen",
          "Teen",
          "Adult",
          "Adult",
          "Old-Aged",
          "Adult",
          "Adult",
          "Middle-Aged",
          "Baby",
          "Teen",
          "Teen",
          "Baby",
          "Teen",
          "Adult",
          "Baby",
          "child",
          "child",
          "Teen",
          "Middle-Aged",
          "Adult",
          "Teen",
          "Old-Aged",
          "Adult",
          "Adult",
          "Teen",
          "Teen",
          "Teen",
          "Teen",
          "Teen",
          "Teen",
          "Adult",
          "Teen",
          "Teen",
          "Baby",
          "Baby",
          "Middle-Aged",
          "Baby",
          "Teen",
          "child",
          "Teen",
          "child",
          "Adult",
          "Adult",
          "Adult",
          "child",
          "Middle-Aged",
          "Teen",
          "Baby",
          "Teen",
          "child",
          "Middle-Aged",
          "Teen",
          "Teen",
          "Baby",
          "Teen",
          "Teen",
          "Teen",
          "Middle-Aged",
          "Teen",
          "Baby",
          "Middle-Aged",
          "Adult",
          "Old-Aged",
          "Old-Aged",
          "Baby",
          "child",
          "child",
          "child",
          "Middle-Aged",
          "Adult",
          "Teen",
          "Adult",
          "child",
          "Adult",
          "Baby",
          "Teen",
          "Teen",
          "child",
          "Teen",
          "Baby",
          "child",
          "Middle-Aged",
          "child",
          "Teen",
          "Middle-Aged",
          "Middle-Aged",
          "Teen",
          "Middle-Aged",
          "Teen",
          "child",
          "Teen",
          "Teen",
          "Adult",
          "child",
          "Teen"
         ],
         "xaxis": "x",
         "yaxis": "y"
        }
       ],
       "layout": {
        "barmode": "group",
        "legend": {
         "title": {
          "text": "sex"
         },
         "tracegroupgap": 0
        },
        "margin": {
         "t": 60
        },
        "template": {
         "data": {
          "bar": [
           {
            "error_x": {
             "color": "#2a3f5f"
            },
            "error_y": {
             "color": "#2a3f5f"
            },
            "marker": {
             "line": {
              "color": "#E5ECF6",
              "width": 0.5
             },
             "pattern": {
              "fillmode": "overlay",
              "size": 10,
              "solidity": 0.2
             }
            },
            "type": "bar"
           }
          ],
          "barpolar": [
           {
            "marker": {
             "line": {
              "color": "#E5ECF6",
              "width": 0.5
             },
             "pattern": {
              "fillmode": "overlay",
              "size": 10,
              "solidity": 0.2
             }
            },
            "type": "barpolar"
           }
          ],
          "carpet": [
           {
            "aaxis": {
             "endlinecolor": "#2a3f5f",
             "gridcolor": "white",
             "linecolor": "white",
             "minorgridcolor": "white",
             "startlinecolor": "#2a3f5f"
            },
            "baxis": {
             "endlinecolor": "#2a3f5f",
             "gridcolor": "white",
             "linecolor": "white",
             "minorgridcolor": "white",
             "startlinecolor": "#2a3f5f"
            },
            "type": "carpet"
           }
          ],
          "choropleth": [
           {
            "colorbar": {
             "outlinewidth": 0,
             "ticks": ""
            },
            "type": "choropleth"
           }
          ],
          "contour": [
           {
            "colorbar": {
             "outlinewidth": 0,
             "ticks": ""
            },
            "colorscale": [
             [
              0,
              "#0d0887"
             ],
             [
              0.1111111111111111,
              "#46039f"
             ],
             [
              0.2222222222222222,
              "#7201a8"
             ],
             [
              0.3333333333333333,
              "#9c179e"
             ],
             [
              0.4444444444444444,
              "#bd3786"
             ],
             [
              0.5555555555555556,
              "#d8576b"
             ],
             [
              0.6666666666666666,
              "#ed7953"
             ],
             [
              0.7777777777777778,
              "#fb9f3a"
             ],
             [
              0.8888888888888888,
              "#fdca26"
             ],
             [
              1,
              "#f0f921"
             ]
            ],
            "type": "contour"
           }
          ],
          "contourcarpet": [
           {
            "colorbar": {
             "outlinewidth": 0,
             "ticks": ""
            },
            "type": "contourcarpet"
           }
          ],
          "heatmap": [
           {
            "colorbar": {
             "outlinewidth": 0,
             "ticks": ""
            },
            "colorscale": [
             [
              0,
              "#0d0887"
             ],
             [
              0.1111111111111111,
              "#46039f"
             ],
             [
              0.2222222222222222,
              "#7201a8"
             ],
             [
              0.3333333333333333,
              "#9c179e"
             ],
             [
              0.4444444444444444,
              "#bd3786"
             ],
             [
              0.5555555555555556,
              "#d8576b"
             ],
             [
              0.6666666666666666,
              "#ed7953"
             ],
             [
              0.7777777777777778,
              "#fb9f3a"
             ],
             [
              0.8888888888888888,
              "#fdca26"
             ],
             [
              1,
              "#f0f921"
             ]
            ],
            "type": "heatmap"
           }
          ],
          "heatmapgl": [
           {
            "colorbar": {
             "outlinewidth": 0,
             "ticks": ""
            },
            "colorscale": [
             [
              0,
              "#0d0887"
             ],
             [
              0.1111111111111111,
              "#46039f"
             ],
             [
              0.2222222222222222,
              "#7201a8"
             ],
             [
              0.3333333333333333,
              "#9c179e"
             ],
             [
              0.4444444444444444,
              "#bd3786"
             ],
             [
              0.5555555555555556,
              "#d8576b"
             ],
             [
              0.6666666666666666,
              "#ed7953"
             ],
             [
              0.7777777777777778,
              "#fb9f3a"
             ],
             [
              0.8888888888888888,
              "#fdca26"
             ],
             [
              1,
              "#f0f921"
             ]
            ],
            "type": "heatmapgl"
           }
          ],
          "histogram": [
           {
            "marker": {
             "pattern": {
              "fillmode": "overlay",
              "size": 10,
              "solidity": 0.2
             }
            },
            "type": "histogram"
           }
          ],
          "histogram2d": [
           {
            "colorbar": {
             "outlinewidth": 0,
             "ticks": ""
            },
            "colorscale": [
             [
              0,
              "#0d0887"
             ],
             [
              0.1111111111111111,
              "#46039f"
             ],
             [
              0.2222222222222222,
              "#7201a8"
             ],
             [
              0.3333333333333333,
              "#9c179e"
             ],
             [
              0.4444444444444444,
              "#bd3786"
             ],
             [
              0.5555555555555556,
              "#d8576b"
             ],
             [
              0.6666666666666666,
              "#ed7953"
             ],
             [
              0.7777777777777778,
              "#fb9f3a"
             ],
             [
              0.8888888888888888,
              "#fdca26"
             ],
             [
              1,
              "#f0f921"
             ]
            ],
            "type": "histogram2d"
           }
          ],
          "histogram2dcontour": [
           {
            "colorbar": {
             "outlinewidth": 0,
             "ticks": ""
            },
            "colorscale": [
             [
              0,
              "#0d0887"
             ],
             [
              0.1111111111111111,
              "#46039f"
             ],
             [
              0.2222222222222222,
              "#7201a8"
             ],
             [
              0.3333333333333333,
              "#9c179e"
             ],
             [
              0.4444444444444444,
              "#bd3786"
             ],
             [
              0.5555555555555556,
              "#d8576b"
             ],
             [
              0.6666666666666666,
              "#ed7953"
             ],
             [
              0.7777777777777778,
              "#fb9f3a"
             ],
             [
              0.8888888888888888,
              "#fdca26"
             ],
             [
              1,
              "#f0f921"
             ]
            ],
            "type": "histogram2dcontour"
           }
          ],
          "mesh3d": [
           {
            "colorbar": {
             "outlinewidth": 0,
             "ticks": ""
            },
            "type": "mesh3d"
           }
          ],
          "parcoords": [
           {
            "line": {
             "colorbar": {
              "outlinewidth": 0,
              "ticks": ""
             }
            },
            "type": "parcoords"
           }
          ],
          "pie": [
           {
            "automargin": true,
            "type": "pie"
           }
          ],
          "scatter": [
           {
            "fillpattern": {
             "fillmode": "overlay",
             "size": 10,
             "solidity": 0.2
            },
            "type": "scatter"
           }
          ],
          "scatter3d": [
           {
            "line": {
             "colorbar": {
              "outlinewidth": 0,
              "ticks": ""
             }
            },
            "marker": {
             "colorbar": {
              "outlinewidth": 0,
              "ticks": ""
             }
            },
            "type": "scatter3d"
           }
          ],
          "scattercarpet": [
           {
            "marker": {
             "colorbar": {
              "outlinewidth": 0,
              "ticks": ""
             }
            },
            "type": "scattercarpet"
           }
          ],
          "scattergeo": [
           {
            "marker": {
             "colorbar": {
              "outlinewidth": 0,
              "ticks": ""
             }
            },
            "type": "scattergeo"
           }
          ],
          "scattergl": [
           {
            "marker": {
             "colorbar": {
              "outlinewidth": 0,
              "ticks": ""
             }
            },
            "type": "scattergl"
           }
          ],
          "scattermapbox": [
           {
            "marker": {
             "colorbar": {
              "outlinewidth": 0,
              "ticks": ""
             }
            },
            "type": "scattermapbox"
           }
          ],
          "scatterpolar": [
           {
            "marker": {
             "colorbar": {
              "outlinewidth": 0,
              "ticks": ""
             }
            },
            "type": "scatterpolar"
           }
          ],
          "scatterpolargl": [
           {
            "marker": {
             "colorbar": {
              "outlinewidth": 0,
              "ticks": ""
             }
            },
            "type": "scatterpolargl"
           }
          ],
          "scatterternary": [
           {
            "marker": {
             "colorbar": {
              "outlinewidth": 0,
              "ticks": ""
             }
            },
            "type": "scatterternary"
           }
          ],
          "surface": [
           {
            "colorbar": {
             "outlinewidth": 0,
             "ticks": ""
            },
            "colorscale": [
             [
              0,
              "#0d0887"
             ],
             [
              0.1111111111111111,
              "#46039f"
             ],
             [
              0.2222222222222222,
              "#7201a8"
             ],
             [
              0.3333333333333333,
              "#9c179e"
             ],
             [
              0.4444444444444444,
              "#bd3786"
             ],
             [
              0.5555555555555556,
              "#d8576b"
             ],
             [
              0.6666666666666666,
              "#ed7953"
             ],
             [
              0.7777777777777778,
              "#fb9f3a"
             ],
             [
              0.8888888888888888,
              "#fdca26"
             ],
             [
              1,
              "#f0f921"
             ]
            ],
            "type": "surface"
           }
          ],
          "table": [
           {
            "cells": {
             "fill": {
              "color": "#EBF0F8"
             },
             "line": {
              "color": "white"
             }
            },
            "header": {
             "fill": {
              "color": "#C8D4E3"
             },
             "line": {
              "color": "white"
             }
            },
            "type": "table"
           }
          ]
         },
         "layout": {
          "annotationdefaults": {
           "arrowcolor": "#2a3f5f",
           "arrowhead": 0,
           "arrowwidth": 1
          },
          "autotypenumbers": "strict",
          "coloraxis": {
           "colorbar": {
            "outlinewidth": 0,
            "ticks": ""
           }
          },
          "colorscale": {
           "diverging": [
            [
             0,
             "#8e0152"
            ],
            [
             0.1,
             "#c51b7d"
            ],
            [
             0.2,
             "#de77ae"
            ],
            [
             0.3,
             "#f1b6da"
            ],
            [
             0.4,
             "#fde0ef"
            ],
            [
             0.5,
             "#f7f7f7"
            ],
            [
             0.6,
             "#e6f5d0"
            ],
            [
             0.7,
             "#b8e186"
            ],
            [
             0.8,
             "#7fbc41"
            ],
            [
             0.9,
             "#4d9221"
            ],
            [
             1,
             "#276419"
            ]
           ],
           "sequential": [
            [
             0,
             "#0d0887"
            ],
            [
             0.1111111111111111,
             "#46039f"
            ],
            [
             0.2222222222222222,
             "#7201a8"
            ],
            [
             0.3333333333333333,
             "#9c179e"
            ],
            [
             0.4444444444444444,
             "#bd3786"
            ],
            [
             0.5555555555555556,
             "#d8576b"
            ],
            [
             0.6666666666666666,
             "#ed7953"
            ],
            [
             0.7777777777777778,
             "#fb9f3a"
            ],
            [
             0.8888888888888888,
             "#fdca26"
            ],
            [
             1,
             "#f0f921"
            ]
           ],
           "sequentialminus": [
            [
             0,
             "#0d0887"
            ],
            [
             0.1111111111111111,
             "#46039f"
            ],
            [
             0.2222222222222222,
             "#7201a8"
            ],
            [
             0.3333333333333333,
             "#9c179e"
            ],
            [
             0.4444444444444444,
             "#bd3786"
            ],
            [
             0.5555555555555556,
             "#d8576b"
            ],
            [
             0.6666666666666666,
             "#ed7953"
            ],
            [
             0.7777777777777778,
             "#fb9f3a"
            ],
            [
             0.8888888888888888,
             "#fdca26"
            ],
            [
             1,
             "#f0f921"
            ]
           ]
          },
          "colorway": [
           "#636efa",
           "#EF553B",
           "#00cc96",
           "#ab63fa",
           "#FFA15A",
           "#19d3f3",
           "#FF6692",
           "#B6E880",
           "#FF97FF",
           "#FECB52"
          ],
          "font": {
           "color": "#2a3f5f"
          },
          "geo": {
           "bgcolor": "white",
           "lakecolor": "white",
           "landcolor": "#E5ECF6",
           "showlakes": true,
           "showland": true,
           "subunitcolor": "white"
          },
          "hoverlabel": {
           "align": "left"
          },
          "hovermode": "closest",
          "mapbox": {
           "style": "light"
          },
          "paper_bgcolor": "white",
          "plot_bgcolor": "#E5ECF6",
          "polar": {
           "angularaxis": {
            "gridcolor": "white",
            "linecolor": "white",
            "ticks": ""
           },
           "bgcolor": "#E5ECF6",
           "radialaxis": {
            "gridcolor": "white",
            "linecolor": "white",
            "ticks": ""
           }
          },
          "scene": {
           "xaxis": {
            "backgroundcolor": "#E5ECF6",
            "gridcolor": "white",
            "gridwidth": 2,
            "linecolor": "white",
            "showbackground": true,
            "ticks": "",
            "zerolinecolor": "white"
           },
           "yaxis": {
            "backgroundcolor": "#E5ECF6",
            "gridcolor": "white",
            "gridwidth": 2,
            "linecolor": "white",
            "showbackground": true,
            "ticks": "",
            "zerolinecolor": "white"
           },
           "zaxis": {
            "backgroundcolor": "#E5ECF6",
            "gridcolor": "white",
            "gridwidth": 2,
            "linecolor": "white",
            "showbackground": true,
            "ticks": "",
            "zerolinecolor": "white"
           }
          },
          "shapedefaults": {
           "line": {
            "color": "#2a3f5f"
           }
          },
          "ternary": {
           "aaxis": {
            "gridcolor": "white",
            "linecolor": "white",
            "ticks": ""
           },
           "baxis": {
            "gridcolor": "white",
            "linecolor": "white",
            "ticks": ""
           },
           "bgcolor": "#E5ECF6",
           "caxis": {
            "gridcolor": "white",
            "linecolor": "white",
            "ticks": ""
           }
          },
          "title": {
           "x": 0.05
          },
          "xaxis": {
           "automargin": true,
           "gridcolor": "white",
           "linecolor": "white",
           "ticks": "",
           "title": {
            "standoff": 15
           },
           "zerolinecolor": "white",
           "zerolinewidth": 2
          },
          "yaxis": {
           "automargin": true,
           "gridcolor": "white",
           "linecolor": "white",
           "ticks": "",
           "title": {
            "standoff": 15
           },
           "zerolinecolor": "white",
           "zerolinewidth": 2
          }
         }
        },
        "title": {
         "text": "Age Count By Gender [fig7]"
        },
        "xaxis": {
         "anchor": "y",
         "domain": [
          0,
          1
         ],
         "title": {
          "text": "category_age"
         }
        },
        "yaxis": {
         "anchor": "x",
         "domain": [
          0,
          1
         ],
         "title": {
          "text": "count"
         }
        }
       }
      }
     },
     "metadata": {},
     "output_type": "display_data"
    }
   ],
   "source": [
    "import plotly.express as px\n",
    "\n",
    "# Assuming you've loaded the penguins dataset into a DataFrame named df\n",
    "\n",
    "fig = px.histogram(df, x='category_age', color='sex')\n",
    "fig.update_layout(barmode='group', title=\"Age Count By Gender [fig7]\")  # Adjusts the layout to group bars for each sex\n",
    "fig.show()"
   ]
  },
  {
   "cell_type": "markdown",
   "metadata": {},
   "source": [
    "## 3. Which Pay More Fare Check by Age_Category Using Plotly"
   ]
  },
  {
   "cell_type": "code",
   "execution_count": 131,
   "metadata": {},
   "outputs": [
    {
     "data": {
      "application/vnd.plotly.v1+json": {
       "config": {
        "plotlyServerURL": "https://plot.ly"
       },
       "data": [
        {
         "hovertemplate": "sex=male<br>category_age=%{x}<br>fare=%{marker.size}<extra></extra>",
         "legendgroup": "male",
         "marker": {
          "color": "#636efa",
          "size": [
           7.25,
           8.05,
           8.4583,
           51.8625,
           21.075,
           8.05,
           31.275,
           29.125,
           13,
           26,
           13,
           35.5,
           7.225,
           7.8958,
           27.7208,
           52,
           7.2292,
           8.05,
           7.8958,
           8.05,
           15.5,
           21.6792,
           39.6875,
           7.8,
           35.5,
           7.2292,
           46.9,
           7.2292,
           27.9,
           27.7208,
           15.2458,
           8.1583,
           8.6625,
           10.5,
           14.4542,
           56.4958,
           7.65,
           29,
           9,
           9.5,
           47.1,
           34.375,
           8.05,
           8.05,
           7.8542,
           61.175,
           20.575,
           7.25,
           63.3583,
           26,
           8.6542,
           7.925,
           7.8958,
           7.775,
           7.8958,
           52,
           8.05,
           7.925,
           21,
           30.0708,
           11.2417,
           7.75,
           7.1417,
           6.975,
           7.8958,
           7.05,
           13,
           15.0458,
           53.1,
           9.2167,
           6.75,
           11.5,
           36.75,
           7.7958,
           26,
           13,
           12.525,
           8.05,
           14.5,
           7.3125,
           61.3792,
           8.05,
           8.6625,
           69.55,
           16.1,
           7.775,
           8.6625,
           39.6875,
           20.525,
           25.925,
           56.4958,
           33.5,
           29.125,
           30.6958,
           7.8542,
           25.4667,
           13,
           0,
           15.05,
           31.3875,
           39,
           50,
           26.55,
           15.5,
           7.8958,
           13,
           26,
           8.4042,
           9.5,
           6.4958,
           7.225,
           8.05,
           15.85,
           18.7875,
           31,
           7.05,
           7.25,
           7.75,
           27,
           10.5,
           8.05,
           13,
           8.05,
           9.35,
           10.5,
           7.25,
           13,
           7.775,
           13.5,
           10.5,
           26,
           10.5,
           12.275,
           10.5,
           7.125,
           7.225,
           52.5542,
           26,
           7.25,
           26.55,
           16.1,
           31.3875,
           0,
           10.5,
           39.6875,
           7.775,
           31,
           0,
           29.7,
           0,
           29.125,
           7.8542,
           9.5,
           8.05,
           26,
           8.6625,
           9.5,
           7.8958,
           13,
           12.875,
           7.8958,
           7.2292,
           30.5,
           23.25,
           0,
           24,
           26.25,
           14,
           7.8958,
           6.2375,
           28.5,
           18,
           66.6,
           8.05,
           35.5,
           26,
           13,
           13,
           15.9,
           8.6625,
           9.225,
           35,
           7.2292,
           17.8,
           27.9,
           27.7208,
           7.05,
           7.25,
           55.4417,
           6.4958,
           8.05,
           4.0125,
           7.775,
           7.925,
           46.9,
           7.7292,
           7.7958,
           7.925,
           7.7958,
           26,
           10.5,
           7.925,
           8.05,
           15.85,
           21,
           7.75,
           18.75,
           7.775,
           6.8583,
           7.925,
           7.7333,
           7.875,
           20.2125,
           8.05,
           26.55,
           7.125,
           55.9,
           10.5,
           9.5,
           7.775,
           8.1125,
           26.55,
           30.5,
           27.75,
           19.9667,
           27.75,
           7.8958,
           26.55,
           8.05,
           38.5,
           13,
           7.05,
           26.55,
           7.725,
           8.6625,
           52,
           7.0458,
           7.5208,
           46.9,
           8.05,
           29.7,
           15.9,
           7.25,
           30.5,
           14.4583,
           15.1,
           7.7958,
           26.55,
           22.525,
           56.4958,
           7.75,
           26.2875,
           7.4958,
           34.0208,
           24.15,
           7.8958,
           7.2292,
           7.75,
           7.925,
           11.5,
           7.2292,
           26.55,
           14.5,
           26,
           13.8625,
           20.525,
           36.75,
           26,
           7.8292,
           7.225,
           7.8958,
           13.5,
           24.15,
           7.8958,
           7.8542,
           10.5,
           26.3875,
           8.05,
           14.5,
           7.925,
           26,
           40.125,
           8.7125,
           15,
           7.125,
           7.25,
           26,
           24.15,
           0,
           56.9292,
           42.4,
           8.05,
           26.55,
           15.55,
           7.8958,
           30.5,
           7.05,
           14.4,
           10.5,
           14.4542,
           52.5542,
           15.7417,
           7.8542,
           16.1,
           32.3208,
           12.35,
           7.8958,
           7.7333,
           7.0542,
           30.5,
           0,
           26.25,
           16.1,
           56.4958,
           35.5,
           7.55,
           8.4333,
           13,
           7.225,
           25.5875,
           7.4958,
           7.925,
           7.775,
           8.05,
           52,
           13,
           7.775,
           8.05,
           9.225,
           46.9,
           39,
           41.5792,
           39.6875,
           10.1708,
           7.7958,
           57,
           7.225,
           26.55,
           13.5,
           7.65,
           26.2875,
           7.7417,
           7.8542,
           26,
           26.2875,
           26.55,
           52,
           9.4833,
           13,
           7.65,
           15.5,
           7.775,
           7.0542,
           13,
           13,
           53.1,
           8.6625,
           26,
           18.7875,
           16.1,
           30,
           16.1,
           7.925,
           20.25,
           53.1,
           7.75,
           12.475,
           9.5,
           7.8958,
           14.5,
           7.7958,
           7.125,
           7.2292,
           7.775,
           39.6,
           24.15,
           8.3625,
           9.5,
           7.8542,
           7.75,
           7.7375,
           30,
           23.45,
           7.05,
           7.25,
           29.125,
           20.575,
           26,
           30.6958,
           7.8958,
           13,
           7.2292,
           8.5167,
           6.975,
           7.775,
           0,
           7.8875,
           24.15,
           10.5,
           8.05,
           37.0042,
           6.45,
           27.9,
           8.6625,
           0,
           39.6875,
           6.95,
           56.4958,
           37.0042,
           7.75,
           18.75,
           7.8542,
           8.3,
           8.6625,
           29.7,
           7.925,
           10.5,
           6.4375,
           7.55,
           7.8958,
           33,
           31.275,
           26.55,
           14.1083,
           11.5,
           13,
           50.4958,
           9.5,
           11.1333,
           5,
           9,
           9.8458,
           7.8958,
           10.5,
           30,
           7.75
          ],
          "sizemode": "area",
          "sizeref": 0.17820824999999998,
          "symbol": "circle"
         },
         "mode": "markers",
         "name": "male",
         "orientation": "v",
         "showlegend": true,
         "type": "scatter",
         "x": [
          "Teen",
          "Adult",
          "Teen",
          "Old-Aged",
          "Baby",
          "child",
          "Adult",
          "Baby",
          "Teen",
          "Adult",
          "Adult",
          "Teen",
          "Teen",
          "Teen",
          "Adult",
          "Middle-Aged",
          "Teen",
          "Teen",
          "Teen",
          "Teen",
          "Teen",
          "Teen",
          "Baby",
          "Teen",
          "Adult",
          "Teen",
          "child",
          "Teen",
          "Baby",
          "Adult",
          "Teen",
          "child",
          "Teen",
          "Adult",
          "Teen",
          "Adult",
          "Teen",
          "Baby",
          "Teen",
          "Teen",
          "Teen",
          "child",
          "Teen",
          "Teen",
          "child",
          "Middle-Aged",
          "Teen",
          "Old-Aged",
          "Teen",
          "Adult",
          "Adult",
          "Adult",
          "Teen",
          "Teen",
          "Adult",
          "Middle-Aged",
          "Teen",
          "Teen",
          "Teen",
          "Adult",
          "child",
          "Teen",
          "Teen",
          "Middle-Aged",
          "Adult",
          "child",
          "Teen",
          "Teen",
          "Adult",
          "child",
          "child",
          "child",
          "child",
          "Teen",
          "Adult",
          "Middle-Aged",
          "Old-Aged",
          "Old-Aged",
          "Middle-Aged",
          "Teen",
          "Old-Aged",
          "Teen",
          "Teen",
          "Teen",
          "Middle-Aged",
          "Teen",
          "child",
          "Baby",
          "Baby",
          "Adult",
          "Teen",
          "Senior",
          "Baby",
          "Old-Aged",
          "child",
          "Teen",
          "Teen",
          "Adult",
          "Teen",
          "Baby",
          "Baby",
          "Adult",
          "Middle-Aged",
          "Adult",
          "Adult",
          "child",
          "Baby",
          "Middle-Aged",
          "Teen",
          "Adult",
          "Middle-Aged",
          "child",
          "Adult",
          "Teen",
          "Adult",
          "Teen",
          "Teen",
          "Teen",
          "Middle-Aged",
          "Teen",
          "child",
          "Teen",
          "Old-Aged",
          "Teen",
          "child",
          "Teen",
          "child",
          "Teen",
          "Old-Aged",
          "Teen",
          "Middle-Aged",
          "child",
          "Adult",
          "Teen",
          "Teen",
          "Teen",
          "Adult",
          "Old-Aged",
          "Teen",
          "Senior",
          "Teen",
          "Baby",
          "Adult",
          "Adult",
          "child",
          "Teen",
          "Adult",
          "Teen",
          "Adult",
          "Teen",
          "Baby",
          "Teen",
          "child",
          "child",
          "Adult",
          "Adult",
          "Teen",
          "Teen",
          "Middle-Aged",
          "Adult",
          "Teen",
          "Teen",
          "Adult",
          "Teen",
          "child",
          "Teen",
          "Middle-Aged",
          "Old-Aged",
          "Teen",
          "Senior",
          "Middle-Aged",
          "child",
          "Teen",
          "Middle-Aged",
          "Middle-Aged",
          "Baby",
          "Teen",
          "Adult",
          "Baby",
          "Middle-Aged",
          "Teen",
          "Adult",
          "child",
          "Teen",
          "Adult",
          "Teen",
          "Adult",
          "Teen",
          "Teen",
          "child",
          "child",
          "child",
          "child",
          "Adult",
          "Baby",
          "Teen",
          "Teen",
          "Teen",
          "Teen",
          "Middle-Aged",
          "Teen",
          "Adult",
          "Teen",
          "Teen",
          "Adult",
          "Old-Aged",
          "Baby",
          "Teen",
          "Teen",
          "Middle-Aged",
          "Teen",
          "Teen",
          "child",
          "Adult",
          "Teen",
          "child",
          "Middle-Aged",
          "Adult",
          "child",
          "Teen",
          "Teen",
          "Adult",
          "Old-Aged",
          "Adult",
          "Teen",
          "Teen",
          "Teen",
          "Middle-Aged",
          "Adult",
          "Middle-Aged",
          "Middle-Aged",
          "Adult",
          "Old-Aged",
          "Teen",
          "Adult",
          "Adult",
          "Teen",
          "Teen",
          "Baby",
          "Middle-Aged",
          "Old-Aged",
          "Baby",
          "Teen",
          "Old-Aged",
          "Teen",
          "Teen",
          "Teen",
          "Adult",
          "Teen",
          "Teen",
          "Teen",
          "Adult",
          "Teen",
          "Middle-Aged",
          "Teen",
          "Adult",
          "Teen",
          "Middle-Aged",
          "Adult",
          "Teen",
          "child",
          "Middle-Aged",
          "Teen",
          "Adult",
          "Teen",
          "Adult",
          "Baby",
          "Teen",
          "Teen",
          "Teen",
          "Adult",
          "Teen",
          "Teen",
          "child",
          "Adult",
          "Senior",
          "Adult",
          "child",
          "child",
          "Adult",
          "Old-Aged",
          "Adult",
          "Teen",
          "Middle-Aged",
          "Adult",
          "Middle-Aged",
          "Adult",
          "Adult",
          "Middle-Aged",
          "Middle-Aged",
          "Adult",
          "Middle-Aged",
          "Adult",
          "Adult",
          "Teen",
          "Teen",
          "Teen",
          "Adult",
          "Teen",
          "Teen",
          "Middle-Aged",
          "child",
          "Teen",
          "Teen",
          "Senior",
          "Old-Aged",
          "Teen",
          "Teen",
          "Old-Aged",
          "Adult",
          "Adult",
          "Adult",
          "Teen",
          "Teen",
          "Old-Aged",
          "Teen",
          "Teen",
          "Teen",
          "Adult",
          "Middle-Aged",
          "Adult",
          "child",
          "Teen",
          "Middle-Aged",
          "Adult",
          "Adult",
          "child",
          "Teen",
          "child",
          "child",
          "Old-Aged",
          "Teen",
          "child",
          "child",
          "child",
          "Adult",
          "Teen",
          "Old-Aged",
          "Old-Aged",
          "Middle-Aged",
          "Adult",
          "Teen",
          "Teen",
          "Adult",
          "Middle-Aged",
          "Adult",
          "Middle-Aged",
          "Teen",
          "Old-Aged",
          "child",
          "Teen",
          "Adult",
          "child",
          "Adult",
          "Middle-Aged",
          "Teen",
          "child",
          "Teen",
          "child",
          "Teen",
          "Adult",
          "Teen",
          "Adult",
          "child",
          "child",
          "Adult",
          "Baby",
          "Adult",
          "Teen",
          "Baby",
          "Teen",
          "Middle-Aged",
          "child",
          "child",
          "Adult",
          "Teen",
          "Adult",
          "Teen",
          "Middle-Aged",
          "child",
          "Teen",
          "Teen",
          "Teen",
          "Teen",
          "Teen",
          "Baby",
          "Baby",
          "child",
          "Adult",
          "Teen",
          "Adult",
          "Teen",
          "Baby",
          "Teen",
          "Adult",
          "Adult",
          "Teen",
          "Adult",
          "Adult",
          "Adult",
          "Adult",
          "Middle-Aged",
          "Baby",
          "Teen",
          "Adult",
          "Baby",
          "Teen",
          "Teen",
          "Baby",
          "Teen",
          "Baby",
          "Teen",
          "child",
          "Teen",
          "Adult",
          "child",
          "child",
          "Adult",
          "Middle-Aged",
          "Adult",
          "Teen",
          "Baby",
          "Old-Aged",
          "Middle-Aged",
          "Teen",
          "Teen",
          "Adult",
          "Teen",
          "Baby",
          "Adult",
          "Middle-Aged",
          "child",
          "Adult",
          "Teen",
          "Teen",
          "Adult"
         ],
         "xaxis": "x",
         "y": [
          7.25,
          8.05,
          8.4583,
          51.8625,
          21.075,
          8.05,
          31.275,
          29.125,
          13,
          26,
          13,
          35.5,
          7.225,
          7.8958,
          27.7208,
          52,
          7.2292,
          8.05,
          7.8958,
          8.05,
          15.5,
          21.6792,
          39.6875,
          7.8,
          35.5,
          7.2292,
          46.9,
          7.2292,
          27.9,
          27.7208,
          15.2458,
          8.1583,
          8.6625,
          10.5,
          14.4542,
          56.4958,
          7.65,
          29,
          9,
          9.5,
          47.1,
          34.375,
          8.05,
          8.05,
          7.8542,
          61.175,
          20.575,
          7.25,
          63.3583,
          26,
          8.6542,
          7.925,
          7.8958,
          7.775,
          7.8958,
          52,
          8.05,
          7.925,
          21,
          30.0708,
          11.2417,
          7.75,
          7.1417,
          6.975,
          7.8958,
          7.05,
          13,
          15.0458,
          53.1,
          9.2167,
          6.75,
          11.5,
          36.75,
          7.7958,
          26,
          13,
          12.525,
          8.05,
          14.5,
          7.3125,
          61.3792,
          8.05,
          8.6625,
          69.55,
          16.1,
          7.775,
          8.6625,
          39.6875,
          20.525,
          25.925,
          56.4958,
          33.5,
          29.125,
          30.6958,
          7.8542,
          25.4667,
          13,
          0,
          15.05,
          31.3875,
          39,
          50,
          26.55,
          15.5,
          7.8958,
          13,
          26,
          8.4042,
          9.5,
          6.4958,
          7.225,
          8.05,
          15.85,
          18.7875,
          31,
          7.05,
          7.25,
          7.75,
          27,
          10.5,
          8.05,
          13,
          8.05,
          9.35,
          10.5,
          7.25,
          13,
          7.775,
          13.5,
          10.5,
          26,
          10.5,
          12.275,
          10.5,
          7.125,
          7.225,
          52.5542,
          26,
          7.25,
          26.55,
          16.1,
          31.3875,
          0,
          10.5,
          39.6875,
          7.775,
          31,
          0,
          29.7,
          0,
          29.125,
          7.8542,
          9.5,
          8.05,
          26,
          8.6625,
          9.5,
          7.8958,
          13,
          12.875,
          7.8958,
          7.2292,
          30.5,
          23.25,
          0,
          24,
          26.25,
          14,
          7.8958,
          6.2375,
          28.5,
          18,
          66.6,
          8.05,
          35.5,
          26,
          13,
          13,
          15.9,
          8.6625,
          9.225,
          35,
          7.2292,
          17.8,
          27.9,
          27.7208,
          7.05,
          7.25,
          55.4417,
          6.4958,
          8.05,
          4.0125,
          7.775,
          7.925,
          46.9,
          7.7292,
          7.7958,
          7.925,
          7.7958,
          26,
          10.5,
          7.925,
          8.05,
          15.85,
          21,
          7.75,
          18.75,
          7.775,
          6.8583,
          7.925,
          7.7333,
          7.875,
          20.2125,
          8.05,
          26.55,
          7.125,
          55.9,
          10.5,
          9.5,
          7.775,
          8.1125,
          26.55,
          30.5,
          27.75,
          19.9667,
          27.75,
          7.8958,
          26.55,
          8.05,
          38.5,
          13,
          7.05,
          26.55,
          7.725,
          8.6625,
          52,
          7.0458,
          7.5208,
          46.9,
          8.05,
          29.7,
          15.9,
          7.25,
          30.5,
          14.4583,
          15.1,
          7.7958,
          26.55,
          22.525,
          56.4958,
          7.75,
          26.2875,
          7.4958,
          34.0208,
          24.15,
          7.8958,
          7.2292,
          7.75,
          7.925,
          11.5,
          7.2292,
          26.55,
          14.5,
          26,
          13.8625,
          20.525,
          36.75,
          26,
          7.8292,
          7.225,
          7.8958,
          13.5,
          24.15,
          7.8958,
          7.8542,
          10.5,
          26.3875,
          8.05,
          14.5,
          7.925,
          26,
          40.125,
          8.7125,
          15,
          7.125,
          7.25,
          26,
          24.15,
          0,
          56.9292,
          42.4,
          8.05,
          26.55,
          15.55,
          7.8958,
          30.5,
          7.05,
          14.4,
          10.5,
          14.4542,
          52.5542,
          15.7417,
          7.8542,
          16.1,
          32.3208,
          12.35,
          7.8958,
          7.7333,
          7.0542,
          30.5,
          0,
          26.25,
          16.1,
          56.4958,
          35.5,
          7.55,
          8.4333,
          13,
          7.225,
          25.5875,
          7.4958,
          7.925,
          7.775,
          8.05,
          52,
          13,
          7.775,
          8.05,
          9.225,
          46.9,
          39,
          41.5792,
          39.6875,
          10.1708,
          7.7958,
          57,
          7.225,
          26.55,
          13.5,
          7.65,
          26.2875,
          7.7417,
          7.8542,
          26,
          26.2875,
          26.55,
          52,
          9.4833,
          13,
          7.65,
          15.5,
          7.775,
          7.0542,
          13,
          13,
          53.1,
          8.6625,
          26,
          18.7875,
          16.1,
          30,
          16.1,
          7.925,
          20.25,
          53.1,
          7.75,
          12.475,
          9.5,
          7.8958,
          14.5,
          7.7958,
          7.125,
          7.2292,
          7.775,
          39.6,
          24.15,
          8.3625,
          9.5,
          7.8542,
          7.75,
          7.7375,
          30,
          23.45,
          7.05,
          7.25,
          29.125,
          20.575,
          26,
          30.6958,
          7.8958,
          13,
          7.2292,
          8.5167,
          6.975,
          7.775,
          0,
          7.8875,
          24.15,
          10.5,
          8.05,
          37.0042,
          6.45,
          27.9,
          8.6625,
          0,
          39.6875,
          6.95,
          56.4958,
          37.0042,
          7.75,
          18.75,
          7.8542,
          8.3,
          8.6625,
          29.7,
          7.925,
          10.5,
          6.4375,
          7.55,
          7.8958,
          33,
          31.275,
          26.55,
          14.1083,
          11.5,
          13,
          50.4958,
          9.5,
          11.1333,
          5,
          9,
          9.8458,
          7.8958,
          10.5,
          30,
          7.75
         ],
         "yaxis": "y"
        },
        {
         "hovertemplate": "sex=female<br>category_age=%{x}<br>fare=%{marker.size}<extra></extra>",
         "legendgroup": "female",
         "marker": {
          "color": "#EF553B",
          "size": [
           71.2833,
           7.925,
           53.1,
           11.1333,
           30.0708,
           16.7,
           26.55,
           7.8542,
           16,
           18,
           7.225,
           8.0292,
           21.075,
           31.3875,
           7.8792,
           7.75,
           18,
           11.2417,
           9.475,
           21,
           41.5792,
           7.8792,
           17.8,
           26,
           10.5,
           27.75,
           10.5,
           7.925,
           46.9,
           12.475,
           7.7875,
           10.5,
           15.85,
           23,
           7.8958,
           7.65,
           24.15,
           14.4542,
           9.825,
           14.4583,
           31.275,
           13,
           22.3583,
           14.5,
           26.2833,
           15.2458,
           7.75,
           15.85,
           34.375,
           66.6,
           7.7333,
           15.75,
           55,
           27.9,
           11.1333,
           28.7125,
           69.55,
           22.025,
           15.5,
           13,
           7.8542,
           27.7208,
           13,
           10.4625,
           7.75,
           21,
           7.925,
           25.4667,
           31.3875,
           7.55,
           26.25,
           14.4542,
           7.775,
           14.5,
           10.4625,
           20.2125,
           15.2458,
           26,
           7.75,
           19.5,
           7.75,
           20.25,
           7.75,
           8.85,
           12.35,
           56.9292,
           26,
           7.8542,
           26,
           12.35,
           29,
           13,
           20.525,
           57.9792,
           23.25,
           13,
           13,
           16.1,
           55,
           13,
           14.4542,
           7.2292,
           69.3,
           21.075,
           7.25,
           15.7417,
           52,
           12,
           16.7,
           7.8542,
           12.65,
           9.825,
           8.6625,
           8.05,
           32.5,
           13,
           24.15,
           14.4,
           26,
           26,
           26,
           34.375,
           18.75,
           26.25,
           13,
           19.5,
           19.2583,
           51.8625,
           10.5,
           19.2583,
           27.75,
           13.7917,
           9.8375,
           12.2875,
           7.75,
           7.6292,
           9.5875,
           26,
           59.4,
           10.5,
           26,
           57.9792,
           26,
           22.3583,
           8.6625,
           26.25,
           49.5,
           71,
           31.275,
           31.275,
           26,
           7.775,
           39.6,
           17.4,
           21.075,
           51.4792,
           13,
           55.9,
           14.4583,
           30,
           7.75,
           33,
           27,
           41.5792,
           31.275,
           65,
           16.1,
           39,
           27.9,
           39.6875,
           27.9,
           7.55,
           23,
           7.8292,
           6.75,
           15.5,
           52,
           39,
           9.8417,
           46.9,
           8.1375,
           13.4167,
           7.7333,
           14.4542,
           13.5,
           49.5042,
           10.5,
           33,
           21,
           7.7375,
           7.925,
           34.375,
           13,
           23,
           65,
           7.75,
           10.5,
           23,
           12.475,
           7.2292,
           57,
           7.4958,
           25.9292,
           8.6833,
           24.15,
           26.25,
           7.775,
           53.1,
           31.275,
           7.925,
           12.475,
           14.4542,
           31,
           15.2458,
           39.4,
           26,
           9.35,
           19.2583,
           25.9292,
           13,
           13.8583,
           52.5542,
           24,
           7.225,
           26,
           10.5167,
           29.125,
           30,
           23.45
          ],
          "sizemode": "area",
          "sizeref": 0.17820824999999998,
          "symbol": "circle"
         },
         "mode": "markers",
         "name": "female",
         "orientation": "v",
         "showlegend": true,
         "type": "scatter",
         "x": [
          "Adult",
          "Teen",
          "Adult",
          "Teen",
          "child",
          "Baby",
          "Old-Aged",
          "child",
          "Old-Aged",
          "Adult",
          "Teen",
          "child",
          "Baby",
          "Adult",
          "Teen",
          "Teen",
          "child",
          "child",
          "Adult",
          "Teen",
          "Baby",
          "child",
          "child",
          "Teen",
          "Teen",
          "Baby",
          "Teen",
          "child",
          "child",
          "Teen",
          "Teen",
          "child",
          "Adult",
          "Adult",
          "Teen",
          "Teen",
          "Teen",
          "child",
          "child",
          "child",
          "Baby",
          "Adult",
          "Teen",
          "Middle-Aged",
          "child",
          "Teen",
          "Teen",
          "Teen",
          "Baby",
          "Teen",
          "child",
          "Adult",
          "Adult",
          "Middle-Aged",
          "Baby",
          "Middle-Aged",
          "Teen",
          "Baby",
          "Teen",
          "Adult",
          "child",
          "Middle-Aged",
          "Teen",
          "Baby",
          "child",
          "Adult",
          "Teen",
          "Teen",
          "Baby",
          "Teen",
          "Baby",
          "Teen",
          "Teen",
          "Teen",
          "Teen",
          "Middle-Aged",
          "Teen",
          "Middle-Aged",
          "Teen",
          "Middle-Aged",
          "Middle-Aged",
          "Adult",
          "Teen",
          "Teen",
          "Teen",
          "Teen",
          "Teen",
          "Teen",
          "Teen",
          "Teen",
          "Teen",
          "Adult",
          "Adult",
          "child",
          "Teen",
          "Teen",
          "Adult",
          "Teen",
          "Teen",
          "Adult",
          "Middle-Aged",
          "Teen",
          "Teen",
          "Baby",
          "Teen",
          "Baby",
          "Adult",
          "child",
          "Teen",
          "Adult",
          "Teen",
          "Teen",
          "child",
          "Teen",
          "Adult",
          "child",
          "Baby",
          "Teen",
          "Teen",
          "child",
          "Middle-Aged",
          "Teen",
          "Teen",
          "Middle-Aged",
          "Teen",
          "child",
          "Baby",
          "Adult",
          "Middle-Aged",
          "Baby",
          "Adult",
          "Teen",
          "Teen",
          "Baby",
          "Teen",
          "Teen",
          "Adult",
          "Adult",
          "Old-Aged",
          "Adult",
          "Adult",
          "Middle-Aged",
          "Baby",
          "Teen",
          "Teen",
          "Baby",
          "Teen",
          "Adult",
          "Baby",
          "child",
          "child",
          "Teen",
          "Middle-Aged",
          "Adult",
          "Teen",
          "Old-Aged",
          "Adult",
          "Adult",
          "Teen",
          "Teen",
          "Teen",
          "Teen",
          "Teen",
          "Teen",
          "Adult",
          "Teen",
          "Teen",
          "Baby",
          "Baby",
          "Middle-Aged",
          "Baby",
          "Teen",
          "child",
          "Teen",
          "child",
          "Adult",
          "Adult",
          "Adult",
          "child",
          "Middle-Aged",
          "Teen",
          "Baby",
          "Teen",
          "child",
          "Middle-Aged",
          "Teen",
          "Teen",
          "Baby",
          "Teen",
          "Teen",
          "Teen",
          "Middle-Aged",
          "Teen",
          "Baby",
          "Middle-Aged",
          "Adult",
          "Old-Aged",
          "Old-Aged",
          "Baby",
          "child",
          "child",
          "child",
          "Middle-Aged",
          "Adult",
          "Teen",
          "Adult",
          "child",
          "Adult",
          "Baby",
          "Teen",
          "Teen",
          "child",
          "Teen",
          "Baby",
          "child",
          "Middle-Aged",
          "child",
          "Teen",
          "Middle-Aged",
          "Middle-Aged",
          "Teen",
          "Middle-Aged",
          "Teen",
          "child",
          "Teen",
          "Teen",
          "Adult",
          "child",
          "Teen"
         ],
         "xaxis": "x",
         "y": [
          71.2833,
          7.925,
          53.1,
          11.1333,
          30.0708,
          16.7,
          26.55,
          7.8542,
          16,
          18,
          7.225,
          8.0292,
          21.075,
          31.3875,
          7.8792,
          7.75,
          18,
          11.2417,
          9.475,
          21,
          41.5792,
          7.8792,
          17.8,
          26,
          10.5,
          27.75,
          10.5,
          7.925,
          46.9,
          12.475,
          7.7875,
          10.5,
          15.85,
          23,
          7.8958,
          7.65,
          24.15,
          14.4542,
          9.825,
          14.4583,
          31.275,
          13,
          22.3583,
          14.5,
          26.2833,
          15.2458,
          7.75,
          15.85,
          34.375,
          66.6,
          7.7333,
          15.75,
          55,
          27.9,
          11.1333,
          28.7125,
          69.55,
          22.025,
          15.5,
          13,
          7.8542,
          27.7208,
          13,
          10.4625,
          7.75,
          21,
          7.925,
          25.4667,
          31.3875,
          7.55,
          26.25,
          14.4542,
          7.775,
          14.5,
          10.4625,
          20.2125,
          15.2458,
          26,
          7.75,
          19.5,
          7.75,
          20.25,
          7.75,
          8.85,
          12.35,
          56.9292,
          26,
          7.8542,
          26,
          12.35,
          29,
          13,
          20.525,
          57.9792,
          23.25,
          13,
          13,
          16.1,
          55,
          13,
          14.4542,
          7.2292,
          69.3,
          21.075,
          7.25,
          15.7417,
          52,
          12,
          16.7,
          7.8542,
          12.65,
          9.825,
          8.6625,
          8.05,
          32.5,
          13,
          24.15,
          14.4,
          26,
          26,
          26,
          34.375,
          18.75,
          26.25,
          13,
          19.5,
          19.2583,
          51.8625,
          10.5,
          19.2583,
          27.75,
          13.7917,
          9.8375,
          12.2875,
          7.75,
          7.6292,
          9.5875,
          26,
          59.4,
          10.5,
          26,
          57.9792,
          26,
          22.3583,
          8.6625,
          26.25,
          49.5,
          71,
          31.275,
          31.275,
          26,
          7.775,
          39.6,
          17.4,
          21.075,
          51.4792,
          13,
          55.9,
          14.4583,
          30,
          7.75,
          33,
          27,
          41.5792,
          31.275,
          65,
          16.1,
          39,
          27.9,
          39.6875,
          27.9,
          7.55,
          23,
          7.8292,
          6.75,
          15.5,
          52,
          39,
          9.8417,
          46.9,
          8.1375,
          13.4167,
          7.7333,
          14.4542,
          13.5,
          49.5042,
          10.5,
          33,
          21,
          7.7375,
          7.925,
          34.375,
          13,
          23,
          65,
          7.75,
          10.5,
          23,
          12.475,
          7.2292,
          57,
          7.4958,
          25.9292,
          8.6833,
          24.15,
          26.25,
          7.775,
          53.1,
          31.275,
          7.925,
          12.475,
          14.4542,
          31,
          15.2458,
          39.4,
          26,
          9.35,
          19.2583,
          25.9292,
          13,
          13.8583,
          52.5542,
          24,
          7.225,
          26,
          10.5167,
          29.125,
          30,
          23.45
         ],
         "yaxis": "y"
        }
       ],
       "layout": {
        "barmode": "group",
        "height": 700,
        "legend": {
         "itemsizing": "constant",
         "title": {
          "text": "sex"
         },
         "tracegroupgap": 0
        },
        "margin": {
         "t": 60
        },
        "template": {
         "data": {
          "bar": [
           {
            "error_x": {
             "color": "#2a3f5f"
            },
            "error_y": {
             "color": "#2a3f5f"
            },
            "marker": {
             "line": {
              "color": "#E5ECF6",
              "width": 0.5
             },
             "pattern": {
              "fillmode": "overlay",
              "size": 10,
              "solidity": 0.2
             }
            },
            "type": "bar"
           }
          ],
          "barpolar": [
           {
            "marker": {
             "line": {
              "color": "#E5ECF6",
              "width": 0.5
             },
             "pattern": {
              "fillmode": "overlay",
              "size": 10,
              "solidity": 0.2
             }
            },
            "type": "barpolar"
           }
          ],
          "carpet": [
           {
            "aaxis": {
             "endlinecolor": "#2a3f5f",
             "gridcolor": "white",
             "linecolor": "white",
             "minorgridcolor": "white",
             "startlinecolor": "#2a3f5f"
            },
            "baxis": {
             "endlinecolor": "#2a3f5f",
             "gridcolor": "white",
             "linecolor": "white",
             "minorgridcolor": "white",
             "startlinecolor": "#2a3f5f"
            },
            "type": "carpet"
           }
          ],
          "choropleth": [
           {
            "colorbar": {
             "outlinewidth": 0,
             "ticks": ""
            },
            "type": "choropleth"
           }
          ],
          "contour": [
           {
            "colorbar": {
             "outlinewidth": 0,
             "ticks": ""
            },
            "colorscale": [
             [
              0,
              "#0d0887"
             ],
             [
              0.1111111111111111,
              "#46039f"
             ],
             [
              0.2222222222222222,
              "#7201a8"
             ],
             [
              0.3333333333333333,
              "#9c179e"
             ],
             [
              0.4444444444444444,
              "#bd3786"
             ],
             [
              0.5555555555555556,
              "#d8576b"
             ],
             [
              0.6666666666666666,
              "#ed7953"
             ],
             [
              0.7777777777777778,
              "#fb9f3a"
             ],
             [
              0.8888888888888888,
              "#fdca26"
             ],
             [
              1,
              "#f0f921"
             ]
            ],
            "type": "contour"
           }
          ],
          "contourcarpet": [
           {
            "colorbar": {
             "outlinewidth": 0,
             "ticks": ""
            },
            "type": "contourcarpet"
           }
          ],
          "heatmap": [
           {
            "colorbar": {
             "outlinewidth": 0,
             "ticks": ""
            },
            "colorscale": [
             [
              0,
              "#0d0887"
             ],
             [
              0.1111111111111111,
              "#46039f"
             ],
             [
              0.2222222222222222,
              "#7201a8"
             ],
             [
              0.3333333333333333,
              "#9c179e"
             ],
             [
              0.4444444444444444,
              "#bd3786"
             ],
             [
              0.5555555555555556,
              "#d8576b"
             ],
             [
              0.6666666666666666,
              "#ed7953"
             ],
             [
              0.7777777777777778,
              "#fb9f3a"
             ],
             [
              0.8888888888888888,
              "#fdca26"
             ],
             [
              1,
              "#f0f921"
             ]
            ],
            "type": "heatmap"
           }
          ],
          "heatmapgl": [
           {
            "colorbar": {
             "outlinewidth": 0,
             "ticks": ""
            },
            "colorscale": [
             [
              0,
              "#0d0887"
             ],
             [
              0.1111111111111111,
              "#46039f"
             ],
             [
              0.2222222222222222,
              "#7201a8"
             ],
             [
              0.3333333333333333,
              "#9c179e"
             ],
             [
              0.4444444444444444,
              "#bd3786"
             ],
             [
              0.5555555555555556,
              "#d8576b"
             ],
             [
              0.6666666666666666,
              "#ed7953"
             ],
             [
              0.7777777777777778,
              "#fb9f3a"
             ],
             [
              0.8888888888888888,
              "#fdca26"
             ],
             [
              1,
              "#f0f921"
             ]
            ],
            "type": "heatmapgl"
           }
          ],
          "histogram": [
           {
            "marker": {
             "pattern": {
              "fillmode": "overlay",
              "size": 10,
              "solidity": 0.2
             }
            },
            "type": "histogram"
           }
          ],
          "histogram2d": [
           {
            "colorbar": {
             "outlinewidth": 0,
             "ticks": ""
            },
            "colorscale": [
             [
              0,
              "#0d0887"
             ],
             [
              0.1111111111111111,
              "#46039f"
             ],
             [
              0.2222222222222222,
              "#7201a8"
             ],
             [
              0.3333333333333333,
              "#9c179e"
             ],
             [
              0.4444444444444444,
              "#bd3786"
             ],
             [
              0.5555555555555556,
              "#d8576b"
             ],
             [
              0.6666666666666666,
              "#ed7953"
             ],
             [
              0.7777777777777778,
              "#fb9f3a"
             ],
             [
              0.8888888888888888,
              "#fdca26"
             ],
             [
              1,
              "#f0f921"
             ]
            ],
            "type": "histogram2d"
           }
          ],
          "histogram2dcontour": [
           {
            "colorbar": {
             "outlinewidth": 0,
             "ticks": ""
            },
            "colorscale": [
             [
              0,
              "#0d0887"
             ],
             [
              0.1111111111111111,
              "#46039f"
             ],
             [
              0.2222222222222222,
              "#7201a8"
             ],
             [
              0.3333333333333333,
              "#9c179e"
             ],
             [
              0.4444444444444444,
              "#bd3786"
             ],
             [
              0.5555555555555556,
              "#d8576b"
             ],
             [
              0.6666666666666666,
              "#ed7953"
             ],
             [
              0.7777777777777778,
              "#fb9f3a"
             ],
             [
              0.8888888888888888,
              "#fdca26"
             ],
             [
              1,
              "#f0f921"
             ]
            ],
            "type": "histogram2dcontour"
           }
          ],
          "mesh3d": [
           {
            "colorbar": {
             "outlinewidth": 0,
             "ticks": ""
            },
            "type": "mesh3d"
           }
          ],
          "parcoords": [
           {
            "line": {
             "colorbar": {
              "outlinewidth": 0,
              "ticks": ""
             }
            },
            "type": "parcoords"
           }
          ],
          "pie": [
           {
            "automargin": true,
            "type": "pie"
           }
          ],
          "scatter": [
           {
            "fillpattern": {
             "fillmode": "overlay",
             "size": 10,
             "solidity": 0.2
            },
            "type": "scatter"
           }
          ],
          "scatter3d": [
           {
            "line": {
             "colorbar": {
              "outlinewidth": 0,
              "ticks": ""
             }
            },
            "marker": {
             "colorbar": {
              "outlinewidth": 0,
              "ticks": ""
             }
            },
            "type": "scatter3d"
           }
          ],
          "scattercarpet": [
           {
            "marker": {
             "colorbar": {
              "outlinewidth": 0,
              "ticks": ""
             }
            },
            "type": "scattercarpet"
           }
          ],
          "scattergeo": [
           {
            "marker": {
             "colorbar": {
              "outlinewidth": 0,
              "ticks": ""
             }
            },
            "type": "scattergeo"
           }
          ],
          "scattergl": [
           {
            "marker": {
             "colorbar": {
              "outlinewidth": 0,
              "ticks": ""
             }
            },
            "type": "scattergl"
           }
          ],
          "scattermapbox": [
           {
            "marker": {
             "colorbar": {
              "outlinewidth": 0,
              "ticks": ""
             }
            },
            "type": "scattermapbox"
           }
          ],
          "scatterpolar": [
           {
            "marker": {
             "colorbar": {
              "outlinewidth": 0,
              "ticks": ""
             }
            },
            "type": "scatterpolar"
           }
          ],
          "scatterpolargl": [
           {
            "marker": {
             "colorbar": {
              "outlinewidth": 0,
              "ticks": ""
             }
            },
            "type": "scatterpolargl"
           }
          ],
          "scatterternary": [
           {
            "marker": {
             "colorbar": {
              "outlinewidth": 0,
              "ticks": ""
             }
            },
            "type": "scatterternary"
           }
          ],
          "surface": [
           {
            "colorbar": {
             "outlinewidth": 0,
             "ticks": ""
            },
            "colorscale": [
             [
              0,
              "#0d0887"
             ],
             [
              0.1111111111111111,
              "#46039f"
             ],
             [
              0.2222222222222222,
              "#7201a8"
             ],
             [
              0.3333333333333333,
              "#9c179e"
             ],
             [
              0.4444444444444444,
              "#bd3786"
             ],
             [
              0.5555555555555556,
              "#d8576b"
             ],
             [
              0.6666666666666666,
              "#ed7953"
             ],
             [
              0.7777777777777778,
              "#fb9f3a"
             ],
             [
              0.8888888888888888,
              "#fdca26"
             ],
             [
              1,
              "#f0f921"
             ]
            ],
            "type": "surface"
           }
          ],
          "table": [
           {
            "cells": {
             "fill": {
              "color": "#EBF0F8"
             },
             "line": {
              "color": "white"
             }
            },
            "header": {
             "fill": {
              "color": "#C8D4E3"
             },
             "line": {
              "color": "white"
             }
            },
            "type": "table"
           }
          ]
         },
         "layout": {
          "annotationdefaults": {
           "arrowcolor": "#2a3f5f",
           "arrowhead": 0,
           "arrowwidth": 1
          },
          "autotypenumbers": "strict",
          "coloraxis": {
           "colorbar": {
            "outlinewidth": 0,
            "ticks": ""
           }
          },
          "colorscale": {
           "diverging": [
            [
             0,
             "#8e0152"
            ],
            [
             0.1,
             "#c51b7d"
            ],
            [
             0.2,
             "#de77ae"
            ],
            [
             0.3,
             "#f1b6da"
            ],
            [
             0.4,
             "#fde0ef"
            ],
            [
             0.5,
             "#f7f7f7"
            ],
            [
             0.6,
             "#e6f5d0"
            ],
            [
             0.7,
             "#b8e186"
            ],
            [
             0.8,
             "#7fbc41"
            ],
            [
             0.9,
             "#4d9221"
            ],
            [
             1,
             "#276419"
            ]
           ],
           "sequential": [
            [
             0,
             "#0d0887"
            ],
            [
             0.1111111111111111,
             "#46039f"
            ],
            [
             0.2222222222222222,
             "#7201a8"
            ],
            [
             0.3333333333333333,
             "#9c179e"
            ],
            [
             0.4444444444444444,
             "#bd3786"
            ],
            [
             0.5555555555555556,
             "#d8576b"
            ],
            [
             0.6666666666666666,
             "#ed7953"
            ],
            [
             0.7777777777777778,
             "#fb9f3a"
            ],
            [
             0.8888888888888888,
             "#fdca26"
            ],
            [
             1,
             "#f0f921"
            ]
           ],
           "sequentialminus": [
            [
             0,
             "#0d0887"
            ],
            [
             0.1111111111111111,
             "#46039f"
            ],
            [
             0.2222222222222222,
             "#7201a8"
            ],
            [
             0.3333333333333333,
             "#9c179e"
            ],
            [
             0.4444444444444444,
             "#bd3786"
            ],
            [
             0.5555555555555556,
             "#d8576b"
            ],
            [
             0.6666666666666666,
             "#ed7953"
            ],
            [
             0.7777777777777778,
             "#fb9f3a"
            ],
            [
             0.8888888888888888,
             "#fdca26"
            ],
            [
             1,
             "#f0f921"
            ]
           ]
          },
          "colorway": [
           "#636efa",
           "#EF553B",
           "#00cc96",
           "#ab63fa",
           "#FFA15A",
           "#19d3f3",
           "#FF6692",
           "#B6E880",
           "#FF97FF",
           "#FECB52"
          ],
          "font": {
           "color": "#2a3f5f"
          },
          "geo": {
           "bgcolor": "white",
           "lakecolor": "white",
           "landcolor": "#E5ECF6",
           "showlakes": true,
           "showland": true,
           "subunitcolor": "white"
          },
          "hoverlabel": {
           "align": "left"
          },
          "hovermode": "closest",
          "mapbox": {
           "style": "light"
          },
          "paper_bgcolor": "white",
          "plot_bgcolor": "#E5ECF6",
          "polar": {
           "angularaxis": {
            "gridcolor": "white",
            "linecolor": "white",
            "ticks": ""
           },
           "bgcolor": "#E5ECF6",
           "radialaxis": {
            "gridcolor": "white",
            "linecolor": "white",
            "ticks": ""
           }
          },
          "scene": {
           "xaxis": {
            "backgroundcolor": "#E5ECF6",
            "gridcolor": "white",
            "gridwidth": 2,
            "linecolor": "white",
            "showbackground": true,
            "ticks": "",
            "zerolinecolor": "white"
           },
           "yaxis": {
            "backgroundcolor": "#E5ECF6",
            "gridcolor": "white",
            "gridwidth": 2,
            "linecolor": "white",
            "showbackground": true,
            "ticks": "",
            "zerolinecolor": "white"
           },
           "zaxis": {
            "backgroundcolor": "#E5ECF6",
            "gridcolor": "white",
            "gridwidth": 2,
            "linecolor": "white",
            "showbackground": true,
            "ticks": "",
            "zerolinecolor": "white"
           }
          },
          "shapedefaults": {
           "line": {
            "color": "#2a3f5f"
           }
          },
          "ternary": {
           "aaxis": {
            "gridcolor": "white",
            "linecolor": "white",
            "ticks": ""
           },
           "baxis": {
            "gridcolor": "white",
            "linecolor": "white",
            "ticks": ""
           },
           "bgcolor": "#E5ECF6",
           "caxis": {
            "gridcolor": "white",
            "linecolor": "white",
            "ticks": ""
           }
          },
          "title": {
           "x": 0.05
          },
          "xaxis": {
           "automargin": true,
           "gridcolor": "white",
           "linecolor": "white",
           "ticks": "",
           "title": {
            "standoff": 15
           },
           "zerolinecolor": "white",
           "zerolinewidth": 2
          },
          "yaxis": {
           "automargin": true,
           "gridcolor": "white",
           "linecolor": "white",
           "ticks": "",
           "title": {
            "standoff": 15
           },
           "zerolinecolor": "white",
           "zerolinewidth": 2
          }
         }
        },
        "title": {
         "text": "Fare Count By Age_category [Fig8]"
        },
        "width": 1000,
        "xaxis": {
         "anchor": "y",
         "domain": [
          0,
          1
         ],
         "title": {
          "text": "category_age"
         }
        },
        "yaxis": {
         "anchor": "x",
         "domain": [
          0,
          1
         ],
         "title": {
          "text": "fare"
         }
        }
       }
      }
     },
     "metadata": {},
     "output_type": "display_data"
    },
    {
     "data": {
      "text/plain": [
       "<Figure size 2000x900 with 0 Axes>"
      ]
     },
     "metadata": {},
     "output_type": "display_data"
    }
   ],
   "source": [
    "import plotly.express as px\n",
    "\n",
    "# Fig Size \n",
    "plt.figure(figsize=(20,9))\n",
    "# Assuming you've loaded the penguins dataset into a DataFrame named df\n",
    "\n",
    "fig = px.scatter(df, x='category_age', y=\"fare\" , size = \"fare\" ,color='sex' , height=700 , width= 1000)\n",
    "fig.update_layout(barmode='group' , title=\"Fare Count By Age_category [Fig8]\")  # Adjusts the layout to group bars for each sex\n",
    "\n",
    "fig.show()\n"
   ]
  },
  {
   "cell_type": "code",
   "execution_count": 132,
   "metadata": {},
   "outputs": [
    {
     "data": {
      "application/vnd.plotly.v1+json": {
       "config": {
        "plotlyServerURL": "https://plot.ly"
       },
       "data": [
        {
         "alignmentgroup": "True",
         "hovertemplate": "category_age=%{x}<br>fare=%{y}<extra></extra>",
         "legendgroup": "",
         "marker": {
          "color": "#636efa"
         },
         "name": "",
         "notched": false,
         "offsetgroup": "",
         "orientation": "v",
         "showlegend": false,
         "type": "box",
         "x": [
          "Teen",
          "Adult",
          "Teen",
          "Adult",
          "Adult",
          "Teen",
          "Old-Aged",
          "Baby",
          "Teen",
          "child",
          "Baby",
          "Old-Aged",
          "child",
          "Adult",
          "child",
          "Old-Aged",
          "Baby",
          "Teen",
          "Adult",
          "Teen",
          "Adult",
          "Adult",
          "child",
          "Teen",
          "Baby",
          "Adult",
          "Teen",
          "Teen",
          "Teen",
          "Adult",
          "Teen",
          "Middle-Aged",
          "Teen",
          "Teen",
          "child",
          "child",
          "Adult",
          "Teen",
          "Teen",
          "Baby",
          "child",
          "Teen",
          "Teen",
          "Teen",
          "child",
          "Baby",
          "Teen",
          "Teen",
          "Adult",
          "Teen",
          "Teen",
          "Baby",
          "child",
          "Teen",
          "Baby",
          "Adult",
          "Teen",
          "Teen",
          "child",
          "child",
          "Teen",
          "Adult",
          "child",
          "Teen",
          "Adult",
          "Teen",
          "Baby",
          "Teen",
          "Teen",
          "Teen",
          "Teen",
          "Teen",
          "child",
          "Adult",
          "child",
          "Teen",
          "Teen",
          "child",
          "Middle-Aged",
          "Teen",
          "Old-Aged",
          "Teen",
          "Adult",
          "Adult",
          "Teen",
          "Adult",
          "Adult",
          "Teen",
          "Teen",
          "Teen",
          "Adult",
          "Teen",
          "Middle-Aged",
          "child",
          "Teen",
          "child",
          "child",
          "Teen",
          "Teen",
          "Baby",
          "Adult",
          "Adult",
          "child",
          "Teen",
          "Teen",
          "Teen",
          "Middle-Aged",
          "Adult",
          "child",
          "Middle-Aged",
          "Teen",
          "Teen",
          "child",
          "Adult",
          "child",
          "Teen",
          "Teen",
          "Teen",
          "child",
          "child",
          "child",
          "Teen",
          "Baby",
          "Adult",
          "Middle-Aged",
          "Old-Aged",
          "Teen",
          "Old-Aged",
          "Middle-Aged",
          "Teen",
          "Old-Aged",
          "child",
          "Teen",
          "Teen",
          "Teen",
          "Middle-Aged",
          "Adult",
          "Teen",
          "child",
          "Baby",
          "Baby",
          "Adult",
          "Middle-Aged",
          "Adult",
          "Teen",
          "Senior",
          "Baby",
          "Baby",
          "Old-Aged",
          "child",
          "Teen",
          "Middle-Aged",
          "Teen",
          "Adult",
          "Teen",
          "Teen",
          "Baby",
          "Baby",
          "Baby",
          "Adult",
          "Teen",
          "Middle-Aged",
          "Adult",
          "Adult",
          "Adult",
          "child",
          "child",
          "Baby",
          "Middle-Aged",
          "Middle-Aged",
          "Teen",
          "Teen",
          "Adult",
          "Middle-Aged",
          "child",
          "Baby",
          "Adult",
          "Teen",
          "child",
          "Adult",
          "Teen",
          "Adult",
          "Teen",
          "Teen",
          "Teen",
          "Middle-Aged",
          "Teen",
          "child",
          "Teen",
          "Old-Aged",
          "Teen",
          "child",
          "Teen",
          "child",
          "Teen",
          "Teen",
          "Old-Aged",
          "Baby",
          "Teen",
          "Teen",
          "Middle-Aged",
          "Baby",
          "child",
          "Adult",
          "Teen",
          "Teen",
          "Teen",
          "Teen",
          "Teen",
          "Teen",
          "Adult",
          "Old-Aged",
          "Teen",
          "Teen",
          "Senior",
          "Teen",
          "Middle-Aged",
          "Teen",
          "Middle-Aged",
          "Baby",
          "Adult",
          "Teen",
          "Adult",
          "child",
          "Teen",
          "Adult",
          "Teen",
          "Middle-Aged",
          "Adult",
          "Middle-Aged",
          "Teen",
          "Baby",
          "Adult",
          "Teen",
          "child",
          "child",
          "Adult",
          "Adult",
          "Teen",
          "Teen",
          "Middle-Aged",
          "Teen",
          "Adult",
          "Teen",
          "Teen",
          "Teen",
          "Adult",
          "Teen",
          "child",
          "Teen",
          "Teen",
          "Teen",
          "Teen",
          "Middle-Aged",
          "Teen",
          "Teen",
          "Old-Aged",
          "Teen",
          "Teen",
          "Teen",
          "Senior",
          "Adult",
          "Adult",
          "child",
          "Teen",
          "Middle-Aged",
          "child",
          "Teen",
          "Middle-Aged",
          "Middle-Aged",
          "Baby",
          "Teen",
          "Adult",
          "Teen",
          "Adult",
          "Teen",
          "Baby",
          "Middle-Aged",
          "Teen",
          "Adult",
          "child",
          "Teen",
          "Teen",
          "Adult",
          "Adult",
          "Teen",
          "Middle-Aged",
          "Adult",
          "Teen",
          "Teen",
          "Teen",
          "Teen",
          "child",
          "child",
          "Baby",
          "Teen",
          "child",
          "child",
          "Baby",
          "Adult",
          "Adult",
          "Baby",
          "Teen",
          "child",
          "Teen",
          "Teen",
          "Teen",
          "Teen",
          "Adult",
          "Middle-Aged",
          "Teen",
          "Teen",
          "Adult",
          "Teen",
          "Teen",
          "Teen",
          "child",
          "Adult",
          "Old-Aged",
          "Baby",
          "Teen",
          "Teen",
          "Middle-Aged",
          "Teen",
          "Adult",
          "child",
          "Baby",
          "Teen",
          "Teen",
          "Teen",
          "child",
          "Teen",
          "child",
          "Adult",
          "Teen",
          "Middle-Aged",
          "child",
          "Middle-Aged",
          "Teen",
          "Teen",
          "Adult",
          "Middle-Aged",
          "child",
          "Teen",
          "Teen",
          "Teen",
          "child",
          "Adult",
          "Baby",
          "Old-Aged",
          "Adult",
          "Teen",
          "Teen",
          "Teen",
          "Adult",
          "Middle-Aged",
          "Middle-Aged",
          "Adult",
          "Middle-Aged",
          "Middle-Aged",
          "Adult",
          "Old-Aged",
          "Teen",
          "Baby",
          "Adult",
          "Adult",
          "Teen",
          "Teen",
          "Adult",
          "Teen",
          "Teen",
          "Baby",
          "Baby",
          "Middle-Aged",
          "Old-Aged",
          "Baby",
          "Teen",
          "Old-Aged",
          "Teen",
          "Teen",
          "Teen",
          "Teen",
          "Teen",
          "Adult",
          "Adult",
          "Adult",
          "Teen",
          "Teen",
          "Teen",
          "Adult",
          "Old-Aged",
          "Teen",
          "Middle-Aged",
          "Adult",
          "Teen",
          "Adult",
          "Adult",
          "Middle-Aged",
          "Teen",
          "Middle-Aged",
          "Adult",
          "Teen",
          "Baby",
          "child",
          "Teen",
          "Teen",
          "Baby",
          "Middle-Aged",
          "Teen",
          "Teen",
          "Adult",
          "Baby",
          "child",
          "Adult",
          "child",
          "Teen",
          "Adult",
          "Baby",
          "Teen",
          "Teen",
          "Teen",
          "Teen",
          "Middle-Aged",
          "Adult",
          "Adult",
          "Teen",
          "Teen",
          "child",
          "Teen",
          "Adult",
          "Senior",
          "Old-Aged",
          "Adult",
          "child",
          "child",
          "Adult",
          "Adult",
          "Teen",
          "Adult",
          "Teen",
          "Old-Aged",
          "Adult",
          "Teen",
          "Middle-Aged",
          "Adult",
          "Middle-Aged",
          "Teen",
          "Adult",
          "Adult",
          "Teen",
          "Middle-Aged",
          "Middle-Aged",
          "Teen",
          "Adult",
          "Middle-Aged",
          "Adult",
          "Adult",
          "Teen",
          "Teen",
          "Teen",
          "Adult",
          "Teen",
          "Teen",
          "Adult",
          "Teen",
          "Baby",
          "Teen",
          "Teen",
          "Middle-Aged",
          "child",
          "Teen",
          "Teen",
          "Senior",
          "Old-Aged",
          "Teen",
          "Teen",
          "Old-Aged",
          "Adult",
          "Adult",
          "Baby",
          "Adult",
          "Middle-Aged",
          "Teen",
          "Baby",
          "Teen",
          "Old-Aged",
          "Teen",
          "Teen",
          "child",
          "Teen",
          "Teen",
          "child",
          "Adult",
          "Teen",
          "Adult",
          "Middle-Aged",
          "Adult",
          "child",
          "Teen",
          "Middle-Aged",
          "Adult",
          "Adult",
          "Adult",
          "Adult",
          "child",
          "Teen",
          "child",
          "Middle-Aged",
          "Teen",
          "child",
          "child",
          "Old-Aged",
          "Teen",
          "child",
          "child",
          "child",
          "Adult",
          "Baby",
          "Teen",
          "Old-Aged",
          "Old-Aged",
          "Teen",
          "Middle-Aged",
          "Adult",
          "child",
          "Teen",
          "Teen",
          "Adult",
          "Middle-Aged",
          "Middle-Aged",
          "Teen",
          "Adult",
          "Middle-Aged",
          "Teen",
          "Old-Aged",
          "child",
          "Teen",
          "Teen",
          "Adult",
          "Baby",
          "child",
          "Adult",
          "Middle-Aged",
          "Teen",
          "child",
          "Teen",
          "Teen",
          "Teen",
          "Teen",
          "child",
          "Teen",
          "Middle-Aged",
          "Adult",
          "Teen",
          "Adult",
          "child",
          "Teen",
          "child",
          "Adult",
          "Baby",
          "Baby",
          "Adult",
          "Teen",
          "Middle-Aged",
          "Baby",
          "Teen",
          "Middle-Aged",
          "child",
          "child",
          "Adult",
          "Adult",
          "Teen",
          "Adult",
          "Teen",
          "Middle-Aged",
          "Old-Aged",
          "Old-Aged",
          "child",
          "Baby",
          "Teen",
          "child",
          "child",
          "Teen",
          "Teen",
          "Teen",
          "Teen",
          "child",
          "Baby",
          "Baby",
          "child",
          "Adult",
          "Teen",
          "Adult",
          "Middle-Aged",
          "Adult",
          "Teen",
          "Teen",
          "Adult",
          "Baby",
          "Teen",
          "Adult",
          "Adult",
          "child",
          "Adult",
          "Teen",
          "Adult",
          "Adult",
          "Baby",
          "Adult",
          "Teen",
          "Adult",
          "Middle-Aged",
          "Baby",
          "Teen",
          "Adult",
          "Teen",
          "Baby",
          "Teen",
          "Teen",
          "Baby",
          "Teen",
          "child",
          "Baby",
          "Teen",
          "child",
          "Teen",
          "Adult",
          "child",
          "child",
          "Teen",
          "Adult",
          "Middle-Aged",
          "Adult",
          "Teen",
          "Baby",
          "Baby",
          "child",
          "Middle-Aged",
          "child",
          "Old-Aged",
          "Teen",
          "Middle-Aged",
          "Teen",
          "Middle-Aged",
          "Teen",
          "Middle-Aged",
          "Teen",
          "Adult",
          "Teen",
          "Baby",
          "Middle-Aged",
          "Adult",
          "Middle-Aged",
          "Teen",
          "child",
          "child",
          "Teen",
          "Adult",
          "Teen",
          "Teen",
          "Adult",
          "child",
          "Teen",
          "Teen",
          "Adult"
         ],
         "x0": " ",
         "xaxis": "x",
         "y": [
          7.25,
          71.2833,
          7.925,
          53.1,
          8.05,
          8.4583,
          51.8625,
          21.075,
          11.1333,
          30.0708,
          16.7,
          26.55,
          8.05,
          31.275,
          7.8542,
          16,
          29.125,
          13,
          18,
          7.225,
          26,
          13,
          8.0292,
          35.5,
          21.075,
          31.3875,
          7.225,
          7.8792,
          7.8958,
          27.7208,
          7.75,
          52,
          7.2292,
          8.05,
          18,
          11.2417,
          9.475,
          21,
          7.8958,
          41.5792,
          7.8792,
          8.05,
          15.5,
          21.6792,
          17.8,
          39.6875,
          7.8,
          26,
          35.5,
          10.5,
          7.2292,
          27.75,
          46.9,
          7.2292,
          27.9,
          27.7208,
          15.2458,
          10.5,
          8.1583,
          7.925,
          8.6625,
          10.5,
          46.9,
          14.4542,
          56.4958,
          7.65,
          29,
          12.475,
          9,
          9.5,
          7.7875,
          47.1,
          10.5,
          15.85,
          34.375,
          8.05,
          8.05,
          7.8542,
          61.175,
          20.575,
          7.25,
          63.3583,
          23,
          26,
          7.8958,
          8.6542,
          7.925,
          7.8958,
          7.65,
          7.775,
          7.8958,
          24.15,
          52,
          14.4542,
          8.05,
          9.825,
          14.4583,
          7.925,
          21,
          31.275,
          30.0708,
          13,
          11.2417,
          7.75,
          7.1417,
          22.3583,
          6.975,
          7.8958,
          7.05,
          14.5,
          13,
          15.0458,
          26.2833,
          53.1,
          9.2167,
          15.2458,
          7.75,
          15.85,
          6.75,
          11.5,
          36.75,
          7.7958,
          34.375,
          26,
          13,
          12.525,
          66.6,
          8.05,
          14.5,
          7.3125,
          61.3792,
          7.7333,
          8.05,
          8.6625,
          69.55,
          16.1,
          15.75,
          7.775,
          8.6625,
          39.6875,
          20.525,
          55,
          27.9,
          25.925,
          56.4958,
          33.5,
          29.125,
          11.1333,
          30.6958,
          7.8542,
          25.4667,
          28.7125,
          13,
          0,
          69.55,
          15.05,
          31.3875,
          39,
          22.025,
          50,
          15.5,
          26.55,
          15.5,
          7.8958,
          13,
          13,
          7.8542,
          26,
          27.7208,
          8.4042,
          13,
          9.5,
          6.4958,
          7.225,
          8.05,
          10.4625,
          15.85,
          18.7875,
          7.75,
          31,
          7.05,
          21,
          7.25,
          7.75,
          7.925,
          27,
          10.5,
          8.05,
          13,
          8.05,
          9.35,
          10.5,
          7.25,
          13,
          25.4667,
          7.775,
          13.5,
          31.3875,
          10.5,
          7.55,
          26,
          26.25,
          10.5,
          12.275,
          14.4542,
          10.5,
          7.125,
          7.225,
          7.775,
          14.5,
          52.5542,
          26,
          7.25,
          10.4625,
          26.55,
          16.1,
          20.2125,
          15.2458,
          26,
          31.3875,
          0,
          7.75,
          10.5,
          39.6875,
          7.775,
          31,
          0,
          19.5,
          29.7,
          7.75,
          0,
          29.125,
          20.25,
          7.8542,
          9.5,
          8.05,
          26,
          8.6625,
          9.5,
          7.8958,
          13,
          7.75,
          12.875,
          8.85,
          7.8958,
          7.2292,
          30.5,
          23.25,
          0,
          12.35,
          24,
          56.9292,
          26,
          26.25,
          7.8542,
          26,
          14,
          7.8958,
          12.35,
          29,
          6.2375,
          13,
          20.525,
          57.9792,
          23.25,
          28.5,
          18,
          66.6,
          8.05,
          35.5,
          26,
          13,
          13,
          13,
          13,
          16.1,
          15.9,
          8.6625,
          9.225,
          35,
          7.2292,
          17.8,
          55,
          13,
          27.9,
          27.7208,
          14.4542,
          7.05,
          7.25,
          7.2292,
          69.3,
          55.4417,
          6.4958,
          8.05,
          21.075,
          7.25,
          4.0125,
          7.775,
          15.7417,
          7.925,
          52,
          46.9,
          7.7292,
          12,
          7.7958,
          7.925,
          16.7,
          7.7958,
          7.8542,
          26,
          10.5,
          12.65,
          7.925,
          8.05,
          9.825,
          15.85,
          8.6625,
          21,
          7.75,
          18.75,
          7.775,
          6.8583,
          7.925,
          8.05,
          32.5,
          13,
          24.15,
          7.7333,
          7.875,
          14.4,
          20.2125,
          26,
          26,
          8.05,
          26.55,
          26,
          7.125,
          55.9,
          34.375,
          18.75,
          10.5,
          26.25,
          9.5,
          7.775,
          13,
          8.1125,
          19.5,
          26.55,
          19.2583,
          30.5,
          27.75,
          19.9667,
          27.75,
          7.8958,
          51.8625,
          10.5,
          26.55,
          8.05,
          38.5,
          13,
          7.05,
          26.55,
          7.725,
          19.2583,
          8.6625,
          27.75,
          13.7917,
          9.8375,
          52,
          7.0458,
          7.5208,
          12.2875,
          46.9,
          8.05,
          29.7,
          15.9,
          7.25,
          30.5,
          14.4583,
          15.1,
          7.7958,
          7.75,
          7.6292,
          9.5875,
          26,
          26.55,
          22.525,
          56.4958,
          7.75,
          26.2875,
          59.4,
          7.4958,
          34.0208,
          10.5,
          24.15,
          26,
          7.8958,
          57.9792,
          7.2292,
          7.75,
          7.925,
          11.5,
          26,
          7.2292,
          22.3583,
          8.6625,
          26.25,
          26.55,
          14.5,
          49.5,
          71,
          31.275,
          31.275,
          26,
          26,
          13.8625,
          20.525,
          36.75,
          26,
          7.8292,
          7.225,
          7.775,
          39.6,
          17.4,
          7.8958,
          13.5,
          24.15,
          7.8958,
          21.075,
          7.8542,
          10.5,
          51.4792,
          26.3875,
          8.05,
          14.5,
          13,
          55.9,
          14.4583,
          7.925,
          30,
          26,
          40.125,
          8.7125,
          15,
          7.125,
          7.25,
          7.75,
          26,
          24.15,
          33,
          0,
          56.9292,
          27,
          42.4,
          8.05,
          26.55,
          15.55,
          7.8958,
          30.5,
          41.5792,
          31.275,
          7.05,
          65,
          14.4,
          16.1,
          39,
          10.5,
          14.4542,
          52.5542,
          15.7417,
          7.8542,
          16.1,
          32.3208,
          12.35,
          7.8958,
          7.7333,
          7.0542,
          30.5,
          0,
          27.9,
          26.25,
          39.6875,
          16.1,
          27.9,
          56.4958,
          35.5,
          7.55,
          7.55,
          23,
          8.4333,
          7.8292,
          6.75,
          15.5,
          13,
          7.225,
          25.5875,
          7.4958,
          7.925,
          7.775,
          8.05,
          52,
          39,
          52,
          13,
          7.775,
          8.05,
          9.8417,
          46.9,
          8.1375,
          9.225,
          46.9,
          39,
          41.5792,
          39.6875,
          10.1708,
          7.7958,
          57,
          13.4167,
          7.225,
          26.55,
          13.5,
          7.7333,
          7.65,
          26.2875,
          14.4542,
          7.7417,
          7.8542,
          26,
          13.5,
          26.2875,
          49.5042,
          26.55,
          52,
          9.4833,
          13,
          7.65,
          10.5,
          15.5,
          7.775,
          33,
          7.0542,
          13,
          13,
          53.1,
          8.6625,
          21,
          7.7375,
          26,
          7.925,
          18.7875,
          16.1,
          34.375,
          30,
          16.1,
          7.925,
          20.25,
          13,
          53.1,
          7.75,
          23,
          12.475,
          9.5,
          7.8958,
          65,
          14.5,
          7.7958,
          7.125,
          7.2292,
          7.775,
          39.6,
          7.75,
          24.15,
          8.3625,
          9.5,
          7.8542,
          10.5,
          23,
          7.75,
          12.475,
          7.7375,
          7.2292,
          57,
          30,
          23.45,
          7.05,
          7.25,
          7.4958,
          29.125,
          20.575,
          26,
          30.6958,
          7.8958,
          13,
          25.9292,
          8.6833,
          7.2292,
          24.15,
          26.25,
          8.5167,
          6.975,
          7.775,
          0,
          7.775,
          53.1,
          7.8875,
          24.15,
          10.5,
          31.275,
          8.05,
          7.925,
          37.0042,
          6.45,
          27.9,
          8.6625,
          0,
          12.475,
          39.6875,
          6.95,
          56.4958,
          37.0042,
          7.75,
          14.4542,
          18.75,
          7.8542,
          8.3,
          8.6625,
          29.7,
          7.925,
          10.5,
          31,
          6.4375,
          7.55,
          7.8958,
          33,
          31.275,
          15.2458,
          39.4,
          26,
          9.35,
          26.55,
          19.2583,
          14.1083,
          11.5,
          25.9292,
          13,
          13,
          13.8583,
          50.4958,
          9.5,
          11.1333,
          52.5542,
          5,
          9,
          24,
          7.225,
          9.8458,
          26,
          7.8958,
          10.5167,
          10.5,
          29.125,
          30,
          23.45,
          30,
          7.75
         ],
         "y0": " ",
         "yaxis": "y"
        }
       ],
       "layout": {
        "boxmode": "group",
        "legend": {
         "tracegroupgap": 0
        },
        "template": {
         "data": {
          "bar": [
           {
            "error_x": {
             "color": "#2a3f5f"
            },
            "error_y": {
             "color": "#2a3f5f"
            },
            "marker": {
             "line": {
              "color": "#E5ECF6",
              "width": 0.5
             },
             "pattern": {
              "fillmode": "overlay",
              "size": 10,
              "solidity": 0.2
             }
            },
            "type": "bar"
           }
          ],
          "barpolar": [
           {
            "marker": {
             "line": {
              "color": "#E5ECF6",
              "width": 0.5
             },
             "pattern": {
              "fillmode": "overlay",
              "size": 10,
              "solidity": 0.2
             }
            },
            "type": "barpolar"
           }
          ],
          "carpet": [
           {
            "aaxis": {
             "endlinecolor": "#2a3f5f",
             "gridcolor": "white",
             "linecolor": "white",
             "minorgridcolor": "white",
             "startlinecolor": "#2a3f5f"
            },
            "baxis": {
             "endlinecolor": "#2a3f5f",
             "gridcolor": "white",
             "linecolor": "white",
             "minorgridcolor": "white",
             "startlinecolor": "#2a3f5f"
            },
            "type": "carpet"
           }
          ],
          "choropleth": [
           {
            "colorbar": {
             "outlinewidth": 0,
             "ticks": ""
            },
            "type": "choropleth"
           }
          ],
          "contour": [
           {
            "colorbar": {
             "outlinewidth": 0,
             "ticks": ""
            },
            "colorscale": [
             [
              0,
              "#0d0887"
             ],
             [
              0.1111111111111111,
              "#46039f"
             ],
             [
              0.2222222222222222,
              "#7201a8"
             ],
             [
              0.3333333333333333,
              "#9c179e"
             ],
             [
              0.4444444444444444,
              "#bd3786"
             ],
             [
              0.5555555555555556,
              "#d8576b"
             ],
             [
              0.6666666666666666,
              "#ed7953"
             ],
             [
              0.7777777777777778,
              "#fb9f3a"
             ],
             [
              0.8888888888888888,
              "#fdca26"
             ],
             [
              1,
              "#f0f921"
             ]
            ],
            "type": "contour"
           }
          ],
          "contourcarpet": [
           {
            "colorbar": {
             "outlinewidth": 0,
             "ticks": ""
            },
            "type": "contourcarpet"
           }
          ],
          "heatmap": [
           {
            "colorbar": {
             "outlinewidth": 0,
             "ticks": ""
            },
            "colorscale": [
             [
              0,
              "#0d0887"
             ],
             [
              0.1111111111111111,
              "#46039f"
             ],
             [
              0.2222222222222222,
              "#7201a8"
             ],
             [
              0.3333333333333333,
              "#9c179e"
             ],
             [
              0.4444444444444444,
              "#bd3786"
             ],
             [
              0.5555555555555556,
              "#d8576b"
             ],
             [
              0.6666666666666666,
              "#ed7953"
             ],
             [
              0.7777777777777778,
              "#fb9f3a"
             ],
             [
              0.8888888888888888,
              "#fdca26"
             ],
             [
              1,
              "#f0f921"
             ]
            ],
            "type": "heatmap"
           }
          ],
          "heatmapgl": [
           {
            "colorbar": {
             "outlinewidth": 0,
             "ticks": ""
            },
            "colorscale": [
             [
              0,
              "#0d0887"
             ],
             [
              0.1111111111111111,
              "#46039f"
             ],
             [
              0.2222222222222222,
              "#7201a8"
             ],
             [
              0.3333333333333333,
              "#9c179e"
             ],
             [
              0.4444444444444444,
              "#bd3786"
             ],
             [
              0.5555555555555556,
              "#d8576b"
             ],
             [
              0.6666666666666666,
              "#ed7953"
             ],
             [
              0.7777777777777778,
              "#fb9f3a"
             ],
             [
              0.8888888888888888,
              "#fdca26"
             ],
             [
              1,
              "#f0f921"
             ]
            ],
            "type": "heatmapgl"
           }
          ],
          "histogram": [
           {
            "marker": {
             "pattern": {
              "fillmode": "overlay",
              "size": 10,
              "solidity": 0.2
             }
            },
            "type": "histogram"
           }
          ],
          "histogram2d": [
           {
            "colorbar": {
             "outlinewidth": 0,
             "ticks": ""
            },
            "colorscale": [
             [
              0,
              "#0d0887"
             ],
             [
              0.1111111111111111,
              "#46039f"
             ],
             [
              0.2222222222222222,
              "#7201a8"
             ],
             [
              0.3333333333333333,
              "#9c179e"
             ],
             [
              0.4444444444444444,
              "#bd3786"
             ],
             [
              0.5555555555555556,
              "#d8576b"
             ],
             [
              0.6666666666666666,
              "#ed7953"
             ],
             [
              0.7777777777777778,
              "#fb9f3a"
             ],
             [
              0.8888888888888888,
              "#fdca26"
             ],
             [
              1,
              "#f0f921"
             ]
            ],
            "type": "histogram2d"
           }
          ],
          "histogram2dcontour": [
           {
            "colorbar": {
             "outlinewidth": 0,
             "ticks": ""
            },
            "colorscale": [
             [
              0,
              "#0d0887"
             ],
             [
              0.1111111111111111,
              "#46039f"
             ],
             [
              0.2222222222222222,
              "#7201a8"
             ],
             [
              0.3333333333333333,
              "#9c179e"
             ],
             [
              0.4444444444444444,
              "#bd3786"
             ],
             [
              0.5555555555555556,
              "#d8576b"
             ],
             [
              0.6666666666666666,
              "#ed7953"
             ],
             [
              0.7777777777777778,
              "#fb9f3a"
             ],
             [
              0.8888888888888888,
              "#fdca26"
             ],
             [
              1,
              "#f0f921"
             ]
            ],
            "type": "histogram2dcontour"
           }
          ],
          "mesh3d": [
           {
            "colorbar": {
             "outlinewidth": 0,
             "ticks": ""
            },
            "type": "mesh3d"
           }
          ],
          "parcoords": [
           {
            "line": {
             "colorbar": {
              "outlinewidth": 0,
              "ticks": ""
             }
            },
            "type": "parcoords"
           }
          ],
          "pie": [
           {
            "automargin": true,
            "type": "pie"
           }
          ],
          "scatter": [
           {
            "fillpattern": {
             "fillmode": "overlay",
             "size": 10,
             "solidity": 0.2
            },
            "type": "scatter"
           }
          ],
          "scatter3d": [
           {
            "line": {
             "colorbar": {
              "outlinewidth": 0,
              "ticks": ""
             }
            },
            "marker": {
             "colorbar": {
              "outlinewidth": 0,
              "ticks": ""
             }
            },
            "type": "scatter3d"
           }
          ],
          "scattercarpet": [
           {
            "marker": {
             "colorbar": {
              "outlinewidth": 0,
              "ticks": ""
             }
            },
            "type": "scattercarpet"
           }
          ],
          "scattergeo": [
           {
            "marker": {
             "colorbar": {
              "outlinewidth": 0,
              "ticks": ""
             }
            },
            "type": "scattergeo"
           }
          ],
          "scattergl": [
           {
            "marker": {
             "colorbar": {
              "outlinewidth": 0,
              "ticks": ""
             }
            },
            "type": "scattergl"
           }
          ],
          "scattermapbox": [
           {
            "marker": {
             "colorbar": {
              "outlinewidth": 0,
              "ticks": ""
             }
            },
            "type": "scattermapbox"
           }
          ],
          "scatterpolar": [
           {
            "marker": {
             "colorbar": {
              "outlinewidth": 0,
              "ticks": ""
             }
            },
            "type": "scatterpolar"
           }
          ],
          "scatterpolargl": [
           {
            "marker": {
             "colorbar": {
              "outlinewidth": 0,
              "ticks": ""
             }
            },
            "type": "scatterpolargl"
           }
          ],
          "scatterternary": [
           {
            "marker": {
             "colorbar": {
              "outlinewidth": 0,
              "ticks": ""
             }
            },
            "type": "scatterternary"
           }
          ],
          "surface": [
           {
            "colorbar": {
             "outlinewidth": 0,
             "ticks": ""
            },
            "colorscale": [
             [
              0,
              "#0d0887"
             ],
             [
              0.1111111111111111,
              "#46039f"
             ],
             [
              0.2222222222222222,
              "#7201a8"
             ],
             [
              0.3333333333333333,
              "#9c179e"
             ],
             [
              0.4444444444444444,
              "#bd3786"
             ],
             [
              0.5555555555555556,
              "#d8576b"
             ],
             [
              0.6666666666666666,
              "#ed7953"
             ],
             [
              0.7777777777777778,
              "#fb9f3a"
             ],
             [
              0.8888888888888888,
              "#fdca26"
             ],
             [
              1,
              "#f0f921"
             ]
            ],
            "type": "surface"
           }
          ],
          "table": [
           {
            "cells": {
             "fill": {
              "color": "#EBF0F8"
             },
             "line": {
              "color": "white"
             }
            },
            "header": {
             "fill": {
              "color": "#C8D4E3"
             },
             "line": {
              "color": "white"
             }
            },
            "type": "table"
           }
          ]
         },
         "layout": {
          "annotationdefaults": {
           "arrowcolor": "#2a3f5f",
           "arrowhead": 0,
           "arrowwidth": 1
          },
          "autotypenumbers": "strict",
          "coloraxis": {
           "colorbar": {
            "outlinewidth": 0,
            "ticks": ""
           }
          },
          "colorscale": {
           "diverging": [
            [
             0,
             "#8e0152"
            ],
            [
             0.1,
             "#c51b7d"
            ],
            [
             0.2,
             "#de77ae"
            ],
            [
             0.3,
             "#f1b6da"
            ],
            [
             0.4,
             "#fde0ef"
            ],
            [
             0.5,
             "#f7f7f7"
            ],
            [
             0.6,
             "#e6f5d0"
            ],
            [
             0.7,
             "#b8e186"
            ],
            [
             0.8,
             "#7fbc41"
            ],
            [
             0.9,
             "#4d9221"
            ],
            [
             1,
             "#276419"
            ]
           ],
           "sequential": [
            [
             0,
             "#0d0887"
            ],
            [
             0.1111111111111111,
             "#46039f"
            ],
            [
             0.2222222222222222,
             "#7201a8"
            ],
            [
             0.3333333333333333,
             "#9c179e"
            ],
            [
             0.4444444444444444,
             "#bd3786"
            ],
            [
             0.5555555555555556,
             "#d8576b"
            ],
            [
             0.6666666666666666,
             "#ed7953"
            ],
            [
             0.7777777777777778,
             "#fb9f3a"
            ],
            [
             0.8888888888888888,
             "#fdca26"
            ],
            [
             1,
             "#f0f921"
            ]
           ],
           "sequentialminus": [
            [
             0,
             "#0d0887"
            ],
            [
             0.1111111111111111,
             "#46039f"
            ],
            [
             0.2222222222222222,
             "#7201a8"
            ],
            [
             0.3333333333333333,
             "#9c179e"
            ],
            [
             0.4444444444444444,
             "#bd3786"
            ],
            [
             0.5555555555555556,
             "#d8576b"
            ],
            [
             0.6666666666666666,
             "#ed7953"
            ],
            [
             0.7777777777777778,
             "#fb9f3a"
            ],
            [
             0.8888888888888888,
             "#fdca26"
            ],
            [
             1,
             "#f0f921"
            ]
           ]
          },
          "colorway": [
           "#636efa",
           "#EF553B",
           "#00cc96",
           "#ab63fa",
           "#FFA15A",
           "#19d3f3",
           "#FF6692",
           "#B6E880",
           "#FF97FF",
           "#FECB52"
          ],
          "font": {
           "color": "#2a3f5f"
          },
          "geo": {
           "bgcolor": "white",
           "lakecolor": "white",
           "landcolor": "#E5ECF6",
           "showlakes": true,
           "showland": true,
           "subunitcolor": "white"
          },
          "hoverlabel": {
           "align": "left"
          },
          "hovermode": "closest",
          "mapbox": {
           "style": "light"
          },
          "paper_bgcolor": "white",
          "plot_bgcolor": "#E5ECF6",
          "polar": {
           "angularaxis": {
            "gridcolor": "white",
            "linecolor": "white",
            "ticks": ""
           },
           "bgcolor": "#E5ECF6",
           "radialaxis": {
            "gridcolor": "white",
            "linecolor": "white",
            "ticks": ""
           }
          },
          "scene": {
           "xaxis": {
            "backgroundcolor": "#E5ECF6",
            "gridcolor": "white",
            "gridwidth": 2,
            "linecolor": "white",
            "showbackground": true,
            "ticks": "",
            "zerolinecolor": "white"
           },
           "yaxis": {
            "backgroundcolor": "#E5ECF6",
            "gridcolor": "white",
            "gridwidth": 2,
            "linecolor": "white",
            "showbackground": true,
            "ticks": "",
            "zerolinecolor": "white"
           },
           "zaxis": {
            "backgroundcolor": "#E5ECF6",
            "gridcolor": "white",
            "gridwidth": 2,
            "linecolor": "white",
            "showbackground": true,
            "ticks": "",
            "zerolinecolor": "white"
           }
          },
          "shapedefaults": {
           "line": {
            "color": "#2a3f5f"
           }
          },
          "ternary": {
           "aaxis": {
            "gridcolor": "white",
            "linecolor": "white",
            "ticks": ""
           },
           "baxis": {
            "gridcolor": "white",
            "linecolor": "white",
            "ticks": ""
           },
           "bgcolor": "#E5ECF6",
           "caxis": {
            "gridcolor": "white",
            "linecolor": "white",
            "ticks": ""
           }
          },
          "title": {
           "x": 0.05
          },
          "xaxis": {
           "automargin": true,
           "gridcolor": "white",
           "linecolor": "white",
           "ticks": "",
           "title": {
            "standoff": 15
           },
           "zerolinecolor": "white",
           "zerolinewidth": 2
          },
          "yaxis": {
           "automargin": true,
           "gridcolor": "white",
           "linecolor": "white",
           "ticks": "",
           "title": {
            "standoff": 15
           },
           "zerolinecolor": "white",
           "zerolinewidth": 2
          }
         }
        },
        "title": {
         "text": "Fare Comparison by Sex [Fig9]"
        },
        "xaxis": {
         "anchor": "y",
         "domain": [
          0,
          1
         ],
         "title": {
          "text": "category_age"
         }
        },
        "yaxis": {
         "anchor": "x",
         "domain": [
          0,
          1
         ],
         "title": {
          "text": "fare"
         }
        }
       }
      }
     },
     "metadata": {},
     "output_type": "display_data"
    }
   ],
   "source": [
    "import plotly.express as px\n",
    "\n",
    "fig = px.box(df, x='category_age', y='fare', title='Fare Comparison by Sex [Fig9]')\n",
    "# fig.update_layout(xaxis={'categoryorder': 'total descending'})\n",
    "\n",
    "fig.show()\n"
   ]
  },
  {
   "cell_type": "markdown",
   "metadata": {},
   "source": [
    "## 4. Survived Counts"
   ]
  },
  {
   "cell_type": "code",
   "execution_count": 133,
   "metadata": {},
   "outputs": [
    {
     "data": {
      "application/vnd.plotly.v1+json": {
       "config": {
        "plotlyServerURL": "https://plot.ly"
       },
       "data": [
        {
         "alignmentgroup": "True",
         "bingroup": "x",
         "hovertemplate": "sex=male<br>survived=%{x}<br>count=%{y}<extra></extra>",
         "legendgroup": "male",
         "marker": {
          "color": "#636efa",
          "pattern": {
           "shape": ""
          }
         },
         "name": "male",
         "offsetgroup": "male",
         "orientation": "v",
         "showlegend": true,
         "type": "histogram",
         "x": [
          0,
          0,
          0,
          0,
          0,
          0,
          0,
          0,
          1,
          0,
          1,
          1,
          0,
          0,
          0,
          0,
          1,
          0,
          0,
          0,
          0,
          0,
          0,
          0,
          1,
          0,
          0,
          0,
          0,
          0,
          1,
          0,
          0,
          0,
          0,
          1,
          0,
          1,
          0,
          1,
          0,
          0,
          0,
          0,
          0,
          0,
          0,
          0,
          1,
          0,
          0,
          0,
          0,
          1,
          0,
          0,
          0,
          0,
          0,
          0,
          1,
          0,
          1,
          0,
          0,
          0,
          0,
          0,
          0,
          0,
          0,
          0,
          0,
          1,
          0,
          0,
          0,
          0,
          0,
          0,
          0,
          0,
          0,
          0,
          0,
          0,
          0,
          0,
          1,
          0,
          0,
          0,
          0,
          0,
          0,
          0,
          0,
          0,
          0,
          0,
          1,
          0,
          1,
          0,
          0,
          0,
          1,
          0,
          0,
          0,
          0,
          1,
          0,
          1,
          1,
          0,
          0,
          0,
          0,
          0,
          1,
          0,
          0,
          0,
          1,
          0,
          0,
          0,
          0,
          0,
          0,
          0,
          0,
          0,
          0,
          0,
          1,
          0,
          0,
          0,
          0,
          1,
          0,
          0,
          0,
          1,
          0,
          1,
          0,
          0,
          0,
          0,
          0,
          1,
          0,
          0,
          1,
          0,
          1,
          0,
          0,
          0,
          1,
          1,
          0,
          0,
          0,
          0,
          0,
          0,
          0,
          0,
          0,
          1,
          0,
          1,
          0,
          0,
          1,
          0,
          0,
          0,
          0,
          0,
          0,
          0,
          0,
          0,
          1,
          0,
          0,
          0,
          0,
          0,
          0,
          0,
          1,
          0,
          0,
          0,
          0,
          1,
          0,
          0,
          0,
          0,
          1,
          0,
          0,
          1,
          0,
          0,
          0,
          1,
          1,
          0,
          0,
          0,
          0,
          0,
          1,
          1,
          1,
          0,
          0,
          0,
          1,
          1,
          0,
          0,
          0,
          0,
          0,
          0,
          0,
          0,
          0,
          0,
          0,
          0,
          0,
          1,
          0,
          0,
          0,
          0,
          0,
          1,
          0,
          1,
          1,
          1,
          0,
          0,
          0,
          0,
          0,
          0,
          0,
          0,
          0,
          0,
          0,
          1,
          1,
          0,
          1,
          0,
          0,
          1,
          0,
          0,
          0,
          0,
          1,
          1,
          1,
          0,
          0,
          1,
          0,
          0,
          0,
          0,
          0,
          0,
          0,
          0,
          0,
          1,
          0,
          0,
          1,
          0,
          0,
          1,
          0,
          0,
          0,
          0,
          1,
          1,
          0,
          0,
          0,
          0,
          0,
          0,
          0,
          1,
          0,
          0,
          0,
          1,
          1,
          0,
          0,
          0,
          0,
          0,
          0,
          1,
          0,
          0,
          0,
          1,
          0,
          0,
          0,
          0,
          0,
          0,
          0,
          0,
          0,
          1,
          0,
          0,
          0,
          0,
          1,
          0,
          0,
          0,
          1,
          0,
          1,
          0,
          0,
          0,
          0,
          0,
          0,
          0,
          0,
          1,
          0,
          0,
          0,
          0,
          1,
          0,
          1,
          0,
          0,
          0,
          1,
          0,
          0,
          1,
          0,
          0,
          1,
          0,
          0,
          0,
          0,
          0,
          0,
          0,
          0,
          0,
          0,
          0,
          0,
          0,
          1,
          0,
          0,
          0,
          0,
          0,
          1,
          1,
          0,
          0,
          0,
          0,
          0,
          0,
          0,
          0,
          0,
          1,
          0,
          0,
          0,
          0,
          1,
          1,
          1,
          0,
          0,
          0,
          1,
          0,
          0,
          0,
          0,
          0,
          0,
          0,
          1,
          0,
          0,
          0,
          0,
          0,
          1,
          0,
          0,
          0,
          0,
          0,
          1,
          0
         ],
         "xaxis": "x",
         "yaxis": "y"
        },
        {
         "alignmentgroup": "True",
         "bingroup": "x",
         "hovertemplate": "sex=female<br>survived=%{x}<br>count=%{y}<extra></extra>",
         "legendgroup": "female",
         "marker": {
          "color": "#EF553B",
          "pattern": {
           "shape": ""
          }
         },
         "name": "female",
         "offsetgroup": "female",
         "orientation": "v",
         "showlegend": true,
         "type": "histogram",
         "x": [
          1,
          1,
          1,
          1,
          1,
          1,
          1,
          0,
          1,
          0,
          1,
          1,
          0,
          1,
          1,
          1,
          0,
          1,
          0,
          0,
          1,
          1,
          0,
          1,
          1,
          1,
          1,
          1,
          0,
          1,
          1,
          1,
          1,
          1,
          0,
          1,
          1,
          0,
          0,
          0,
          0,
          1,
          1,
          0,
          1,
          0,
          1,
          1,
          0,
          1,
          1,
          1,
          1,
          0,
          1,
          0,
          0,
          1,
          1,
          1,
          1,
          1,
          0,
          0,
          1,
          1,
          1,
          0,
          1,
          0,
          1,
          0,
          0,
          1,
          0,
          0,
          1,
          1,
          0,
          1,
          0,
          1,
          1,
          0,
          1,
          1,
          0,
          1,
          1,
          1,
          1,
          1,
          1,
          1,
          1,
          1,
          1,
          1,
          1,
          0,
          0,
          1,
          1,
          0,
          1,
          1,
          1,
          1,
          1,
          0,
          1,
          0,
          0,
          0,
          1,
          1,
          0,
          0,
          1,
          1,
          1,
          0,
          1,
          1,
          1,
          1,
          1,
          1,
          1,
          1,
          1,
          1,
          0,
          1,
          0,
          0,
          0,
          1,
          1,
          1,
          1,
          1,
          1,
          1,
          0,
          1,
          1,
          1,
          0,
          0,
          1,
          1,
          1,
          1,
          0,
          1,
          1,
          1,
          0,
          1,
          0,
          1,
          1,
          1,
          0,
          1,
          0,
          1,
          0,
          0,
          0,
          1,
          1,
          1,
          0,
          0,
          1,
          1,
          1,
          0,
          0,
          1,
          1,
          0,
          1,
          1,
          1,
          1,
          1,
          1,
          0,
          0,
          1,
          1,
          1,
          0,
          0,
          1,
          1,
          1,
          1,
          1,
          1,
          1,
          0,
          1,
          0,
          1,
          0,
          0,
          1,
          1,
          1,
          0,
          1,
          0,
          1,
          1,
          1,
          1,
          1,
          1,
          1,
          1,
          1,
          0,
          0,
          1,
          0
         ],
         "xaxis": "x",
         "yaxis": "y"
        }
       ],
       "layout": {
        "barmode": "group",
        "legend": {
         "title": {
          "text": "sex"
         },
         "tracegroupgap": 0
        },
        "margin": {
         "t": 60
        },
        "template": {
         "data": {
          "bar": [
           {
            "error_x": {
             "color": "#2a3f5f"
            },
            "error_y": {
             "color": "#2a3f5f"
            },
            "marker": {
             "line": {
              "color": "#E5ECF6",
              "width": 0.5
             },
             "pattern": {
              "fillmode": "overlay",
              "size": 10,
              "solidity": 0.2
             }
            },
            "type": "bar"
           }
          ],
          "barpolar": [
           {
            "marker": {
             "line": {
              "color": "#E5ECF6",
              "width": 0.5
             },
             "pattern": {
              "fillmode": "overlay",
              "size": 10,
              "solidity": 0.2
             }
            },
            "type": "barpolar"
           }
          ],
          "carpet": [
           {
            "aaxis": {
             "endlinecolor": "#2a3f5f",
             "gridcolor": "white",
             "linecolor": "white",
             "minorgridcolor": "white",
             "startlinecolor": "#2a3f5f"
            },
            "baxis": {
             "endlinecolor": "#2a3f5f",
             "gridcolor": "white",
             "linecolor": "white",
             "minorgridcolor": "white",
             "startlinecolor": "#2a3f5f"
            },
            "type": "carpet"
           }
          ],
          "choropleth": [
           {
            "colorbar": {
             "outlinewidth": 0,
             "ticks": ""
            },
            "type": "choropleth"
           }
          ],
          "contour": [
           {
            "colorbar": {
             "outlinewidth": 0,
             "ticks": ""
            },
            "colorscale": [
             [
              0,
              "#0d0887"
             ],
             [
              0.1111111111111111,
              "#46039f"
             ],
             [
              0.2222222222222222,
              "#7201a8"
             ],
             [
              0.3333333333333333,
              "#9c179e"
             ],
             [
              0.4444444444444444,
              "#bd3786"
             ],
             [
              0.5555555555555556,
              "#d8576b"
             ],
             [
              0.6666666666666666,
              "#ed7953"
             ],
             [
              0.7777777777777778,
              "#fb9f3a"
             ],
             [
              0.8888888888888888,
              "#fdca26"
             ],
             [
              1,
              "#f0f921"
             ]
            ],
            "type": "contour"
           }
          ],
          "contourcarpet": [
           {
            "colorbar": {
             "outlinewidth": 0,
             "ticks": ""
            },
            "type": "contourcarpet"
           }
          ],
          "heatmap": [
           {
            "colorbar": {
             "outlinewidth": 0,
             "ticks": ""
            },
            "colorscale": [
             [
              0,
              "#0d0887"
             ],
             [
              0.1111111111111111,
              "#46039f"
             ],
             [
              0.2222222222222222,
              "#7201a8"
             ],
             [
              0.3333333333333333,
              "#9c179e"
             ],
             [
              0.4444444444444444,
              "#bd3786"
             ],
             [
              0.5555555555555556,
              "#d8576b"
             ],
             [
              0.6666666666666666,
              "#ed7953"
             ],
             [
              0.7777777777777778,
              "#fb9f3a"
             ],
             [
              0.8888888888888888,
              "#fdca26"
             ],
             [
              1,
              "#f0f921"
             ]
            ],
            "type": "heatmap"
           }
          ],
          "heatmapgl": [
           {
            "colorbar": {
             "outlinewidth": 0,
             "ticks": ""
            },
            "colorscale": [
             [
              0,
              "#0d0887"
             ],
             [
              0.1111111111111111,
              "#46039f"
             ],
             [
              0.2222222222222222,
              "#7201a8"
             ],
             [
              0.3333333333333333,
              "#9c179e"
             ],
             [
              0.4444444444444444,
              "#bd3786"
             ],
             [
              0.5555555555555556,
              "#d8576b"
             ],
             [
              0.6666666666666666,
              "#ed7953"
             ],
             [
              0.7777777777777778,
              "#fb9f3a"
             ],
             [
              0.8888888888888888,
              "#fdca26"
             ],
             [
              1,
              "#f0f921"
             ]
            ],
            "type": "heatmapgl"
           }
          ],
          "histogram": [
           {
            "marker": {
             "pattern": {
              "fillmode": "overlay",
              "size": 10,
              "solidity": 0.2
             }
            },
            "type": "histogram"
           }
          ],
          "histogram2d": [
           {
            "colorbar": {
             "outlinewidth": 0,
             "ticks": ""
            },
            "colorscale": [
             [
              0,
              "#0d0887"
             ],
             [
              0.1111111111111111,
              "#46039f"
             ],
             [
              0.2222222222222222,
              "#7201a8"
             ],
             [
              0.3333333333333333,
              "#9c179e"
             ],
             [
              0.4444444444444444,
              "#bd3786"
             ],
             [
              0.5555555555555556,
              "#d8576b"
             ],
             [
              0.6666666666666666,
              "#ed7953"
             ],
             [
              0.7777777777777778,
              "#fb9f3a"
             ],
             [
              0.8888888888888888,
              "#fdca26"
             ],
             [
              1,
              "#f0f921"
             ]
            ],
            "type": "histogram2d"
           }
          ],
          "histogram2dcontour": [
           {
            "colorbar": {
             "outlinewidth": 0,
             "ticks": ""
            },
            "colorscale": [
             [
              0,
              "#0d0887"
             ],
             [
              0.1111111111111111,
              "#46039f"
             ],
             [
              0.2222222222222222,
              "#7201a8"
             ],
             [
              0.3333333333333333,
              "#9c179e"
             ],
             [
              0.4444444444444444,
              "#bd3786"
             ],
             [
              0.5555555555555556,
              "#d8576b"
             ],
             [
              0.6666666666666666,
              "#ed7953"
             ],
             [
              0.7777777777777778,
              "#fb9f3a"
             ],
             [
              0.8888888888888888,
              "#fdca26"
             ],
             [
              1,
              "#f0f921"
             ]
            ],
            "type": "histogram2dcontour"
           }
          ],
          "mesh3d": [
           {
            "colorbar": {
             "outlinewidth": 0,
             "ticks": ""
            },
            "type": "mesh3d"
           }
          ],
          "parcoords": [
           {
            "line": {
             "colorbar": {
              "outlinewidth": 0,
              "ticks": ""
             }
            },
            "type": "parcoords"
           }
          ],
          "pie": [
           {
            "automargin": true,
            "type": "pie"
           }
          ],
          "scatter": [
           {
            "fillpattern": {
             "fillmode": "overlay",
             "size": 10,
             "solidity": 0.2
            },
            "type": "scatter"
           }
          ],
          "scatter3d": [
           {
            "line": {
             "colorbar": {
              "outlinewidth": 0,
              "ticks": ""
             }
            },
            "marker": {
             "colorbar": {
              "outlinewidth": 0,
              "ticks": ""
             }
            },
            "type": "scatter3d"
           }
          ],
          "scattercarpet": [
           {
            "marker": {
             "colorbar": {
              "outlinewidth": 0,
              "ticks": ""
             }
            },
            "type": "scattercarpet"
           }
          ],
          "scattergeo": [
           {
            "marker": {
             "colorbar": {
              "outlinewidth": 0,
              "ticks": ""
             }
            },
            "type": "scattergeo"
           }
          ],
          "scattergl": [
           {
            "marker": {
             "colorbar": {
              "outlinewidth": 0,
              "ticks": ""
             }
            },
            "type": "scattergl"
           }
          ],
          "scattermapbox": [
           {
            "marker": {
             "colorbar": {
              "outlinewidth": 0,
              "ticks": ""
             }
            },
            "type": "scattermapbox"
           }
          ],
          "scatterpolar": [
           {
            "marker": {
             "colorbar": {
              "outlinewidth": 0,
              "ticks": ""
             }
            },
            "type": "scatterpolar"
           }
          ],
          "scatterpolargl": [
           {
            "marker": {
             "colorbar": {
              "outlinewidth": 0,
              "ticks": ""
             }
            },
            "type": "scatterpolargl"
           }
          ],
          "scatterternary": [
           {
            "marker": {
             "colorbar": {
              "outlinewidth": 0,
              "ticks": ""
             }
            },
            "type": "scatterternary"
           }
          ],
          "surface": [
           {
            "colorbar": {
             "outlinewidth": 0,
             "ticks": ""
            },
            "colorscale": [
             [
              0,
              "#0d0887"
             ],
             [
              0.1111111111111111,
              "#46039f"
             ],
             [
              0.2222222222222222,
              "#7201a8"
             ],
             [
              0.3333333333333333,
              "#9c179e"
             ],
             [
              0.4444444444444444,
              "#bd3786"
             ],
             [
              0.5555555555555556,
              "#d8576b"
             ],
             [
              0.6666666666666666,
              "#ed7953"
             ],
             [
              0.7777777777777778,
              "#fb9f3a"
             ],
             [
              0.8888888888888888,
              "#fdca26"
             ],
             [
              1,
              "#f0f921"
             ]
            ],
            "type": "surface"
           }
          ],
          "table": [
           {
            "cells": {
             "fill": {
              "color": "#EBF0F8"
             },
             "line": {
              "color": "white"
             }
            },
            "header": {
             "fill": {
              "color": "#C8D4E3"
             },
             "line": {
              "color": "white"
             }
            },
            "type": "table"
           }
          ]
         },
         "layout": {
          "annotationdefaults": {
           "arrowcolor": "#2a3f5f",
           "arrowhead": 0,
           "arrowwidth": 1
          },
          "autotypenumbers": "strict",
          "coloraxis": {
           "colorbar": {
            "outlinewidth": 0,
            "ticks": ""
           }
          },
          "colorscale": {
           "diverging": [
            [
             0,
             "#8e0152"
            ],
            [
             0.1,
             "#c51b7d"
            ],
            [
             0.2,
             "#de77ae"
            ],
            [
             0.3,
             "#f1b6da"
            ],
            [
             0.4,
             "#fde0ef"
            ],
            [
             0.5,
             "#f7f7f7"
            ],
            [
             0.6,
             "#e6f5d0"
            ],
            [
             0.7,
             "#b8e186"
            ],
            [
             0.8,
             "#7fbc41"
            ],
            [
             0.9,
             "#4d9221"
            ],
            [
             1,
             "#276419"
            ]
           ],
           "sequential": [
            [
             0,
             "#0d0887"
            ],
            [
             0.1111111111111111,
             "#46039f"
            ],
            [
             0.2222222222222222,
             "#7201a8"
            ],
            [
             0.3333333333333333,
             "#9c179e"
            ],
            [
             0.4444444444444444,
             "#bd3786"
            ],
            [
             0.5555555555555556,
             "#d8576b"
            ],
            [
             0.6666666666666666,
             "#ed7953"
            ],
            [
             0.7777777777777778,
             "#fb9f3a"
            ],
            [
             0.8888888888888888,
             "#fdca26"
            ],
            [
             1,
             "#f0f921"
            ]
           ],
           "sequentialminus": [
            [
             0,
             "#0d0887"
            ],
            [
             0.1111111111111111,
             "#46039f"
            ],
            [
             0.2222222222222222,
             "#7201a8"
            ],
            [
             0.3333333333333333,
             "#9c179e"
            ],
            [
             0.4444444444444444,
             "#bd3786"
            ],
            [
             0.5555555555555556,
             "#d8576b"
            ],
            [
             0.6666666666666666,
             "#ed7953"
            ],
            [
             0.7777777777777778,
             "#fb9f3a"
            ],
            [
             0.8888888888888888,
             "#fdca26"
            ],
            [
             1,
             "#f0f921"
            ]
           ]
          },
          "colorway": [
           "#636efa",
           "#EF553B",
           "#00cc96",
           "#ab63fa",
           "#FFA15A",
           "#19d3f3",
           "#FF6692",
           "#B6E880",
           "#FF97FF",
           "#FECB52"
          ],
          "font": {
           "color": "#2a3f5f"
          },
          "geo": {
           "bgcolor": "white",
           "lakecolor": "white",
           "landcolor": "#E5ECF6",
           "showlakes": true,
           "showland": true,
           "subunitcolor": "white"
          },
          "hoverlabel": {
           "align": "left"
          },
          "hovermode": "closest",
          "mapbox": {
           "style": "light"
          },
          "paper_bgcolor": "white",
          "plot_bgcolor": "#E5ECF6",
          "polar": {
           "angularaxis": {
            "gridcolor": "white",
            "linecolor": "white",
            "ticks": ""
           },
           "bgcolor": "#E5ECF6",
           "radialaxis": {
            "gridcolor": "white",
            "linecolor": "white",
            "ticks": ""
           }
          },
          "scene": {
           "xaxis": {
            "backgroundcolor": "#E5ECF6",
            "gridcolor": "white",
            "gridwidth": 2,
            "linecolor": "white",
            "showbackground": true,
            "ticks": "",
            "zerolinecolor": "white"
           },
           "yaxis": {
            "backgroundcolor": "#E5ECF6",
            "gridcolor": "white",
            "gridwidth": 2,
            "linecolor": "white",
            "showbackground": true,
            "ticks": "",
            "zerolinecolor": "white"
           },
           "zaxis": {
            "backgroundcolor": "#E5ECF6",
            "gridcolor": "white",
            "gridwidth": 2,
            "linecolor": "white",
            "showbackground": true,
            "ticks": "",
            "zerolinecolor": "white"
           }
          },
          "shapedefaults": {
           "line": {
            "color": "#2a3f5f"
           }
          },
          "ternary": {
           "aaxis": {
            "gridcolor": "white",
            "linecolor": "white",
            "ticks": ""
           },
           "baxis": {
            "gridcolor": "white",
            "linecolor": "white",
            "ticks": ""
           },
           "bgcolor": "#E5ECF6",
           "caxis": {
            "gridcolor": "white",
            "linecolor": "white",
            "ticks": ""
           }
          },
          "title": {
           "x": 0.05
          },
          "xaxis": {
           "automargin": true,
           "gridcolor": "white",
           "linecolor": "white",
           "ticks": "",
           "title": {
            "standoff": 15
           },
           "zerolinecolor": "white",
           "zerolinewidth": 2
          },
          "yaxis": {
           "automargin": true,
           "gridcolor": "white",
           "linecolor": "white",
           "ticks": "",
           "title": {
            "standoff": 15
           },
           "zerolinecolor": "white",
           "zerolinewidth": 2
          }
         }
        },
        "title": {
         "text": "Survived Count By Gender [Fig10]"
        },
        "xaxis": {
         "anchor": "y",
         "domain": [
          0,
          1
         ],
         "title": {
          "text": "survived"
         }
        },
        "yaxis": {
         "anchor": "x",
         "domain": [
          0,
          1
         ],
         "title": {
          "text": "count"
         }
        }
       }
      }
     },
     "metadata": {},
     "output_type": "display_data"
    }
   ],
   "source": [
    "import plotly.express as pxf\n",
    "\n",
    "fig = px.histogram(df, x='survived', color='sex')\n",
    "fig.update_layout(barmode='group' , title=\"Survived Count By Gender [Fig10]\")  # Adjusts the layout to group bars for each sex\n",
    "\n",
    "fig.show()\n"
   ]
  },
  {
   "cell_type": "markdown",
   "metadata": {},
   "source": [
    "- From Fig10 We Can see Clearly that the Survival Ratio of Womens is higher than the Survival ratio of the Mens "
   ]
  },
  {
   "cell_type": "code",
   "execution_count": 134,
   "metadata": {},
   "outputs": [
    {
     "data": {
      "text/html": [
       "<div>\n",
       "<style scoped>\n",
       "    .dataframe tbody tr th:only-of-type {\n",
       "        vertical-align: middle;\n",
       "    }\n",
       "\n",
       "    .dataframe tbody tr th {\n",
       "        vertical-align: top;\n",
       "    }\n",
       "\n",
       "    .dataframe thead th {\n",
       "        text-align: right;\n",
       "    }\n",
       "</style>\n",
       "<table border=\"1\" class=\"dataframe\">\n",
       "  <thead>\n",
       "    <tr style=\"text-align: right;\">\n",
       "      <th></th>\n",
       "      <th>survived</th>\n",
       "      <th>sex</th>\n",
       "      <th>age</th>\n",
       "      <th>sibsp</th>\n",
       "      <th>parch</th>\n",
       "      <th>fare</th>\n",
       "      <th>class</th>\n",
       "      <th>embark_town</th>\n",
       "      <th>category_age</th>\n",
       "    </tr>\n",
       "  </thead>\n",
       "  <tbody>\n",
       "    <tr>\n",
       "      <th>0</th>\n",
       "      <td>0</td>\n",
       "      <td>male</td>\n",
       "      <td>22.0</td>\n",
       "      <td>1</td>\n",
       "      <td>0</td>\n",
       "      <td>7.2500</td>\n",
       "      <td>Third</td>\n",
       "      <td>Southampton</td>\n",
       "      <td>Teen</td>\n",
       "    </tr>\n",
       "    <tr>\n",
       "      <th>1</th>\n",
       "      <td>1</td>\n",
       "      <td>female</td>\n",
       "      <td>38.0</td>\n",
       "      <td>1</td>\n",
       "      <td>0</td>\n",
       "      <td>71.2833</td>\n",
       "      <td>First</td>\n",
       "      <td>Cherbourg</td>\n",
       "      <td>Adult</td>\n",
       "    </tr>\n",
       "    <tr>\n",
       "      <th>2</th>\n",
       "      <td>1</td>\n",
       "      <td>female</td>\n",
       "      <td>26.0</td>\n",
       "      <td>0</td>\n",
       "      <td>0</td>\n",
       "      <td>7.9250</td>\n",
       "      <td>Third</td>\n",
       "      <td>Southampton</td>\n",
       "      <td>Teen</td>\n",
       "    </tr>\n",
       "    <tr>\n",
       "      <th>3</th>\n",
       "      <td>1</td>\n",
       "      <td>female</td>\n",
       "      <td>35.0</td>\n",
       "      <td>1</td>\n",
       "      <td>0</td>\n",
       "      <td>53.1000</td>\n",
       "      <td>First</td>\n",
       "      <td>Southampton</td>\n",
       "      <td>Adult</td>\n",
       "    </tr>\n",
       "    <tr>\n",
       "      <th>4</th>\n",
       "      <td>0</td>\n",
       "      <td>male</td>\n",
       "      <td>35.0</td>\n",
       "      <td>0</td>\n",
       "      <td>0</td>\n",
       "      <td>8.0500</td>\n",
       "      <td>Third</td>\n",
       "      <td>Southampton</td>\n",
       "      <td>Adult</td>\n",
       "    </tr>\n",
       "  </tbody>\n",
       "</table>\n",
       "</div>"
      ],
      "text/plain": [
       "   survived     sex   age  sibsp  parch     fare  class  embark_town  \\\n",
       "0         0    male  22.0      1      0   7.2500  Third  Southampton   \n",
       "1         1  female  38.0      1      0  71.2833  First    Cherbourg   \n",
       "2         1  female  26.0      0      0   7.9250  Third  Southampton   \n",
       "3         1  female  35.0      1      0  53.1000  First  Southampton   \n",
       "4         0    male  35.0      0      0   8.0500  Third  Southampton   \n",
       "\n",
       "  category_age  \n",
       "0         Teen  \n",
       "1        Adult  \n",
       "2         Teen  \n",
       "3        Adult  \n",
       "4        Adult  "
      ]
     },
     "execution_count": 134,
     "metadata": {},
     "output_type": "execute_result"
    }
   ],
   "source": [
    "df.head()"
   ]
  },
  {
   "cell_type": "markdown",
   "metadata": {},
   "source": [
    "## 5. Fare Count by Suruvied "
   ]
  },
  {
   "cell_type": "code",
   "execution_count": 135,
   "metadata": {},
   "outputs": [
    {
     "data": {
      "image/png": "[encoded data removed]",
      "text/plain": [
       "<Figure size 640x480 with 1 Axes>"
      ]
     },
     "metadata": {},
     "output_type": "display_data"
    }
   ],
   "source": [
    "count = df.groupby(\"survived\")[\"fare\"].count().plot(kind=\"barh\")\n",
    "plt.title(\"Count of Fares based on Survival [Fig11]\")\n",
    "\n",
    "plt.show()"
   ]
  },
  {
   "cell_type": "markdown",
   "metadata": {},
   "source": [
    "- From fig 11 . Which Pay Higher Fare Not Survived "
   ]
  },
  {
   "cell_type": "markdown",
   "metadata": {},
   "source": [
    "## 6 . Total Number of People Who Survived And Who not Survived"
   ]
  },
  {
   "cell_type": "code",
   "execution_count": 136,
   "metadata": {},
   "outputs": [
    {
     "data": {
      "application/vnd.plotly.v1+json": {
       "config": {
        "plotlyServerURL": "https://plot.ly"
       },
       "data": [
        {
         "type": "bar",
         "x": [
          "Not Survived",
          "Survived"
         ],
         "y": [
          322,
          458
         ]
        }
       ],
       "layout": {
        "template": {
         "data": {
          "bar": [
           {
            "error_x": {
             "color": "#2a3f5f"
            },
            "error_y": {
             "color": "#2a3f5f"
            },
            "marker": {
             "line": {
              "color": "#E5ECF6",
              "width": 0.5
             },
             "pattern": {
              "fillmode": "overlay",
              "size": 10,
              "solidity": 0.2
             }
            },
            "type": "bar"
           }
          ],
          "barpolar": [
           {
            "marker": {
             "line": {
              "color": "#E5ECF6",
              "width": 0.5
             },
             "pattern": {
              "fillmode": "overlay",
              "size": 10,
              "solidity": 0.2
             }
            },
            "type": "barpolar"
           }
          ],
          "carpet": [
           {
            "aaxis": {
             "endlinecolor": "#2a3f5f",
             "gridcolor": "white",
             "linecolor": "white",
             "minorgridcolor": "white",
             "startlinecolor": "#2a3f5f"
            },
            "baxis": {
             "endlinecolor": "#2a3f5f",
             "gridcolor": "white",
             "linecolor": "white",
             "minorgridcolor": "white",
             "startlinecolor": "#2a3f5f"
            },
            "type": "carpet"
           }
          ],
          "choropleth": [
           {
            "colorbar": {
             "outlinewidth": 0,
             "ticks": ""
            },
            "type": "choropleth"
           }
          ],
          "contour": [
           {
            "colorbar": {
             "outlinewidth": 0,
             "ticks": ""
            },
            "colorscale": [
             [
              0,
              "#0d0887"
             ],
             [
              0.1111111111111111,
              "#46039f"
             ],
             [
              0.2222222222222222,
              "#7201a8"
             ],
             [
              0.3333333333333333,
              "#9c179e"
             ],
             [
              0.4444444444444444,
              "#bd3786"
             ],
             [
              0.5555555555555556,
              "#d8576b"
             ],
             [
              0.6666666666666666,
              "#ed7953"
             ],
             [
              0.7777777777777778,
              "#fb9f3a"
             ],
             [
              0.8888888888888888,
              "#fdca26"
             ],
             [
              1,
              "#f0f921"
             ]
            ],
            "type": "contour"
           }
          ],
          "contourcarpet": [
           {
            "colorbar": {
             "outlinewidth": 0,
             "ticks": ""
            },
            "type": "contourcarpet"
           }
          ],
          "heatmap": [
           {
            "colorbar": {
             "outlinewidth": 0,
             "ticks": ""
            },
            "colorscale": [
             [
              0,
              "#0d0887"
             ],
             [
              0.1111111111111111,
              "#46039f"
             ],
             [
              0.2222222222222222,
              "#7201a8"
             ],
             [
              0.3333333333333333,
              "#9c179e"
             ],
             [
              0.4444444444444444,
              "#bd3786"
             ],
             [
              0.5555555555555556,
              "#d8576b"
             ],
             [
              0.6666666666666666,
              "#ed7953"
             ],
             [
              0.7777777777777778,
              "#fb9f3a"
             ],
             [
              0.8888888888888888,
              "#fdca26"
             ],
             [
              1,
              "#f0f921"
             ]
            ],
            "type": "heatmap"
           }
          ],
          "heatmapgl": [
           {
            "colorbar": {
             "outlinewidth": 0,
             "ticks": ""
            },
            "colorscale": [
             [
              0,
              "#0d0887"
             ],
             [
              0.1111111111111111,
              "#46039f"
             ],
             [
              0.2222222222222222,
              "#7201a8"
             ],
             [
              0.3333333333333333,
              "#9c179e"
             ],
             [
              0.4444444444444444,
              "#bd3786"
             ],
             [
              0.5555555555555556,
              "#d8576b"
             ],
             [
              0.6666666666666666,
              "#ed7953"
             ],
             [
              0.7777777777777778,
              "#fb9f3a"
             ],
             [
              0.8888888888888888,
              "#fdca26"
             ],
             [
              1,
              "#f0f921"
             ]
            ],
            "type": "heatmapgl"
           }
          ],
          "histogram": [
           {
            "marker": {
             "pattern": {
              "fillmode": "overlay",
              "size": 10,
              "solidity": 0.2
             }
            },
            "type": "histogram"
           }
          ],
          "histogram2d": [
           {
            "colorbar": {
             "outlinewidth": 0,
             "ticks": ""
            },
            "colorscale": [
             [
              0,
              "#0d0887"
             ],
             [
              0.1111111111111111,
              "#46039f"
             ],
             [
              0.2222222222222222,
              "#7201a8"
             ],
             [
              0.3333333333333333,
              "#9c179e"
             ],
             [
              0.4444444444444444,
              "#bd3786"
             ],
             [
              0.5555555555555556,
              "#d8576b"
             ],
             [
              0.6666666666666666,
              "#ed7953"
             ],
             [
              0.7777777777777778,
              "#fb9f3a"
             ],
             [
              0.8888888888888888,
              "#fdca26"
             ],
             [
              1,
              "#f0f921"
             ]
            ],
            "type": "histogram2d"
           }
          ],
          "histogram2dcontour": [
           {
            "colorbar": {
             "outlinewidth": 0,
             "ticks": ""
            },
            "colorscale": [
             [
              0,
              "#0d0887"
             ],
             [
              0.1111111111111111,
              "#46039f"
             ],
             [
              0.2222222222222222,
              "#7201a8"
             ],
             [
              0.3333333333333333,
              "#9c179e"
             ],
             [
              0.4444444444444444,
              "#bd3786"
             ],
             [
              0.5555555555555556,
              "#d8576b"
             ],
             [
              0.6666666666666666,
              "#ed7953"
             ],
             [
              0.7777777777777778,
              "#fb9f3a"
             ],
             [
              0.8888888888888888,
              "#fdca26"
             ],
             [
              1,
              "#f0f921"
             ]
            ],
            "type": "histogram2dcontour"
           }
          ],
          "mesh3d": [
           {
            "colorbar": {
             "outlinewidth": 0,
             "ticks": ""
            },
            "type": "mesh3d"
           }
          ],
          "parcoords": [
           {
            "line": {
             "colorbar": {
              "outlinewidth": 0,
              "ticks": ""
             }
            },
            "type": "parcoords"
           }
          ],
          "pie": [
           {
            "automargin": true,
            "type": "pie"
           }
          ],
          "scatter": [
           {
            "fillpattern": {
             "fillmode": "overlay",
             "size": 10,
             "solidity": 0.2
            },
            "type": "scatter"
           }
          ],
          "scatter3d": [
           {
            "line": {
             "colorbar": {
              "outlinewidth": 0,
              "ticks": ""
             }
            },
            "marker": {
             "colorbar": {
              "outlinewidth": 0,
              "ticks": ""
             }
            },
            "type": "scatter3d"
           }
          ],
          "scattercarpet": [
           {
            "marker": {
             "colorbar": {
              "outlinewidth": 0,
              "ticks": ""
             }
            },
            "type": "scattercarpet"
           }
          ],
          "scattergeo": [
           {
            "marker": {
             "colorbar": {
              "outlinewidth": 0,
              "ticks": ""
             }
            },
            "type": "scattergeo"
           }
          ],
          "scattergl": [
           {
            "marker": {
             "colorbar": {
              "outlinewidth": 0,
              "ticks": ""
             }
            },
            "type": "scattergl"
           }
          ],
          "scattermapbox": [
           {
            "marker": {
             "colorbar": {
              "outlinewidth": 0,
              "ticks": ""
             }
            },
            "type": "scattermapbox"
           }
          ],
          "scatterpolar": [
           {
            "marker": {
             "colorbar": {
              "outlinewidth": 0,
              "ticks": ""
             }
            },
            "type": "scatterpolar"
           }
          ],
          "scatterpolargl": [
           {
            "marker": {
             "colorbar": {
              "outlinewidth": 0,
              "ticks": ""
             }
            },
            "type": "scatterpolargl"
           }
          ],
          "scatterternary": [
           {
            "marker": {
             "colorbar": {
              "outlinewidth": 0,
              "ticks": ""
             }
            },
            "type": "scatterternary"
           }
          ],
          "surface": [
           {
            "colorbar": {
             "outlinewidth": 0,
             "ticks": ""
            },
            "colorscale": [
             [
              0,
              "#0d0887"
             ],
             [
              0.1111111111111111,
              "#46039f"
             ],
             [
              0.2222222222222222,
              "#7201a8"
             ],
             [
              0.3333333333333333,
              "#9c179e"
             ],
             [
              0.4444444444444444,
              "#bd3786"
             ],
             [
              0.5555555555555556,
              "#d8576b"
             ],
             [
              0.6666666666666666,
              "#ed7953"
             ],
             [
              0.7777777777777778,
              "#fb9f3a"
             ],
             [
              0.8888888888888888,
              "#fdca26"
             ],
             [
              1,
              "#f0f921"
             ]
            ],
            "type": "surface"
           }
          ],
          "table": [
           {
            "cells": {
             "fill": {
              "color": "#EBF0F8"
             },
             "line": {
              "color": "white"
             }
            },
            "header": {
             "fill": {
              "color": "#C8D4E3"
             },
             "line": {
              "color": "white"
             }
            },
            "type": "table"
           }
          ]
         },
         "layout": {
          "annotationdefaults": {
           "arrowcolor": "#2a3f5f",
           "arrowhead": 0,
           "arrowwidth": 1
          },
          "autotypenumbers": "strict",
          "coloraxis": {
           "colorbar": {
            "outlinewidth": 0,
            "ticks": ""
           }
          },
          "colorscale": {
           "diverging": [
            [
             0,
             "#8e0152"
            ],
            [
             0.1,
             "#c51b7d"
            ],
            [
             0.2,
             "#de77ae"
            ],
            [
             0.3,
             "#f1b6da"
            ],
            [
             0.4,
             "#fde0ef"
            ],
            [
             0.5,
             "#f7f7f7"
            ],
            [
             0.6,
             "#e6f5d0"
            ],
            [
             0.7,
             "#b8e186"
            ],
            [
             0.8,
             "#7fbc41"
            ],
            [
             0.9,
             "#4d9221"
            ],
            [
             1,
             "#276419"
            ]
           ],
           "sequential": [
            [
             0,
             "#0d0887"
            ],
            [
             0.1111111111111111,
             "#46039f"
            ],
            [
             0.2222222222222222,
             "#7201a8"
            ],
            [
             0.3333333333333333,
             "#9c179e"
            ],
            [
             0.4444444444444444,
             "#bd3786"
            ],
            [
             0.5555555555555556,
             "#d8576b"
            ],
            [
             0.6666666666666666,
             "#ed7953"
            ],
            [
             0.7777777777777778,
             "#fb9f3a"
            ],
            [
             0.8888888888888888,
             "#fdca26"
            ],
            [
             1,
             "#f0f921"
            ]
           ],
           "sequentialminus": [
            [
             0,
             "#0d0887"
            ],
            [
             0.1111111111111111,
             "#46039f"
            ],
            [
             0.2222222222222222,
             "#7201a8"
            ],
            [
             0.3333333333333333,
             "#9c179e"
            ],
            [
             0.4444444444444444,
             "#bd3786"
            ],
            [
             0.5555555555555556,
             "#d8576b"
            ],
            [
             0.6666666666666666,
             "#ed7953"
            ],
            [
             0.7777777777777778,
             "#fb9f3a"
            ],
            [
             0.8888888888888888,
             "#fdca26"
            ],
            [
             1,
             "#f0f921"
            ]
           ]
          },
          "colorway": [
           "#636efa",
           "#EF553B",
           "#00cc96",
           "#ab63fa",
           "#FFA15A",
           "#19d3f3",
           "#FF6692",
           "#B6E880",
           "#FF97FF",
           "#FECB52"
          ],
          "font": {
           "color": "#2a3f5f"
          },
          "geo": {
           "bgcolor": "white",
           "lakecolor": "white",
           "landcolor": "#E5ECF6",
           "showlakes": true,
           "showland": true,
           "subunitcolor": "white"
          },
          "hoverlabel": {
           "align": "left"
          },
          "hovermode": "closest",
          "mapbox": {
           "style": "light"
          },
          "paper_bgcolor": "white",
          "plot_bgcolor": "#E5ECF6",
          "polar": {
           "angularaxis": {
            "gridcolor": "white",
            "linecolor": "white",
            "ticks": ""
           },
           "bgcolor": "#E5ECF6",
           "radialaxis": {
            "gridcolor": "white",
            "linecolor": "white",
            "ticks": ""
           }
          },
          "scene": {
           "xaxis": {
            "backgroundcolor": "#E5ECF6",
            "gridcolor": "white",
            "gridwidth": 2,
            "linecolor": "white",
            "showbackground": true,
            "ticks": "",
            "zerolinecolor": "white"
           },
           "yaxis": {
            "backgroundcolor": "#E5ECF6",
            "gridcolor": "white",
            "gridwidth": 2,
            "linecolor": "white",
            "showbackground": true,
            "ticks": "",
            "zerolinecolor": "white"
           },
           "zaxis": {
            "backgroundcolor": "#E5ECF6",
            "gridcolor": "white",
            "gridwidth": 2,
            "linecolor": "white",
            "showbackground": true,
            "ticks": "",
            "zerolinecolor": "white"
           }
          },
          "shapedefaults": {
           "line": {
            "color": "#2a3f5f"
           }
          },
          "ternary": {
           "aaxis": {
            "gridcolor": "white",
            "linecolor": "white",
            "ticks": ""
           },
           "baxis": {
            "gridcolor": "white",
            "linecolor": "white",
            "ticks": ""
           },
           "bgcolor": "#E5ECF6",
           "caxis": {
            "gridcolor": "white",
            "linecolor": "white",
            "ticks": ""
           }
          },
          "title": {
           "x": 0.05
          },
          "xaxis": {
           "automargin": true,
           "gridcolor": "white",
           "linecolor": "white",
           "ticks": "",
           "title": {
            "standoff": 15
           },
           "zerolinecolor": "white",
           "zerolinewidth": 2
          },
          "yaxis": {
           "automargin": true,
           "gridcolor": "white",
           "linecolor": "white",
           "ticks": "",
           "title": {
            "standoff": 15
           },
           "zerolinecolor": "white",
           "zerolinewidth": 2
          }
         }
        },
        "title": {
         "text": "Count of Fares based on Survival"
        },
        "xaxis": {
         "title": {
          "text": "Survival Status"
         }
        },
        "yaxis": {
         "title": {
          "text": "Fare Count"
         }
        }
       }
      }
     },
     "metadata": {},
     "output_type": "display_data"
    }
   ],
   "source": [
    "import plotly.graph_objects as go\n",
    "count = pd.Series([322, 458], index=[\"Not Survived\", \"Survived\"])\n",
    "\n",
    "# Create a Plotly bar plot\n",
    "fig = go.Figure(data=[\n",
    "    go.Bar(x=count.index, y=count.values)\n",
    "])\n",
    "\n",
    "# Update the layout for better visualization\n",
    "fig.update_layout(\n",
    "    title=\"Count of Fares based on Survival\",\n",
    "    xaxis=dict(title='Survival Status'),\n",
    "    yaxis=dict(title='Fare Count')\n",
    ")\n",
    "\n",
    "# Show the plot\n",
    "fig.show()"
   ]
  },
  {
   "cell_type": "markdown",
   "metadata": {},
   "source": [
    "# Step To Ready Data For MAchine Learning "
   ]
  },
  {
   "cell_type": "markdown",
   "metadata": {},
   "source": [
    "# Data-Scaling - Min-Max Scaling"
   ]
  },
  {
   "cell_type": "markdown",
   "metadata": {},
   "source": [
    "- Fare"
   ]
  },
  {
   "cell_type": "code",
   "execution_count": 137,
   "metadata": {},
   "outputs": [
    {
     "data": {
      "text/html": [
       "<div>\n",
       "<style scoped>\n",
       "    .dataframe tbody tr th:only-of-type {\n",
       "        vertical-align: middle;\n",
       "    }\n",
       "\n",
       "    .dataframe tbody tr th {\n",
       "        vertical-align: top;\n",
       "    }\n",
       "\n",
       "    .dataframe thead th {\n",
       "        text-align: right;\n",
       "    }\n",
       "</style>\n",
       "<table border=\"1\" class=\"dataframe\">\n",
       "  <thead>\n",
       "    <tr style=\"text-align: right;\">\n",
       "      <th></th>\n",
       "      <th>survived</th>\n",
       "      <th>sex</th>\n",
       "      <th>age</th>\n",
       "      <th>sibsp</th>\n",
       "      <th>parch</th>\n",
       "      <th>fare</th>\n",
       "      <th>class</th>\n",
       "      <th>embark_town</th>\n",
       "      <th>category_age</th>\n",
       "      <th>scaled_fare</th>\n",
       "    </tr>\n",
       "  </thead>\n",
       "  <tbody>\n",
       "    <tr>\n",
       "      <th>0</th>\n",
       "      <td>0</td>\n",
       "      <td>male</td>\n",
       "      <td>22.0</td>\n",
       "      <td>1</td>\n",
       "      <td>0</td>\n",
       "      <td>7.2500</td>\n",
       "      <td>Third</td>\n",
       "      <td>Southampton</td>\n",
       "      <td>Teen</td>\n",
       "      <td>0.101707</td>\n",
       "    </tr>\n",
       "    <tr>\n",
       "      <th>1</th>\n",
       "      <td>1</td>\n",
       "      <td>female</td>\n",
       "      <td>38.0</td>\n",
       "      <td>1</td>\n",
       "      <td>0</td>\n",
       "      <td>71.2833</td>\n",
       "      <td>First</td>\n",
       "      <td>Cherbourg</td>\n",
       "      <td>Adult</td>\n",
       "      <td>1.000000</td>\n",
       "    </tr>\n",
       "    <tr>\n",
       "      <th>2</th>\n",
       "      <td>1</td>\n",
       "      <td>female</td>\n",
       "      <td>26.0</td>\n",
       "      <td>0</td>\n",
       "      <td>0</td>\n",
       "      <td>7.9250</td>\n",
       "      <td>Third</td>\n",
       "      <td>Southampton</td>\n",
       "      <td>Teen</td>\n",
       "      <td>0.111176</td>\n",
       "    </tr>\n",
       "    <tr>\n",
       "      <th>3</th>\n",
       "      <td>1</td>\n",
       "      <td>female</td>\n",
       "      <td>35.0</td>\n",
       "      <td>1</td>\n",
       "      <td>0</td>\n",
       "      <td>53.1000</td>\n",
       "      <td>First</td>\n",
       "      <td>Southampton</td>\n",
       "      <td>Adult</td>\n",
       "      <td>0.744915</td>\n",
       "    </tr>\n",
       "    <tr>\n",
       "      <th>4</th>\n",
       "      <td>0</td>\n",
       "      <td>male</td>\n",
       "      <td>35.0</td>\n",
       "      <td>0</td>\n",
       "      <td>0</td>\n",
       "      <td>8.0500</td>\n",
       "      <td>Third</td>\n",
       "      <td>Southampton</td>\n",
       "      <td>Adult</td>\n",
       "      <td>0.112930</td>\n",
       "    </tr>\n",
       "  </tbody>\n",
       "</table>\n",
       "</div>"
      ],
      "text/plain": [
       "   survived     sex   age  sibsp  parch     fare  class  embark_town  \\\n",
       "0         0    male  22.0      1      0   7.2500  Third  Southampton   \n",
       "1         1  female  38.0      1      0  71.2833  First    Cherbourg   \n",
       "2         1  female  26.0      0      0   7.9250  Third  Southampton   \n",
       "3         1  female  35.0      1      0  53.1000  First  Southampton   \n",
       "4         0    male  35.0      0      0   8.0500  Third  Southampton   \n",
       "\n",
       "  category_age  scaled_fare  \n",
       "0         Teen     0.101707  \n",
       "1        Adult     1.000000  \n",
       "2         Teen     0.111176  \n",
       "3        Adult     0.744915  \n",
       "4        Adult     0.112930  "
      ]
     },
     "execution_count": 137,
     "metadata": {},
     "output_type": "execute_result"
    }
   ],
   "source": [
    "from sklearn.preprocessing import MinMaxScaler\n",
    "\n",
    "scaler = MinMaxScaler()\n",
    "df[\"scaled_fare\"]= scaler.fit_transform(df[[\"fare\"]])\n",
    "df.head()"
   ]
  },
  {
   "cell_type": "markdown",
   "metadata": {},
   "source": [
    "- Age "
   ]
  },
  {
   "cell_type": "code",
   "execution_count": 138,
   "metadata": {},
   "outputs": [
    {
     "data": {
      "text/html": [
       "<div>\n",
       "<style scoped>\n",
       "    .dataframe tbody tr th:only-of-type {\n",
       "        vertical-align: middle;\n",
       "    }\n",
       "\n",
       "    .dataframe tbody tr th {\n",
       "        vertical-align: top;\n",
       "    }\n",
       "\n",
       "    .dataframe thead th {\n",
       "        text-align: right;\n",
       "    }\n",
       "</style>\n",
       "<table border=\"1\" class=\"dataframe\">\n",
       "  <thead>\n",
       "    <tr style=\"text-align: right;\">\n",
       "      <th></th>\n",
       "      <th>survived</th>\n",
       "      <th>sex</th>\n",
       "      <th>age</th>\n",
       "      <th>sibsp</th>\n",
       "      <th>parch</th>\n",
       "      <th>fare</th>\n",
       "      <th>class</th>\n",
       "      <th>embark_town</th>\n",
       "      <th>category_age</th>\n",
       "      <th>scaled_fare</th>\n",
       "      <th>scaled_age</th>\n",
       "    </tr>\n",
       "  </thead>\n",
       "  <tbody>\n",
       "    <tr>\n",
       "      <th>0</th>\n",
       "      <td>0</td>\n",
       "      <td>male</td>\n",
       "      <td>22.0</td>\n",
       "      <td>1</td>\n",
       "      <td>0</td>\n",
       "      <td>7.2500</td>\n",
       "      <td>Third</td>\n",
       "      <td>Southampton</td>\n",
       "      <td>Teen</td>\n",
       "      <td>0.101707</td>\n",
       "      <td>0.350438</td>\n",
       "    </tr>\n",
       "    <tr>\n",
       "      <th>1</th>\n",
       "      <td>1</td>\n",
       "      <td>female</td>\n",
       "      <td>38.0</td>\n",
       "      <td>1</td>\n",
       "      <td>0</td>\n",
       "      <td>71.2833</td>\n",
       "      <td>First</td>\n",
       "      <td>Cherbourg</td>\n",
       "      <td>Adult</td>\n",
       "      <td>1.000000</td>\n",
       "      <td>0.610263</td>\n",
       "    </tr>\n",
       "    <tr>\n",
       "      <th>2</th>\n",
       "      <td>1</td>\n",
       "      <td>female</td>\n",
       "      <td>26.0</td>\n",
       "      <td>0</td>\n",
       "      <td>0</td>\n",
       "      <td>7.9250</td>\n",
       "      <td>Third</td>\n",
       "      <td>Southampton</td>\n",
       "      <td>Teen</td>\n",
       "      <td>0.111176</td>\n",
       "      <td>0.415395</td>\n",
       "    </tr>\n",
       "    <tr>\n",
       "      <th>3</th>\n",
       "      <td>1</td>\n",
       "      <td>female</td>\n",
       "      <td>35.0</td>\n",
       "      <td>1</td>\n",
       "      <td>0</td>\n",
       "      <td>53.1000</td>\n",
       "      <td>First</td>\n",
       "      <td>Southampton</td>\n",
       "      <td>Adult</td>\n",
       "      <td>0.744915</td>\n",
       "      <td>0.561546</td>\n",
       "    </tr>\n",
       "    <tr>\n",
       "      <th>4</th>\n",
       "      <td>0</td>\n",
       "      <td>male</td>\n",
       "      <td>35.0</td>\n",
       "      <td>0</td>\n",
       "      <td>0</td>\n",
       "      <td>8.0500</td>\n",
       "      <td>Third</td>\n",
       "      <td>Southampton</td>\n",
       "      <td>Adult</td>\n",
       "      <td>0.112930</td>\n",
       "      <td>0.561546</td>\n",
       "    </tr>\n",
       "  </tbody>\n",
       "</table>\n",
       "</div>"
      ],
      "text/plain": [
       "   survived     sex   age  sibsp  parch     fare  class  embark_town  \\\n",
       "0         0    male  22.0      1      0   7.2500  Third  Southampton   \n",
       "1         1  female  38.0      1      0  71.2833  First    Cherbourg   \n",
       "2         1  female  26.0      0      0   7.9250  Third  Southampton   \n",
       "3         1  female  35.0      1      0  53.1000  First  Southampton   \n",
       "4         0    male  35.0      0      0   8.0500  Third  Southampton   \n",
       "\n",
       "  category_age  scaled_fare  scaled_age  \n",
       "0         Teen     0.101707    0.350438  \n",
       "1        Adult     1.000000    0.610263  \n",
       "2         Teen     0.111176    0.415395  \n",
       "3        Adult     0.744915    0.561546  \n",
       "4        Adult     0.112930    0.561546  "
      ]
     },
     "execution_count": 138,
     "metadata": {},
     "output_type": "execute_result"
    }
   ],
   "source": [
    "from sklearn.preprocessing import MinMaxScaler\n",
    "\n",
    "scaler = MinMaxScaler()\n",
    "df[\"scaled_age\"]= scaler.fit_transform(df[[\"age\"]])\n",
    "df.head()"
   ]
  },
  {
   "cell_type": "code",
   "execution_count": 139,
   "metadata": {},
   "outputs": [
    {
     "data": {
      "application/vnd.plotly.v1+json": {
       "config": {
        "plotlyServerURL": "https://plot.ly"
       },
       "data": [
        {
         "alignmentgroup": "True",
         "hovertemplate": "sex=%{x}<br>scaled_age=%{y}<extra></extra>",
         "legendgroup": "",
         "marker": {
          "color": "#636efa"
         },
         "name": "",
         "notched": false,
         "offsetgroup": "",
         "orientation": "v",
         "showlegend": false,
         "type": "box",
         "x": [
          "male",
          "female",
          "female",
          "female",
          "male",
          "male",
          "male",
          "male",
          "female",
          "female",
          "female",
          "female",
          "male",
          "male",
          "female",
          "female",
          "male",
          "male",
          "female",
          "female",
          "male",
          "male",
          "female",
          "male",
          "female",
          "female",
          "male",
          "female",
          "male",
          "male",
          "female",
          "male",
          "male",
          "male",
          "female",
          "female",
          "female",
          "female",
          "male",
          "female",
          "female",
          "male",
          "male",
          "male",
          "female",
          "male",
          "male",
          "female",
          "male",
          "female",
          "male",
          "female",
          "male",
          "male",
          "male",
          "male",
          "male",
          "female",
          "male",
          "female",
          "male",
          "male",
          "female",
          "male",
          "male",
          "male",
          "male",
          "female",
          "male",
          "male",
          "female",
          "male",
          "female",
          "female",
          "male",
          "male",
          "male",
          "male",
          "male",
          "male",
          "male",
          "male",
          "female",
          "male",
          "female",
          "male",
          "male",
          "male",
          "female",
          "male",
          "male",
          "female",
          "male",
          "female",
          "male",
          "female",
          "female",
          "male",
          "male",
          "female",
          "male",
          "female",
          "male",
          "male",
          "male",
          "female",
          "male",
          "male",
          "male",
          "female",
          "male",
          "male",
          "female",
          "male",
          "male",
          "female",
          "female",
          "female",
          "male",
          "male",
          "male",
          "male",
          "female",
          "male",
          "male",
          "male",
          "female",
          "male",
          "male",
          "male",
          "male",
          "female",
          "male",
          "male",
          "male",
          "male",
          "female",
          "male",
          "male",
          "male",
          "male",
          "female",
          "female",
          "male",
          "male",
          "male",
          "male",
          "female",
          "male",
          "male",
          "male",
          "female",
          "male",
          "male",
          "female",
          "male",
          "male",
          "male",
          "female",
          "male",
          "female",
          "male",
          "male",
          "male",
          "female",
          "male",
          "female",
          "male",
          "female",
          "male",
          "female",
          "male",
          "male",
          "male",
          "male",
          "female",
          "male",
          "male",
          "female",
          "male",
          "male",
          "female",
          "male",
          "male",
          "female",
          "male",
          "male",
          "male",
          "male",
          "male",
          "male",
          "male",
          "male",
          "male",
          "female",
          "male",
          "male",
          "female",
          "male",
          "female",
          "male",
          "female",
          "male",
          "male",
          "female",
          "male",
          "male",
          "male",
          "female",
          "female",
          "male",
          "male",
          "male",
          "female",
          "male",
          "male",
          "female",
          "female",
          "female",
          "male",
          "male",
          "female",
          "male",
          "male",
          "male",
          "male",
          "male",
          "female",
          "male",
          "female",
          "male",
          "male",
          "female",
          "male",
          "male",
          "male",
          "male",
          "male",
          "male",
          "male",
          "male",
          "female",
          "male",
          "female",
          "male",
          "male",
          "male",
          "male",
          "male",
          "female",
          "male",
          "female",
          "female",
          "male",
          "female",
          "female",
          "male",
          "male",
          "female",
          "female",
          "male",
          "female",
          "female",
          "female",
          "female",
          "male",
          "male",
          "male",
          "male",
          "male",
          "male",
          "male",
          "male",
          "female",
          "female",
          "female",
          "male",
          "male",
          "male",
          "male",
          "male",
          "male",
          "female",
          "female",
          "male",
          "male",
          "female",
          "male",
          "male",
          "female",
          "female",
          "male",
          "male",
          "male",
          "female",
          "female",
          "male",
          "male",
          "female",
          "male",
          "female",
          "male",
          "male",
          "female",
          "male",
          "male",
          "female",
          "male",
          "female",
          "male",
          "male",
          "female",
          "male",
          "male",
          "female",
          "male",
          "female",
          "male",
          "male",
          "male",
          "male",
          "male",
          "male",
          "female",
          "female",
          "female",
          "female",
          "male",
          "male",
          "female",
          "male",
          "female",
          "female",
          "male",
          "male",
          "female",
          "male",
          "male",
          "female",
          "female",
          "male",
          "female",
          "male",
          "male",
          "female",
          "male",
          "female",
          "male",
          "female",
          "male",
          "male",
          "male",
          "male",
          "male",
          "female",
          "female",
          "male",
          "male",
          "male",
          "male",
          "male",
          "male",
          "male",
          "female",
          "male",
          "female",
          "female",
          "female",
          "male",
          "male",
          "male",
          "female",
          "male",
          "male",
          "male",
          "male",
          "male",
          "male",
          "male",
          "male",
          "male",
          "female",
          "female",
          "female",
          "female",
          "male",
          "male",
          "male",
          "male",
          "male",
          "female",
          "male",
          "male",
          "female",
          "male",
          "female",
          "male",
          "female",
          "male",
          "male",
          "male",
          "male",
          "female",
          "male",
          "female",
          "female",
          "female",
          "male",
          "male",
          "female",
          "female",
          "female",
          "female",
          "male",
          "female",
          "male",
          "male",
          "male",
          "male",
          "male",
          "male",
          "female",
          "female",
          "female",
          "male",
          "male",
          "male",
          "male",
          "female",
          "male",
          "male",
          "female",
          "male",
          "male",
          "male",
          "female",
          "female",
          "female",
          "male",
          "female",
          "male",
          "male",
          "male",
          "male",
          "male",
          "male",
          "female",
          "male",
          "male",
          "female",
          "male",
          "male",
          "female",
          "male",
          "male",
          "male",
          "male",
          "male",
          "male",
          "female",
          "female",
          "male",
          "female",
          "male",
          "female",
          "female",
          "male",
          "male",
          "male",
          "male",
          "male",
          "male",
          "male",
          "male",
          "male",
          "male",
          "male",
          "male",
          "male",
          "female",
          "male",
          "female",
          "male",
          "female",
          "male",
          "male",
          "male",
          "female",
          "female",
          "male",
          "female",
          "female",
          "female",
          "male",
          "male",
          "male",
          "male",
          "male",
          "male",
          "male",
          "female",
          "female",
          "male",
          "male",
          "male",
          "male",
          "female",
          "female",
          "female",
          "male",
          "male",
          "male",
          "male",
          "male",
          "male",
          "male",
          "male",
          "female",
          "male",
          "male",
          "male",
          "female",
          "male",
          "male",
          "female",
          "male",
          "male",
          "male",
          "female",
          "male",
          "female",
          "male",
          "male",
          "male",
          "male",
          "male",
          "female",
          "male",
          "male",
          "female",
          "male",
          "male",
          "male",
          "male",
          "male",
          "female",
          "female",
          "male",
          "female",
          "male",
          "male",
          "female",
          "male",
          "male",
          "male",
          "male",
          "female",
          "male",
          "male",
          "female",
          "male",
          "male",
          "male",
          "female",
          "male",
          "male",
          "male",
          "male",
          "male",
          "male",
          "female",
          "male",
          "male",
          "male",
          "male",
          "female",
          "female",
          "male",
          "female",
          "male",
          "female",
          "female",
          "male",
          "male",
          "male",
          "male",
          "female",
          "male",
          "male",
          "male",
          "male",
          "male",
          "male",
          "female",
          "female",
          "male",
          "female",
          "female",
          "male",
          "male",
          "male",
          "male",
          "female",
          "female",
          "male",
          "male",
          "male",
          "female",
          "male",
          "female",
          "male",
          "male",
          "male",
          "male",
          "male",
          "female",
          "male",
          "male",
          "male",
          "male",
          "male",
          "female",
          "male",
          "male",
          "male",
          "male",
          "male",
          "male",
          "male",
          "female",
          "male",
          "male",
          "male",
          "male",
          "male",
          "female",
          "female",
          "female",
          "female",
          "male",
          "female",
          "male",
          "male",
          "female",
          "male",
          "female",
          "female",
          "male",
          "male",
          "male",
          "female",
          "male",
          "male",
          "female",
          "female",
          "male",
          "female",
          "male",
          "female",
          "male",
          "female",
          "female",
          "female",
          "male",
          "male"
         ],
         "x0": " ",
         "xaxis": "x",
         "y": [
          0.3504384540435206,
          0.6102630724261123,
          0.41539460863916855,
          0.5615459564793764,
          0.5615459564793764,
          0.4014390990306895,
          0.8700876908087041,
          0.025657681065280935,
          0.4316336472880805,
          0.22052614485222471,
          0.0581357583631049,
          0.935043845404352,
          0.31796037674569666,
          0.6265021110750243,
          0.22052614485222471,
          0.886326729457616,
          0.025657681065280935,
          0.47836359301402187,
          0.4965898018837285,
          0.4014390990306895,
          0.5615459564793764,
          0.5453069178304644,
          0.23676518350113673,
          0.4478726859369925,
          0.12309191295875284,
          0.6102630724261123,
          0.4014390990306895,
          0.4014390990306895,
          0.4014390990306895,
          0.6427411497239364,
          0.4014390990306895,
          0.6752192270217603,
          0.4014390990306895,
          0.3341994153946086,
          0.2854822994478727,
          0.22052614485222471,
          0.6427411497239364,
          0.4316336472880805,
          0.4014390990306895,
          0.04189671971419292,
          0.30172133809678464,
          0.4014390990306895,
          0.4014390990306895,
          0.4014390990306895,
          0.2854822994478727,
          0.10685287430984085,
          0.3341994153946086,
          0.4641117245859045,
          0.6140539275773799,
          0.3341994153946086,
          0.4559922052614485,
          0.0743747970120169,
          0.17180902890548877,
          0.3504384540435206,
          0.0581357583631049,
          0.6140539275773799,
          0.4014390990306895,
          0.4641117245859045,
          0.30172133809678464,
          0.26924326079896066,
          0.41539460863916855,
          0.5128288405326404,
          0.2530042221500487,
          0.41539460863916855,
          0.5128288405326404,
          0.39915556999025653,
          0.0066580058460539125,
          0.48035076323481646,
          0.3504384540435206,
          0.4641117245859045,
          0.4014390990306895,
          0.4478726859369925,
          0.26924326079896066,
          0.5290678791815524,
          0.2530042221500487,
          0.38291653134134457,
          0.4641117245859045,
          0.31796037674569666,
          0.7401753816174083,
          0.41539460863916855,
          0.951282884053264,
          0.3666774926924326,
          0.5453069178304644,
          0.5453069178304644,
          0.4478726859369925,
          0.5290678791815524,
          0.5940240337772004,
          0.4478726859369925,
          0.3341994153946086,
          0.4014390990306895,
          0.6102630724261123,
          0.4014390990306895,
          0.7564144202663202,
          0.22864566417668075,
          0.3504384540435206,
          0.31796037674569666,
          0.26924326079896066,
          0.3341994153946086,
          0.4641117245859045,
          0.025657681065280935,
          0.5209483598570964,
          0.5209483598570964,
          0.1880480675544008,
          0.4014390990306895,
          0.38291653134134457,
          0.4014390990306895,
          0.7239363429684962,
          0.5290678791815524,
          0.31796037674569666,
          0.7564144202663202,
          0.39915556999025653,
          0.3666774926924326,
          0.30172133809678464,
          0.5940240337772004,
          0.2530042221500487,
          0.4014390990306895,
          0.3504384540435206,
          0.38291653134134457,
          0.30172133809678464,
          0.2854822994478727,
          0.30172133809678464,
          0.4316336472880805,
          0.13933095160766484,
          0.5859045144527444,
          0.6752192270217603,
          0.8213705748619682,
          0.3504384540435206,
          0.894446248782072,
          0.6508606690483923,
          0.4014390990306895,
          0.8213705748619682,
          0.2530042221500487,
          0.48035076323481646,
          0.4014390990306895,
          0.4014390990306895,
          0.7076973043195842,
          0.6427411497239364,
          0.41539460863916855,
          0.26924326079896066,
          0.009418642416368951,
          0.13933095160766484,
          0.6140539275773799,
          0.7239363429684962,
          0.6140539275773799,
          0.4478726859369925,
          0.9837609613510879,
          0.0581357583631049,
          0.009418642416368951,
          0.902565768106528,
          0.2854822994478727,
          0.4014390990306895,
          0.8051315362130561,
          0.48035076323481646,
          0.5777849951282884,
          0.4014390990306895,
          0.47836359301402187,
          0.13933095160766484,
          0.009418642416368951,
          0.0581357583631049,
          0.6140539275773799,
          0.4014390990306895,
          0.7239363429684962,
          0.6427411497239364,
          0.5777849951282884,
          0.5128288405326404,
          0.30172133809678464,
          0.30172133809678464,
          0.04189671971419292,
          0.7076973043195842,
          0.6752192270217603,
          0.38291653134134457,
          0.4478726859369925,
          0.5453069178304644,
          0.7320558622929523,
          0.2854822994478727,
          0.025657681065280935,
          0.5128288405326404,
          0.41539460863916855,
          0.2530042221500487,
          0.6427411497239364,
          0.38291653134134457,
          0.5615459564793764,
          0.3504384540435206,
          0.4014390990306895,
          0.4316336472880805,
          0.6752192270217603,
          0.48035076323481646,
          0.2530042221500487,
          0.4316336472880805,
          0.8213705748619682,
          0.3504384540435206,
          0.30172133809678464,
          0.32607989607015264,
          0.2854822994478727,
          0.4014390990306895,
          0.4641117245859045,
          0.951282884053264,
          0.0743747970120169,
          0.38291653134134457,
          0.4014390990306895,
          0.7076973043195842,
          0.12309191295875284,
          0.30172133809678464,
          0.5290678791815524,
          0.4014390990306895,
          0.4641117245859045,
          0.3504384540435206,
          0.48035076323481646,
          0.39915556999025653,
          0.38291653134134457,
          0.5940240337772004,
          0.8700876908087041,
          0.4014390990306895,
          0.4641117245859045,
          1,
          0.48035076323481646,
          0.6589801883728483,
          0.4641117245859045,
          0.8051315362130561,
          0.04189671971419292,
          0.6427411497239364,
          0.4014390990306895,
          0.5777849951282884,
          0.2530042221500487,
          0.39915556999025653,
          0.6140539275773799,
          0.39915556999025653,
          0.6589801883728483,
          0.5940240337772004,
          0.7239363429684962,
          0.47836359301402187,
          0.10685287430984085,
          0.5615459564793764,
          0.4478726859369925,
          0.2530042221500487,
          0.30172133809678464,
          0.6140539275773799,
          0.5290678791815524,
          0.48035076323481646,
          0.3504384540435206,
          0.6752192270217603,
          0.3504384540435206,
          0.5777849951282884,
          0.38291653134134457,
          0.38291653134134457,
          0.3747970120168886,
          0.6140539275773799,
          0.4014390990306895,
          0.30172133809678464,
          0.47836359301402187,
          0.48035076323481646,
          0.48035076323481646,
          0.41539460863916855,
          0.6914582656706723,
          0.41539460863916855,
          0.38291653134134457,
          0.8700876908087041,
          0.4316336472880805,
          0.48035076323481646,
          0.3504384540435206,
          0.9837609613510879,
          0.5777849951282884,
          0.4965898018837285,
          0.2530042221500487,
          0.4014390990306895,
          0.7320558622929523,
          0.2530042221500487,
          0.4641117245859045,
          0.7239363429684962,
          0.7239363429684962,
          0.025657681065280935,
          0.4478726859369925,
          0.5777849951282884,
          0.38291653134134457,
          0.6427411497239364,
          0.4014390990306895,
          0.04189671971419292,
          0.6752192270217603,
          0.3666774926924326,
          0.6140539275773799,
          0.23676518350113673,
          0.39915556999025653,
          0.3504384540435206,
          0.6102630724261123,
          0.6427411497239364,
          0.4641117245859045,
          0.7239363429684962,
          0.5615459564793764,
          0.48035076323481646,
          0.4014390990306895,
          0.38291653134134457,
          0.39915556999025653,
          0.2854822994478727,
          0.30172133809678464,
          0.04189671971419292,
          0.3504384540435206,
          0.31796037674569666,
          0.30172133809678464,
          0.009418642416368951,
          0.5128288405326404,
          0.5615459564793764,
          0.009418642416368951,
          0.4014390990306895,
          0.26924326079896066,
          0.3341994153946086,
          0.4478726859369925,
          0.38291653134134457,
          0.3504384540435206,
          0.4965898018837285,
          0.7401753816174083,
          0.3666774926924326,
          0.4478726859369925,
          0.6265021110750243,
          0.41539460863916855,
          0.3341994153946086,
          0.4478726859369925,
          0.31796037674569666,
          0.5453069178304644,
          0.8213705748619682,
          0.04189671971419292,
          0.3341994153946086,
          0.4014390990306895,
          0.7076973043195842,
          0.4014390990306895,
          0.5453069178304644,
          0.2854822994478727,
          0.1555699902565768,
          0.3341994153946086,
          0.4641117245859045,
          0.4478726859369925,
          0.2854822994478727,
          0.4478726859369925,
          0.30172133809678464,
          0.5128288405326404,
          0.4478726859369925,
          0.6752192270217603,
          0.26924326079896066,
          0.8051315362130561,
          0.3341994153946086,
          0.38291653134134457,
          0.4965898018837285,
          0.7239363429684962,
          0.31796037674569666,
          0.39915556999025653,
          0.4478726859369925,
          0.4014390990306895,
          0.20428710620331275,
          0.5453069178304644,
          0.0743747970120169,
          0.8376096135108801,
          0.5777849951282884,
          0.4014390990306895,
          0.48035076323481646,
          0.4641117245859045,
          0.6140539275773799,
          0.8051315362130561,
          0.7726534589152322,
          0.5453069178304644,
          0.7564144202663202,
          0.7726534589152322,
          0.6102630724261123,
          0.902565768106528,
          0.4014390990306895,
          0.005358882754140955,
          0.6102630724261123,
          0.5290678791815524,
          0.3666774926924326,
          0.3504384540435206,
          0.6140539275773799,
          0.4641117245859045,
          0.3504384540435206,
          0.025657681065280935,
          0.13933095160766484,
          0.8051315362130561,
          0.935043845404352,
          0.13933095160766484,
          0.3341994153946086,
          0.886326729457616,
          0.4014390990306895,
          0.4014390990306895,
          0.38291653134134457,
          0.3341994153946086,
          0.4014390990306895,
          0.5940240337772004,
          0.5290678791815524,
          0.6140539275773799,
          0.4478726859369925,
          0.41539460863916855,
          0.4641117245859045,
          0.5777849951282884,
          0.8700876908087041,
          0.38291653134134457,
          0.7564144202663202,
          0.5453069178304644,
          0.4014390990306895,
          0.5777849951282884,
          0.5128288405326404,
          0.7076973043195842,
          0.4014390990306895,
          0.6508606690483923,
          0.6265021110750243,
          0.3666774926924326,
          0.025657681065280935,
          0.26924326079896066,
          0.4014390990306895,
          0.48035076323481646,
          0.10685287430984085,
          0.7239363429684962,
          0.4014390990306895,
          0.3504384540435206,
          0.5777849951282884,
          0.13933095160766484,
          0.17180902890548877,
          0.5128288405326404,
          0.30172133809678464,
          0.47836359301402187,
          0.5290678791815524,
          0.12309191295875284,
          0.4316336472880805,
          0.4014390990306895,
          0.3504384540435206,
          0.3504384540435206,
          0.7726534589152322,
          0.5777849951282884,
          0.6427411497239364,
          0.4478726859369925,
          0.38291653134134457,
          0.30172133809678464,
          0.4641117245859045,
          0.5128288405326404,
          1,
          0.8538486521597921,
          0.5777849951282884,
          0.2530042221500487,
          0.30172133809678464,
          0.5453069178304644,
          0.6265021110750243,
          0.4014390990306895,
          0.5128288405326404,
          0.39915556999025653,
          0.8700876908087041,
          0.5777849951282884,
          0.4014390990306895,
          0.7564144202663202,
          0.5615459564793764,
          0.7564144202663202,
          0.4014390990306895,
          0.5940240337772004,
          0.5777849951282884,
          0.47836359301402187,
          0.7888924975641441,
          0.7888924975641441,
          0.38291653134134457,
          0.6140539275773799,
          0.7076973043195842,
          0.5615459564793764,
          0.5777849951282884,
          0.48035076323481646,
          0.4316336472880805,
          0.3504384540435206,
          0.6265021110750243,
          0.4014390990306895,
          0.38291653134134457,
          0.5453069178304644,
          0.41539460863916855,
          0.0581357583631049,
          0.41539460863916855,
          0.4316336472880805,
          0.6752192270217603,
          0.31796037674569666,
          0.3341994153946086,
          0.3341994153946086,
          0.9837609613510879,
          0.9188048067554401,
          0.41539460863916855,
          0.4014390990306895,
          0.8213705748619682,
          0.5128288405326404,
          0.6140539275773799,
          0.13933095160766484,
          0.4965898018837285,
          0.6589801883728483,
          0.4014390990306895,
          0.025657681065280935,
          0.4014390990306895,
          0.902565768106528,
          0.4014390990306895,
          0.3666774926924326,
          0.2854822994478727,
          0.3341994153946086,
          0.4014390990306895,
          0.2854822994478727,
          0.5128288405326404,
          0.3666774926924326,
          0.6427411497239364,
          0.7564144202663202,
          0.5777849951282884,
          0.31796037674569666,
          0.4014390990306895,
          0.6914582656706723,
          0.6140539275773799,
          0.6427411497239364,
          0.4965898018837285,
          0.4965898018837285,
          0.2854822994478727,
          0.39103605066580055,
          0.2854822994478727,
          0.6914582656706723,
          0.4014390990306895,
          0.31796037674569666,
          0.22052614485222471,
          0.967521922702176,
          0.39915556999025653,
          0.22052614485222471,
          0.30172133809678464,
          0.2854822994478727,
          0.4965898018837285,
          0.0581357583631049,
          0.39915556999025653,
          0.967521922702176,
          0.8376096135108801,
          0.4014390990306895,
          0.6752192270217603,
          0.5615459564793764,
          0.2854822994478727,
          0.39915556999025653,
          0.41539460863916855,
          0.6265021110750243,
          0.7239363429684962,
          0.6752192270217603,
          0.38291653134134457,
          0.6140539275773799,
          0.7726534589152322,
          0.4641117245859045,
          0.8376096135108801,
          0.30172133809678464,
          0.4316336472880805,
          0.4014390990306895,
          0.5290678791815524,
          0.09061383566092887,
          0.26924326079896066,
          0.5453069178304644,
          0.8051315362130561,
          0.4316336472880805,
          0.31796037674569666,
          0.48035076323481646,
          0.4014390990306895,
          0.39915556999025653,
          0.39915556999025653,
          0.17180902890548877,
          0.4559922052614485,
          0.7726534589152322,
          0.6140539275773799,
          0.38291653134134457,
          0.4965898018837285,
          0.2530042221500487,
          0.48035076323481646,
          0.30172133809678464,
          0.4965898018837285,
          0.0581357583631049,
          0.09061383566092887,
          0.5290678791815524,
          0.3666774926924326,
          0.7726534589152322,
          0.004059759662227998,
          0.4478726859369925,
          0.6589801883728483,
          0.31796037674569666,
          0.2530042221500487,
          0.6140539275773799,
          0.48847028255927244,
          0.4014390990306895,
          0.5128288405326404,
          0.38291653134134457,
          0.7726534589152322,
          0.9188048067554401,
          0.8700876908087041,
          0.2854822994478727,
          0.0743747970120169,
          0.4014390990306895,
          0.20428710620331275,
          0.26924326079896066,
          0.4641117245859045,
          0.4014390990306895,
          0.39915556999025653,
          0.39915556999025653,
          0.2854822994478727,
          0.12309191295875284,
          0.009418642416368951,
          0.2530042221500487,
          0.6140539275773799,
          0.39915556999025653,
          0.6265021110750243,
          0.7888924975641441,
          0.4965898018837285,
          0.48035076323481646,
          0.48035076323481646,
          0.4965898018837285,
          0,
          0.4316336472880805,
          0.4965898018837285,
          0.6265021110750243,
          0.2854822994478727,
          0.5290678791815524,
          0.41539460863916855,
          0.6265021110750243,
          0.5615459564793764,
          0.09061383566092887,
          0.48847028255927244,
          0.3666774926924326,
          0.4965898018837285,
          0.6914582656706723,
          0.1555699902565768,
          0.4316336472880805,
          0.6102630724261123,
          0.4316336472880805,
          0.025657681065280935,
          0.4014390990306895,
          0.4014390990306895,
          0.009418642416368951,
          0.4014390990306895,
          0.23676518350113673,
          0.0066580058460539125,
          0.3666774926924326,
          0.2854822994478727,
          0.3341994153946086,
          0.6140539275773799,
          0.31796037674569666,
          0.2530042221500487,
          0.48035076323481646,
          0.5534264371549203,
          0.6752192270217603,
          0.5615459564793764,
          0.4478726859369925,
          0.0581357583631049,
          0.13933095160766484,
          0.2530042221500487,
          0.7076973043195842,
          0.2854822994478727,
          0.8213705748619682,
          0.38291653134134457,
          0.6589801883728483,
          0.3341994153946086,
          0.7726534589152322,
          0.38291653134134457,
          0.6752192270217603,
          0.4316336472880805,
          0.4965898018837285,
          0.4014390990306895,
          0.0581357583631049,
          0.7564144202663202,
          0.5290678791815524,
          0.7564144202663202,
          0.4478726859369925,
          0.23676518350113673,
          0.31796037674569666,
          0.39915556999025653,
          0.5290678791815524,
          0.3504384540435206,
          0.4478726859369925,
          0.6265021110750243,
          0.30172133809678464,
          0.4014390990306895,
          0.41539460863916855,
          0.5128288405326404
         ],
         "y0": " ",
         "yaxis": "y"
        }
       ],
       "layout": {
        "boxmode": "group",
        "legend": {
         "tracegroupgap": 0
        },
        "margin": {
         "t": 60
        },
        "template": {
         "data": {
          "bar": [
           {
            "error_x": {
             "color": "#2a3f5f"
            },
            "error_y": {
             "color": "#2a3f5f"
            },
            "marker": {
             "line": {
              "color": "#E5ECF6",
              "width": 0.5
             },
             "pattern": {
              "fillmode": "overlay",
              "size": 10,
              "solidity": 0.2
             }
            },
            "type": "bar"
           }
          ],
          "barpolar": [
           {
            "marker": {
             "line": {
              "color": "#E5ECF6",
              "width": 0.5
             },
             "pattern": {
              "fillmode": "overlay",
              "size": 10,
              "solidity": 0.2
             }
            },
            "type": "barpolar"
           }
          ],
          "carpet": [
           {
            "aaxis": {
             "endlinecolor": "#2a3f5f",
             "gridcolor": "white",
             "linecolor": "white",
             "minorgridcolor": "white",
             "startlinecolor": "#2a3f5f"
            },
            "baxis": {
             "endlinecolor": "#2a3f5f",
             "gridcolor": "white",
             "linecolor": "white",
             "minorgridcolor": "white",
             "startlinecolor": "#2a3f5f"
            },
            "type": "carpet"
           }
          ],
          "choropleth": [
           {
            "colorbar": {
             "outlinewidth": 0,
             "ticks": ""
            },
            "type": "choropleth"
           }
          ],
          "contour": [
           {
            "colorbar": {
             "outlinewidth": 0,
             "ticks": ""
            },
            "colorscale": [
             [
              0,
              "#0d0887"
             ],
             [
              0.1111111111111111,
              "#46039f"
             ],
             [
              0.2222222222222222,
              "#7201a8"
             ],
             [
              0.3333333333333333,
              "#9c179e"
             ],
             [
              0.4444444444444444,
              "#bd3786"
             ],
             [
              0.5555555555555556,
              "#d8576b"
             ],
             [
              0.6666666666666666,
              "#ed7953"
             ],
             [
              0.7777777777777778,
              "#fb9f3a"
             ],
             [
              0.8888888888888888,
              "#fdca26"
             ],
             [
              1,
              "#f0f921"
             ]
            ],
            "type": "contour"
           }
          ],
          "contourcarpet": [
           {
            "colorbar": {
             "outlinewidth": 0,
             "ticks": ""
            },
            "type": "contourcarpet"
           }
          ],
          "heatmap": [
           {
            "colorbar": {
             "outlinewidth": 0,
             "ticks": ""
            },
            "colorscale": [
             [
              0,
              "#0d0887"
             ],
             [
              0.1111111111111111,
              "#46039f"
             ],
             [
              0.2222222222222222,
              "#7201a8"
             ],
             [
              0.3333333333333333,
              "#9c179e"
             ],
             [
              0.4444444444444444,
              "#bd3786"
             ],
             [
              0.5555555555555556,
              "#d8576b"
             ],
             [
              0.6666666666666666,
              "#ed7953"
             ],
             [
              0.7777777777777778,
              "#fb9f3a"
             ],
             [
              0.8888888888888888,
              "#fdca26"
             ],
             [
              1,
              "#f0f921"
             ]
            ],
            "type": "heatmap"
           }
          ],
          "heatmapgl": [
           {
            "colorbar": {
             "outlinewidth": 0,
             "ticks": ""
            },
            "colorscale": [
             [
              0,
              "#0d0887"
             ],
             [
              0.1111111111111111,
              "#46039f"
             ],
             [
              0.2222222222222222,
              "#7201a8"
             ],
             [
              0.3333333333333333,
              "#9c179e"
             ],
             [
              0.4444444444444444,
              "#bd3786"
             ],
             [
              0.5555555555555556,
              "#d8576b"
             ],
             [
              0.6666666666666666,
              "#ed7953"
             ],
             [
              0.7777777777777778,
              "#fb9f3a"
             ],
             [
              0.8888888888888888,
              "#fdca26"
             ],
             [
              1,
              "#f0f921"
             ]
            ],
            "type": "heatmapgl"
           }
          ],
          "histogram": [
           {
            "marker": {
             "pattern": {
              "fillmode": "overlay",
              "size": 10,
              "solidity": 0.2
             }
            },
            "type": "histogram"
           }
          ],
          "histogram2d": [
           {
            "colorbar": {
             "outlinewidth": 0,
             "ticks": ""
            },
            "colorscale": [
             [
              0,
              "#0d0887"
             ],
             [
              0.1111111111111111,
              "#46039f"
             ],
             [
              0.2222222222222222,
              "#7201a8"
             ],
             [
              0.3333333333333333,
              "#9c179e"
             ],
             [
              0.4444444444444444,
              "#bd3786"
             ],
             [
              0.5555555555555556,
              "#d8576b"
             ],
             [
              0.6666666666666666,
              "#ed7953"
             ],
             [
              0.7777777777777778,
              "#fb9f3a"
             ],
             [
              0.8888888888888888,
              "#fdca26"
             ],
             [
              1,
              "#f0f921"
             ]
            ],
            "type": "histogram2d"
           }
          ],
          "histogram2dcontour": [
           {
            "colorbar": {
             "outlinewidth": 0,
             "ticks": ""
            },
            "colorscale": [
             [
              0,
              "#0d0887"
             ],
             [
              0.1111111111111111,
              "#46039f"
             ],
             [
              0.2222222222222222,
              "#7201a8"
             ],
             [
              0.3333333333333333,
              "#9c179e"
             ],
             [
              0.4444444444444444,
              "#bd3786"
             ],
             [
              0.5555555555555556,
              "#d8576b"
             ],
             [
              0.6666666666666666,
              "#ed7953"
             ],
             [
              0.7777777777777778,
              "#fb9f3a"
             ],
             [
              0.8888888888888888,
              "#fdca26"
             ],
             [
              1,
              "#f0f921"
             ]
            ],
            "type": "histogram2dcontour"
           }
          ],
          "mesh3d": [
           {
            "colorbar": {
             "outlinewidth": 0,
             "ticks": ""
            },
            "type": "mesh3d"
           }
          ],
          "parcoords": [
           {
            "line": {
             "colorbar": {
              "outlinewidth": 0,
              "ticks": ""
             }
            },
            "type": "parcoords"
           }
          ],
          "pie": [
           {
            "automargin": true,
            "type": "pie"
           }
          ],
          "scatter": [
           {
            "fillpattern": {
             "fillmode": "overlay",
             "size": 10,
             "solidity": 0.2
            },
            "type": "scatter"
           }
          ],
          "scatter3d": [
           {
            "line": {
             "colorbar": {
              "outlinewidth": 0,
              "ticks": ""
             }
            },
            "marker": {
             "colorbar": {
              "outlinewidth": 0,
              "ticks": ""
             }
            },
            "type": "scatter3d"
           }
          ],
          "scattercarpet": [
           {
            "marker": {
             "colorbar": {
              "outlinewidth": 0,
              "ticks": ""
             }
            },
            "type": "scattercarpet"
           }
          ],
          "scattergeo": [
           {
            "marker": {
             "colorbar": {
              "outlinewidth": 0,
              "ticks": ""
             }
            },
            "type": "scattergeo"
           }
          ],
          "scattergl": [
           {
            "marker": {
             "colorbar": {
              "outlinewidth": 0,
              "ticks": ""
             }
            },
            "type": "scattergl"
           }
          ],
          "scattermapbox": [
           {
            "marker": {
             "colorbar": {
              "outlinewidth": 0,
              "ticks": ""
             }
            },
            "type": "scattermapbox"
           }
          ],
          "scatterpolar": [
           {
            "marker": {
             "colorbar": {
              "outlinewidth": 0,
              "ticks": ""
             }
            },
            "type": "scatterpolar"
           }
          ],
          "scatterpolargl": [
           {
            "marker": {
             "colorbar": {
              "outlinewidth": 0,
              "ticks": ""
             }
            },
            "type": "scatterpolargl"
           }
          ],
          "scatterternary": [
           {
            "marker": {
             "colorbar": {
              "outlinewidth": 0,
              "ticks": ""
             }
            },
            "type": "scatterternary"
           }
          ],
          "surface": [
           {
            "colorbar": {
             "outlinewidth": 0,
             "ticks": ""
            },
            "colorscale": [
             [
              0,
              "#0d0887"
             ],
             [
              0.1111111111111111,
              "#46039f"
             ],
             [
              0.2222222222222222,
              "#7201a8"
             ],
             [
              0.3333333333333333,
              "#9c179e"
             ],
             [
              0.4444444444444444,
              "#bd3786"
             ],
             [
              0.5555555555555556,
              "#d8576b"
             ],
             [
              0.6666666666666666,
              "#ed7953"
             ],
             [
              0.7777777777777778,
              "#fb9f3a"
             ],
             [
              0.8888888888888888,
              "#fdca26"
             ],
             [
              1,
              "#f0f921"
             ]
            ],
            "type": "surface"
           }
          ],
          "table": [
           {
            "cells": {
             "fill": {
              "color": "#EBF0F8"
             },
             "line": {
              "color": "white"
             }
            },
            "header": {
             "fill": {
              "color": "#C8D4E3"
             },
             "line": {
              "color": "white"
             }
            },
            "type": "table"
           }
          ]
         },
         "layout": {
          "annotationdefaults": {
           "arrowcolor": "#2a3f5f",
           "arrowhead": 0,
           "arrowwidth": 1
          },
          "autotypenumbers": "strict",
          "coloraxis": {
           "colorbar": {
            "outlinewidth": 0,
            "ticks": ""
           }
          },
          "colorscale": {
           "diverging": [
            [
             0,
             "#8e0152"
            ],
            [
             0.1,
             "#c51b7d"
            ],
            [
             0.2,
             "#de77ae"
            ],
            [
             0.3,
             "#f1b6da"
            ],
            [
             0.4,
             "#fde0ef"
            ],
            [
             0.5,
             "#f7f7f7"
            ],
            [
             0.6,
             "#e6f5d0"
            ],
            [
             0.7,
             "#b8e186"
            ],
            [
             0.8,
             "#7fbc41"
            ],
            [
             0.9,
             "#4d9221"
            ],
            [
             1,
             "#276419"
            ]
           ],
           "sequential": [
            [
             0,
             "#0d0887"
            ],
            [
             0.1111111111111111,
             "#46039f"
            ],
            [
             0.2222222222222222,
             "#7201a8"
            ],
            [
             0.3333333333333333,
             "#9c179e"
            ],
            [
             0.4444444444444444,
             "#bd3786"
            ],
            [
             0.5555555555555556,
             "#d8576b"
            ],
            [
             0.6666666666666666,
             "#ed7953"
            ],
            [
             0.7777777777777778,
             "#fb9f3a"
            ],
            [
             0.8888888888888888,
             "#fdca26"
            ],
            [
             1,
             "#f0f921"
            ]
           ],
           "sequentialminus": [
            [
             0,
             "#0d0887"
            ],
            [
             0.1111111111111111,
             "#46039f"
            ],
            [
             0.2222222222222222,
             "#7201a8"
            ],
            [
             0.3333333333333333,
             "#9c179e"
            ],
            [
             0.4444444444444444,
             "#bd3786"
            ],
            [
             0.5555555555555556,
             "#d8576b"
            ],
            [
             0.6666666666666666,
             "#ed7953"
            ],
            [
             0.7777777777777778,
             "#fb9f3a"
            ],
            [
             0.8888888888888888,
             "#fdca26"
            ],
            [
             1,
             "#f0f921"
            ]
           ]
          },
          "colorway": [
           "#636efa",
           "#EF553B",
           "#00cc96",
           "#ab63fa",
           "#FFA15A",
           "#19d3f3",
           "#FF6692",
           "#B6E880",
           "#FF97FF",
           "#FECB52"
          ],
          "font": {
           "color": "#2a3f5f"
          },
          "geo": {
           "bgcolor": "white",
           "lakecolor": "white",
           "landcolor": "#E5ECF6",
           "showlakes": true,
           "showland": true,
           "subunitcolor": "white"
          },
          "hoverlabel": {
           "align": "left"
          },
          "hovermode": "closest",
          "mapbox": {
           "style": "light"
          },
          "paper_bgcolor": "white",
          "plot_bgcolor": "#E5ECF6",
          "polar": {
           "angularaxis": {
            "gridcolor": "white",
            "linecolor": "white",
            "ticks": ""
           },
           "bgcolor": "#E5ECF6",
           "radialaxis": {
            "gridcolor": "white",
            "linecolor": "white",
            "ticks": ""
           }
          },
          "scene": {
           "xaxis": {
            "backgroundcolor": "#E5ECF6",
            "gridcolor": "white",
            "gridwidth": 2,
            "linecolor": "white",
            "showbackground": true,
            "ticks": "",
            "zerolinecolor": "white"
           },
           "yaxis": {
            "backgroundcolor": "#E5ECF6",
            "gridcolor": "white",
            "gridwidth": 2,
            "linecolor": "white",
            "showbackground": true,
            "ticks": "",
            "zerolinecolor": "white"
           },
           "zaxis": {
            "backgroundcolor": "#E5ECF6",
            "gridcolor": "white",
            "gridwidth": 2,
            "linecolor": "white",
            "showbackground": true,
            "ticks": "",
            "zerolinecolor": "white"
           }
          },
          "shapedefaults": {
           "line": {
            "color": "#2a3f5f"
           }
          },
          "ternary": {
           "aaxis": {
            "gridcolor": "white",
            "linecolor": "white",
            "ticks": ""
           },
           "baxis": {
            "gridcolor": "white",
            "linecolor": "white",
            "ticks": ""
           },
           "bgcolor": "#E5ECF6",
           "caxis": {
            "gridcolor": "white",
            "linecolor": "white",
            "ticks": ""
           }
          },
          "title": {
           "x": 0.05
          },
          "xaxis": {
           "automargin": true,
           "gridcolor": "white",
           "linecolor": "white",
           "ticks": "",
           "title": {
            "standoff": 15
           },
           "zerolinecolor": "white",
           "zerolinewidth": 2
          },
          "yaxis": {
           "automargin": true,
           "gridcolor": "white",
           "linecolor": "white",
           "ticks": "",
           "title": {
            "standoff": 15
           },
           "zerolinecolor": "white",
           "zerolinewidth": 2
          }
         }
        },
        "xaxis": {
         "anchor": "y",
         "domain": [
          0,
          1
         ],
         "title": {
          "text": "sex"
         }
        },
        "yaxis": {
         "anchor": "x",
         "domain": [
          0,
          1
         ],
         "title": {
          "text": "scaled_age"
         }
        }
       }
      }
     },
     "metadata": {},
     "output_type": "display_data"
    }
   ],
   "source": [
    "px.box(df , x=\"sex\" , y=\"scaled_age\")"
   ]
  },
  {
   "cell_type": "markdown",
   "metadata": {},
   "source": [
    "# Enconding"
   ]
  },
  {
   "cell_type": "markdown",
   "metadata": {},
   "source": [
    "## Ordinal Encoding"
   ]
  },
  {
   "cell_type": "markdown",
   "metadata": {},
   "source": [
    "- Class "
   ]
  },
  {
   "cell_type": "code",
   "execution_count": 140,
   "metadata": {},
   "outputs": [
    {
     "name": "stdout",
     "output_type": "stream",
     "text": [
      "     survived     sex       age  sibsp  parch     fare  class  embark_town  \\\n",
      "0           0    male  22.00000      1      0   7.2500  Third  Southampton   \n",
      "1           1  female  38.00000      1      0  71.2833  First    Cherbourg   \n",
      "2           1  female  26.00000      0      0   7.9250  Third  Southampton   \n",
      "3           1  female  35.00000      1      0  53.1000  First  Southampton   \n",
      "4           0    male  35.00000      0      0   8.0500  Third  Southampton   \n",
      "..        ...     ...       ...    ...    ...      ...    ...          ...   \n",
      "885         0  female  39.00000      0      5  29.1250  Third   Queenstown   \n",
      "887         1  female  19.00000      0      0  30.0000  First  Southampton   \n",
      "888         0  female  25.14062      1      2  23.4500  Third  Southampton   \n",
      "889         1    male  26.00000      0      0  30.0000  First    Cherbourg   \n",
      "890         0    male  32.00000      0      0   7.7500  Third   Queenstown   \n",
      "\n",
      "    category_age  scaled_fare  scaled_age  pclass_encoded  \n",
      "0           Teen     0.101707    0.350438             2.0  \n",
      "1          Adult     1.000000    0.610263             0.0  \n",
      "2           Teen     0.111176    0.415395             2.0  \n",
      "3          Adult     0.744915    0.561546             0.0  \n",
      "4          Adult     0.112930    0.561546             2.0  \n",
      "..           ...          ...         ...             ...  \n",
      "885        Adult     0.408581    0.626502             2.0  \n",
      "887        child     0.420856    0.301721             0.0  \n",
      "888         Teen     0.328969    0.401439             2.0  \n",
      "889         Teen     0.420856    0.415395             0.0  \n",
      "890        Adult     0.108721    0.512829             2.0  \n",
      "\n",
      "[665 rows x 12 columns]\n"
     ]
    }
   ],
   "source": [
    "from sklearn.preprocessing import OrdinalEncoder\n",
    "\n",
    "# Ordinal Encoding\n",
    "ordinal_encoder = OrdinalEncoder(categories=[['First', 'Second', 'Third']])\n",
    "\n",
    "df['pclass_encoded'] = ordinal_encoder.fit_transform(df[['class']])\n",
    "\n",
    "print(df)"
   ]
  },
  {
   "cell_type": "markdown",
   "metadata": {},
   "source": [
    "- Embark_town"
   ]
  },
  {
   "cell_type": "code",
   "execution_count": 141,
   "metadata": {},
   "outputs": [
    {
     "data": {
      "text/plain": [
       "array(['Southampton', 'Cherbourg', 'Queenstown'], dtype=object)"
      ]
     },
     "execution_count": 141,
     "metadata": {},
     "output_type": "execute_result"
    }
   ],
   "source": [
    "df.embark_town.unique()"
   ]
  },
  {
   "cell_type": "code",
   "execution_count": 142,
   "metadata": {},
   "outputs": [
    {
     "data": {
      "text/html": [
       "<div>\n",
       "<style scoped>\n",
       "    .dataframe tbody tr th:only-of-type {\n",
       "        vertical-align: middle;\n",
       "    }\n",
       "\n",
       "    .dataframe tbody tr th {\n",
       "        vertical-align: top;\n",
       "    }\n",
       "\n",
       "    .dataframe thead th {\n",
       "        text-align: right;\n",
       "    }\n",
       "</style>\n",
       "<table border=\"1\" class=\"dataframe\">\n",
       "  <thead>\n",
       "    <tr style=\"text-align: right;\">\n",
       "      <th></th>\n",
       "      <th>survived</th>\n",
       "      <th>sex</th>\n",
       "      <th>age</th>\n",
       "      <th>sibsp</th>\n",
       "      <th>parch</th>\n",
       "      <th>fare</th>\n",
       "      <th>class</th>\n",
       "      <th>embark_town</th>\n",
       "      <th>category_age</th>\n",
       "      <th>scaled_fare</th>\n",
       "      <th>scaled_age</th>\n",
       "      <th>pclass_encoded</th>\n",
       "      <th>embark_encoded</th>\n",
       "    </tr>\n",
       "  </thead>\n",
       "  <tbody>\n",
       "    <tr>\n",
       "      <th>0</th>\n",
       "      <td>0</td>\n",
       "      <td>male</td>\n",
       "      <td>22.0</td>\n",
       "      <td>1</td>\n",
       "      <td>0</td>\n",
       "      <td>7.2500</td>\n",
       "      <td>Third</td>\n",
       "      <td>Southampton</td>\n",
       "      <td>Teen</td>\n",
       "      <td>0.101707</td>\n",
       "      <td>0.350438</td>\n",
       "      <td>2.0</td>\n",
       "      <td>0.0</td>\n",
       "    </tr>\n",
       "    <tr>\n",
       "      <th>1</th>\n",
       "      <td>1</td>\n",
       "      <td>female</td>\n",
       "      <td>38.0</td>\n",
       "      <td>1</td>\n",
       "      <td>0</td>\n",
       "      <td>71.2833</td>\n",
       "      <td>First</td>\n",
       "      <td>Cherbourg</td>\n",
       "      <td>Adult</td>\n",
       "      <td>1.000000</td>\n",
       "      <td>0.610263</td>\n",
       "      <td>0.0</td>\n",
       "      <td>1.0</td>\n",
       "    </tr>\n",
       "    <tr>\n",
       "      <th>2</th>\n",
       "      <td>1</td>\n",
       "      <td>female</td>\n",
       "      <td>26.0</td>\n",
       "      <td>0</td>\n",
       "      <td>0</td>\n",
       "      <td>7.9250</td>\n",
       "      <td>Third</td>\n",
       "      <td>Southampton</td>\n",
       "      <td>Teen</td>\n",
       "      <td>0.111176</td>\n",
       "      <td>0.415395</td>\n",
       "      <td>2.0</td>\n",
       "      <td>0.0</td>\n",
       "    </tr>\n",
       "    <tr>\n",
       "      <th>3</th>\n",
       "      <td>1</td>\n",
       "      <td>female</td>\n",
       "      <td>35.0</td>\n",
       "      <td>1</td>\n",
       "      <td>0</td>\n",
       "      <td>53.1000</td>\n",
       "      <td>First</td>\n",
       "      <td>Southampton</td>\n",
       "      <td>Adult</td>\n",
       "      <td>0.744915</td>\n",
       "      <td>0.561546</td>\n",
       "      <td>0.0</td>\n",
       "      <td>0.0</td>\n",
       "    </tr>\n",
       "    <tr>\n",
       "      <th>4</th>\n",
       "      <td>0</td>\n",
       "      <td>male</td>\n",
       "      <td>35.0</td>\n",
       "      <td>0</td>\n",
       "      <td>0</td>\n",
       "      <td>8.0500</td>\n",
       "      <td>Third</td>\n",
       "      <td>Southampton</td>\n",
       "      <td>Adult</td>\n",
       "      <td>0.112930</td>\n",
       "      <td>0.561546</td>\n",
       "      <td>2.0</td>\n",
       "      <td>0.0</td>\n",
       "    </tr>\n",
       "  </tbody>\n",
       "</table>\n",
       "</div>"
      ],
      "text/plain": [
       "   survived     sex   age  sibsp  parch     fare  class  embark_town  \\\n",
       "0         0    male  22.0      1      0   7.2500  Third  Southampton   \n",
       "1         1  female  38.0      1      0  71.2833  First    Cherbourg   \n",
       "2         1  female  26.0      0      0   7.9250  Third  Southampton   \n",
       "3         1  female  35.0      1      0  53.1000  First  Southampton   \n",
       "4         0    male  35.0      0      0   8.0500  Third  Southampton   \n",
       "\n",
       "  category_age  scaled_fare  scaled_age  pclass_encoded  embark_encoded  \n",
       "0         Teen     0.101707    0.350438             2.0             0.0  \n",
       "1        Adult     1.000000    0.610263             0.0             1.0  \n",
       "2         Teen     0.111176    0.415395             2.0             0.0  \n",
       "3        Adult     0.744915    0.561546             0.0             0.0  \n",
       "4        Adult     0.112930    0.561546             2.0             0.0  "
      ]
     },
     "execution_count": 142,
     "metadata": {},
     "output_type": "execute_result"
    }
   ],
   "source": [
    "from sklearn.preprocessing import OrdinalEncoder\n",
    "\n",
    "# Ordinal Encoding\n",
    "ordinal_encoder = OrdinalEncoder(categories=[['Southampton', 'Cherbourg', 'Queenstown']])\n",
    "df['embark_encoded'] = ordinal_encoder.fit_transform(df[['embark_town']])\n",
    "df.head()"
   ]
  },
  {
   "cell_type": "markdown",
   "metadata": {},
   "source": [
    "- Categories_age"
   ]
  },
  {
   "cell_type": "code",
   "execution_count": 143,
   "metadata": {},
   "outputs": [
    {
     "data": {
      "text/html": [
       "<div>\n",
       "<style scoped>\n",
       "    .dataframe tbody tr th:only-of-type {\n",
       "        vertical-align: middle;\n",
       "    }\n",
       "\n",
       "    .dataframe tbody tr th {\n",
       "        vertical-align: top;\n",
       "    }\n",
       "\n",
       "    .dataframe thead th {\n",
       "        text-align: right;\n",
       "    }\n",
       "</style>\n",
       "<table border=\"1\" class=\"dataframe\">\n",
       "  <thead>\n",
       "    <tr style=\"text-align: right;\">\n",
       "      <th></th>\n",
       "      <th>survived</th>\n",
       "      <th>sex</th>\n",
       "      <th>age</th>\n",
       "      <th>sibsp</th>\n",
       "      <th>parch</th>\n",
       "      <th>fare</th>\n",
       "      <th>class</th>\n",
       "      <th>embark_town</th>\n",
       "      <th>category_age</th>\n",
       "      <th>scaled_fare</th>\n",
       "      <th>scaled_age</th>\n",
       "      <th>pclass_encoded</th>\n",
       "      <th>embark_encoded</th>\n",
       "      <th>category_age_encoded</th>\n",
       "    </tr>\n",
       "  </thead>\n",
       "  <tbody>\n",
       "    <tr>\n",
       "      <th>0</th>\n",
       "      <td>0</td>\n",
       "      <td>male</td>\n",
       "      <td>22.0</td>\n",
       "      <td>1</td>\n",
       "      <td>0</td>\n",
       "      <td>7.2500</td>\n",
       "      <td>Third</td>\n",
       "      <td>Southampton</td>\n",
       "      <td>Teen</td>\n",
       "      <td>0.101707</td>\n",
       "      <td>0.350438</td>\n",
       "      <td>2.0</td>\n",
       "      <td>0.0</td>\n",
       "      <td>2.0</td>\n",
       "    </tr>\n",
       "    <tr>\n",
       "      <th>1</th>\n",
       "      <td>1</td>\n",
       "      <td>female</td>\n",
       "      <td>38.0</td>\n",
       "      <td>1</td>\n",
       "      <td>0</td>\n",
       "      <td>71.2833</td>\n",
       "      <td>First</td>\n",
       "      <td>Cherbourg</td>\n",
       "      <td>Adult</td>\n",
       "      <td>1.000000</td>\n",
       "      <td>0.610263</td>\n",
       "      <td>0.0</td>\n",
       "      <td>1.0</td>\n",
       "      <td>3.0</td>\n",
       "    </tr>\n",
       "    <tr>\n",
       "      <th>2</th>\n",
       "      <td>1</td>\n",
       "      <td>female</td>\n",
       "      <td>26.0</td>\n",
       "      <td>0</td>\n",
       "      <td>0</td>\n",
       "      <td>7.9250</td>\n",
       "      <td>Third</td>\n",
       "      <td>Southampton</td>\n",
       "      <td>Teen</td>\n",
       "      <td>0.111176</td>\n",
       "      <td>0.415395</td>\n",
       "      <td>2.0</td>\n",
       "      <td>0.0</td>\n",
       "      <td>2.0</td>\n",
       "    </tr>\n",
       "    <tr>\n",
       "      <th>3</th>\n",
       "      <td>1</td>\n",
       "      <td>female</td>\n",
       "      <td>35.0</td>\n",
       "      <td>1</td>\n",
       "      <td>0</td>\n",
       "      <td>53.1000</td>\n",
       "      <td>First</td>\n",
       "      <td>Southampton</td>\n",
       "      <td>Adult</td>\n",
       "      <td>0.744915</td>\n",
       "      <td>0.561546</td>\n",
       "      <td>0.0</td>\n",
       "      <td>0.0</td>\n",
       "      <td>3.0</td>\n",
       "    </tr>\n",
       "    <tr>\n",
       "      <th>4</th>\n",
       "      <td>0</td>\n",
       "      <td>male</td>\n",
       "      <td>35.0</td>\n",
       "      <td>0</td>\n",
       "      <td>0</td>\n",
       "      <td>8.0500</td>\n",
       "      <td>Third</td>\n",
       "      <td>Southampton</td>\n",
       "      <td>Adult</td>\n",
       "      <td>0.112930</td>\n",
       "      <td>0.561546</td>\n",
       "      <td>2.0</td>\n",
       "      <td>0.0</td>\n",
       "      <td>3.0</td>\n",
       "    </tr>\n",
       "  </tbody>\n",
       "</table>\n",
       "</div>"
      ],
      "text/plain": [
       "   survived     sex   age  sibsp  parch     fare  class  embark_town  \\\n",
       "0         0    male  22.0      1      0   7.2500  Third  Southampton   \n",
       "1         1  female  38.0      1      0  71.2833  First    Cherbourg   \n",
       "2         1  female  26.0      0      0   7.9250  Third  Southampton   \n",
       "3         1  female  35.0      1      0  53.1000  First  Southampton   \n",
       "4         0    male  35.0      0      0   8.0500  Third  Southampton   \n",
       "\n",
       "  category_age  scaled_fare  scaled_age  pclass_encoded  embark_encoded  \\\n",
       "0         Teen     0.101707    0.350438             2.0             0.0   \n",
       "1        Adult     1.000000    0.610263             0.0             1.0   \n",
       "2         Teen     0.111176    0.415395             2.0             0.0   \n",
       "3        Adult     0.744915    0.561546             0.0             0.0   \n",
       "4        Adult     0.112930    0.561546             2.0             0.0   \n",
       "\n",
       "   category_age_encoded  \n",
       "0                   2.0  \n",
       "1                   3.0  \n",
       "2                   2.0  \n",
       "3                   3.0  \n",
       "4                   3.0  "
      ]
     },
     "execution_count": 143,
     "metadata": {},
     "output_type": "execute_result"
    }
   ],
   "source": [
    "from sklearn.preprocessing import OrdinalEncoder\n",
    "\n",
    "# Ordinal Encoding\n",
    "ordinal_encoder = OrdinalEncoder(categories=[['Baby', 'child', 'Teen', 'Adult', 'Middle-Aged', 'Old-Aged', 'Senior', 'Elderly']])\n",
    "df['category_age_encoded'] = ordinal_encoder.fit_transform(df[['category_age']])\n",
    "df.head()"
   ]
  },
  {
   "cell_type": "markdown",
   "metadata": {},
   "source": [
    "- Remove Categorical Columns"
   ]
  },
  {
   "cell_type": "code",
   "execution_count": null,
   "metadata": {},
   "outputs": [],
   "source": [
    "df.drop(columns=\"sex\", inplace=True)\n",
    "df.drop(columns=\"class\", inplace=True)\n",
    "df.drop(columns=\"embark_town\", inplace=True)\n",
    "df.drop(columns=\"category_age\", inplace=True)\n"
   ]
  },
  {
   "cell_type": "code",
   "execution_count": 147,
   "metadata": {},
   "outputs": [
    {
     "data": {
      "text/html": [
       "<div>\n",
       "<style scoped>\n",
       "    .dataframe tbody tr th:only-of-type {\n",
       "        vertical-align: middle;\n",
       "    }\n",
       "\n",
       "    .dataframe tbody tr th {\n",
       "        vertical-align: top;\n",
       "    }\n",
       "\n",
       "    .dataframe thead th {\n",
       "        text-align: right;\n",
       "    }\n",
       "</style>\n",
       "<table border=\"1\" class=\"dataframe\">\n",
       "  <thead>\n",
       "    <tr style=\"text-align: right;\">\n",
       "      <th></th>\n",
       "      <th>survived</th>\n",
       "      <th>age</th>\n",
       "      <th>sibsp</th>\n",
       "      <th>parch</th>\n",
       "      <th>fare</th>\n",
       "      <th>scaled_fare</th>\n",
       "      <th>scaled_age</th>\n",
       "      <th>pclass_encoded</th>\n",
       "      <th>embark_encoded</th>\n",
       "      <th>category_age_encoded</th>\n",
       "    </tr>\n",
       "  </thead>\n",
       "  <tbody>\n",
       "    <tr>\n",
       "      <th>0</th>\n",
       "      <td>0</td>\n",
       "      <td>22.0</td>\n",
       "      <td>1</td>\n",
       "      <td>0</td>\n",
       "      <td>7.2500</td>\n",
       "      <td>0.101707</td>\n",
       "      <td>0.350438</td>\n",
       "      <td>2.0</td>\n",
       "      <td>0.0</td>\n",
       "      <td>2.0</td>\n",
       "    </tr>\n",
       "    <tr>\n",
       "      <th>1</th>\n",
       "      <td>1</td>\n",
       "      <td>38.0</td>\n",
       "      <td>1</td>\n",
       "      <td>0</td>\n",
       "      <td>71.2833</td>\n",
       "      <td>1.000000</td>\n",
       "      <td>0.610263</td>\n",
       "      <td>0.0</td>\n",
       "      <td>1.0</td>\n",
       "      <td>3.0</td>\n",
       "    </tr>\n",
       "    <tr>\n",
       "      <th>2</th>\n",
       "      <td>1</td>\n",
       "      <td>26.0</td>\n",
       "      <td>0</td>\n",
       "      <td>0</td>\n",
       "      <td>7.9250</td>\n",
       "      <td>0.111176</td>\n",
       "      <td>0.415395</td>\n",
       "      <td>2.0</td>\n",
       "      <td>0.0</td>\n",
       "      <td>2.0</td>\n",
       "    </tr>\n",
       "    <tr>\n",
       "      <th>3</th>\n",
       "      <td>1</td>\n",
       "      <td>35.0</td>\n",
       "      <td>1</td>\n",
       "      <td>0</td>\n",
       "      <td>53.1000</td>\n",
       "      <td>0.744915</td>\n",
       "      <td>0.561546</td>\n",
       "      <td>0.0</td>\n",
       "      <td>0.0</td>\n",
       "      <td>3.0</td>\n",
       "    </tr>\n",
       "    <tr>\n",
       "      <th>4</th>\n",
       "      <td>0</td>\n",
       "      <td>35.0</td>\n",
       "      <td>0</td>\n",
       "      <td>0</td>\n",
       "      <td>8.0500</td>\n",
       "      <td>0.112930</td>\n",
       "      <td>0.561546</td>\n",
       "      <td>2.0</td>\n",
       "      <td>0.0</td>\n",
       "      <td>3.0</td>\n",
       "    </tr>\n",
       "  </tbody>\n",
       "</table>\n",
       "</div>"
      ],
      "text/plain": [
       "   survived   age  sibsp  parch     fare  scaled_fare  scaled_age  \\\n",
       "0         0  22.0      1      0   7.2500     0.101707    0.350438   \n",
       "1         1  38.0      1      0  71.2833     1.000000    0.610263   \n",
       "2         1  26.0      0      0   7.9250     0.111176    0.415395   \n",
       "3         1  35.0      1      0  53.1000     0.744915    0.561546   \n",
       "4         0  35.0      0      0   8.0500     0.112930    0.561546   \n",
       "\n",
       "   pclass_encoded  embark_encoded  category_age_encoded  \n",
       "0             2.0             0.0                   2.0  \n",
       "1             0.0             1.0                   3.0  \n",
       "2             2.0             0.0                   2.0  \n",
       "3             0.0             0.0                   3.0  \n",
       "4             2.0             0.0                   3.0  "
      ]
     },
     "execution_count": 147,
     "metadata": {},
     "output_type": "execute_result"
    }
   ],
   "source": [
    "df.head()"
   ]
  }
 ],
 "metadata": {
  "kernelspec": {
   "display_name": "python_eda",
   "language": "python",
   "name": "python3"
  },
  "language_info": {
   "codemirror_mode": {
    "name": "ipython",
    "version": 3
   },
   "file_extension": ".py",
   "mimetype": "text/x-python",
   "name": "python",
   "nbconvert_exporter": "python",
   "pygments_lexer": "ipython3",
   "version": "3.12.0"
  }
 },
 "nbformat": 4,
 "nbformat_minor": 2
}
